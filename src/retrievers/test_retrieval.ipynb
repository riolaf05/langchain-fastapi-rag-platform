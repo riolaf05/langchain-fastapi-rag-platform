{
 "cells": [
  {
   "cell_type": "code",
   "execution_count": 1,
   "metadata": {},
   "outputs": [],
   "source": [
    "from langchain import OpenAI, VectorDBQA, LLMChain\n",
    "from langchain.prompts import PromptTemplate\n",
    "import os\n",
    "from dotenv import load_dotenv\n",
    "from langchain.embeddings.openai import OpenAIEmbeddings\n",
    "from langchain.vectorstores import Chroma\n",
    "from langchain.text_splitter import RecursiveCharacterTextSplitter\n",
    "from langchain.document_loaders import TextLoader"
   ]
  },
  {
   "cell_type": "code",
   "execution_count": 2,
   "metadata": {},
   "outputs": [],
   "source": [
    "import sys\n",
    "sys.path.append(r\"C:\\Users\\ELAFACRB1\\Codice\\GitHub\\media-chat-service\\src\\embedding\")\n",
    "from utils import ChromaDBManager, LangChainAI, QDrantDBManager, EmbeddingFunction"
   ]
  },
  {
   "cell_type": "code",
   "execution_count": 3,
   "metadata": {},
   "outputs": [],
   "source": [
    "from langchain.chat_models import ChatOpenAI\n",
    "from langchain.chains import RetrievalQA"
   ]
  },
  {
   "cell_type": "code",
   "execution_count": 4,
   "metadata": {},
   "outputs": [
    {
     "name": "stderr",
     "output_type": "stream",
     "text": [
      "c:\\Users\\ELAFACRB1\\venvs\\langchain\\Lib\\site-packages\\langchain_core\\_api\\deprecation.py:117: LangChainDeprecationWarning: The class `langchain_community.chat_models.openai.ChatOpenAI` was deprecated in langchain-community 0.0.10 and will be removed in 0.2.0. An updated version of the class exists in the langchain-openai package and should be used instead. To use it run `pip install -U langchain-openai` and import as `from langchain_openai import ChatOpenAI`.\n",
      "  warn_deprecated(\n"
     ]
    }
   ],
   "source": [
    "# llm = ChatOpenAI(temperature=0, model=\"gpt-3.5-turbo-0613\")\n",
    "llm = ChatOpenAI(temperature=0, model=\"gpt-3.5-turbo-16k-0613\")"
   ]
  },
  {
   "cell_type": "code",
   "execution_count": 5,
   "metadata": {},
   "outputs": [
    {
     "name": "stderr",
     "output_type": "stream",
     "text": [
      "c:\\Users\\ELAFACRB1\\venvs\\langchain\\Lib\\site-packages\\langchain_core\\_api\\deprecation.py:117: LangChainDeprecationWarning: The class `langchain_community.embeddings.openai.OpenAIEmbeddings` was deprecated in langchain-community 0.1.0 and will be removed in 0.2.0. An updated version of the class exists in the langchain-openai package and should be used instead. To use it run `pip install -U langchain-openai` and import as `from langchain_openai import OpenAIEmbeddings`.\n",
      "  warn_deprecated(\n"
     ]
    },
    {
     "name": "stdout",
     "output_type": "stream",
     "text": [
      "Collection rio-rag-platform already exists!\n"
     ]
    }
   ],
   "source": [
    "embedding = EmbeddingFunction('openAI').embedder\n",
    "vectore_store=qdrantClient = QDrantDBManager(\n",
    "    url=\"http://ec2-18-209-145-26.compute-1.amazonaws.com:6333/dashboard\",\n",
    "    port=6333,\n",
    "    collection_name=\"rio-rag-platform\",\n",
    "    vector_size=1536,\n",
    "    embedding=embedding,\n",
    "    record_manager_url=r\"sqlite:///C:\\Users\\ELAFACRB1\\Codice\\GitHub\\media-chat-service\\src\\embedding\\record_manager_cache.sql\"\n",
    ")\n",
    "vectore_store_client=vectore_store.vector_store"
   ]
  },
  {
   "cell_type": "code",
   "execution_count": 6,
   "metadata": {},
   "outputs": [],
   "source": [
    "COLLECTION_NAME=\"rio-rag-platform\""
   ]
  },
  {
   "cell_type": "code",
   "execution_count": 7,
   "metadata": {},
   "outputs": [],
   "source": [
    "qa_chain = RetrievalQA.from_chain_type(\n",
    "    llm,\n",
    "    chain_type=\"stuff\",\n",
    "    retriever=vectore_store_client.as_retriever(),\n",
    "    return_source_documents=True,\n",
    ")"
   ]
  },
  {
   "cell_type": "code",
   "execution_count": 8,
   "metadata": {},
   "outputs": [],
   "source": [
    "query='puoi consigliarmi qualche caffè letterario? '"
   ]
  },
  {
   "cell_type": "code",
   "execution_count": 9,
   "metadata": {},
   "outputs": [
    {
     "name": "stderr",
     "output_type": "stream",
     "text": [
      "c:\\Users\\ELAFACRB1\\venvs\\langchain\\Lib\\site-packages\\langchain_core\\_api\\deprecation.py:117: LangChainDeprecationWarning: The function `__call__` was deprecated in LangChain 0.1.0 and will be removed in 0.2.0. Use invoke instead.\n",
      "  warn_deprecated(\n"
     ]
    },
    {
     "data": {
      "text/plain": [
       "{'query': 'puoi consigliarmi qualche caffè letterario? ',\n",
       " 'result': \"Ecco alcuni caffè letterari a Milano che potresti considerare:\\n\\n1. Lapsus - Via Meda 38, Milano\\n2. Long Song Books & Café - Via Stoppani 11, Milano\\n3. Mamusca - Via Davanzati 2, Milano\\n4. La Scatola Lilla - Après Coup - Via Privata della Braida 5, Milano\\n5. Anarres - Via Crespi 11, Milano\\n6. Ècate - Via Pomponazzi 9E, Milano\\n7. Gogol & Company - Via Savona 101, Milano\\n8. Colibrì - Via Laghetto 9/11, Milano\\n9. L'Arabesque - Largo Augusto 10, Milano\\n10. Librosteria - Via Cesariano 7, Milano\\n11. Germi - Via Cicco Simonetta 14/A, Milano\\n12. Verso - Corso di Porta Ticinese 40, Milano\\n13. Open - Viale Monte Nero 6, Milano\\n14. Babitonga Café - Viale Pasubio 5, Milano\\n15. RED La Feltrinelli - Piazza Tre Torri, Milano / Piazza Gae Aulenti 1, Milano\\n\\nSpero che questa lista ti sia utile!\",\n",
       " 'source_documents': [Document(page_content='\\n\\n\\n\\n\\n\\n\\n\\n\\n\\n\\n\\n\\n\\n\\n\\n\\n\\n\\n\\n\\nMangiare e bere tra i libri: 15 caffè letterari a Milano - Conosco un posto\\n\\n\\n\\n\\n\\n\\n\\n\\n\\n\\n\\n\\n\\n\\n\\n\\n\\n\\n\\n\\n\\n\\n\\n\\n\\n\\n\\n\\n \\n\\n\\n\\n\\n\\n\\n\\n\\n\\n\\nBere&mangiare\\n\\n\\nDove?\\n\\nArco della Pace&Sempione\\nBrera&Garibaldi\\nCadorna&Sant’Ambrogio\\nCentrale&Repubblica\\nCinque Giornate\\nCittà Studi\\nDuomo&San Babila\\nIsola\\nLambrate\\nLoreto&Nolo\\nNavigli&Porta Genova\\nPorta Romana&Lodi\\nPorta Venezia\\nSarpi&Monumentale\\nSant’Agostino&Solari\\nWagner&De Angeli\\nUn po’ più fuori\\n\\n\\nCosa?\\n\\nPizza\\nCarne\\nPesce\\nItaliano\\nTrattorie&Osterie\\nEtnico\\nGiapponese\\nCinese\\nVeggie&Gluten Free\\nStreet Food\\nGelato\\nDolci&Pane\\nGastronomie&Alimentari\\n\\n\\nMood?\\n\\nInformale\\nAll’aperto\\nKids Friendly\\nPet friendly\\nOccasione speciale\\nTiratardi\\nUscite di gruppo&Feste\\nDelivery\\n\\n\\nQuando?\\n\\nColazione\\nBrunch\\nPranzo&Cena\\nMerenda\\nAperitivo\\nDopocena\\n\\n\\nQuanto vuoi spendere?\\n\\n€\\n€€\\n€€€\\n\\n\\nI nostri preferiti\\nNovità\\nCompilation\\n\\n\\n\\nVivere&Fare\\n\\n\\nCultura\\nEventi\\nShopping\\nIdee regalo\\nBeauty&Relax\\nGreen&Sociale\\nApp&Tech\\nSport\\nPasseggiate\\nDormire\\n\\n\\n\\nMappa\\nGuide di quartiere\\nViaggi\\n\\n\\nGite fuori porta\\nCittà\\nRoad trip\\nMete lontane\\n\\n\\n\\nInterviste\\nCucinare&leggere\\n\\n\\nLibri\\nHome Edition\\nSchiscette\\nCene Anziane\\n\\n\\n\\nMerch\\nAbout\\n\\n\\nChi Siamo\\nCollaborazioni\\nPress\\n\\n\\n\\n\\n\\n\\n\\n\\n\\n\\n\\n \\n\\n\\n\\nAperitivo Bere&mangiare Brunch Colazione Compilation Cultura Merenda Pranzo&Cena Quando? Vivere&Fare \\nMangiare e bere tra i libri: 15 caffè letterari a Milano\\n\\n Carlotta Coppo06/02/20240550 views \\n\\n\\n \\n\\nSe amate i libri al punto da sentirvi appagati anche solo dalla loro presenza, gli ambienti ibridi che vi stiamo per raccontare – ovvero librerie prevalentemente indipendenti con annessi bistrot, caffetterie o cocktail bar -, potrebbero essere i posti perfetti in cui godervi una semplice pausa caffè, un vero e proprio pasto o un drink a fine giornata, sia da soli che in compagnia. La nostra città ne è per fortuna piena, e in questo articolo passeremo in rassegna 15 caffè letterari a Milano dove poter mangiare e bere circondati da libri, con la possibilità di acquistarli! \\n15 CAFFÈ LETTERARI A MILANO CHE CI PIACCIONO\\nLAPSUS\\n\\nIl dehors e le vetrine di Lapsus | © Carlotta Coppo\\nCominciamo la nostra rassegna di caffè letterari a Milano da via Meda, dove si trova Lapsus, libreria indipendente e caffetteria, aperta a settembre 2016. Qui viene prestata particolare attenzione all’editoria per l’infanzia: vi è infatti un’intera stanza dedicata ai più piccoli, che possono trovare albi illustrati, narrativa e giochi educativi. Non per questo, però, la selezione di libri per adulti è meno attenta e scrupolosa. La caffetteria – perfetta per una colazione, una pausa caffè, una merenda ma anche un aperitivo (sul presto, dato che Lapsus chiude alle 19) – propone piatti freddi, zuppe, centrifugati e dolci, preparati con prodotti stagionali, biologici e a filiera corta.\\nLAPSUS. Via Meda 38, Milano. 0236562121. Aperto tutti i giorni (8-19) tranne domenica. \\nLONG SONG BOOKS & CAFÈ\\n\\nUn angolo di Long Song Books & Café | © Carlotta Coppo\\nBisogna invece spostarsi in Porta Venezia per trovare questa graziosa libreria di volumi di seconda mano – tra cui “introvabili” e prime edizioni – con caffetteria annessa, aperta da colazione fino a tarda sera. Qui si mangia e beve o all’interno – letteralmente circondati dai libri, che occupano tutte le pareti – o nel dehors. Pasticceria e brioches per colazione (nel weekend anche salata), piatti freddi e caldi per pranzo e cena ma anche cicchetti veneziani per l’aperitivo (un po’ costosetti, a dire il vero) e taglieri di salumi e formaggi, da accompagnare a una bella birra artigianale, a un calice di vino o un cocktail. Mattina e pomeriggio è anche consentito sostare per studiare o lavorare, con wi-fi a disposizione. A noi piace proprio tanto.\\nLONG SONG BOOKS & CAFÈ. Via Stoppani 11, Milano. 0249501699. Aperto tutti i giorni (da martedì a venerdì 7:30-24, sabato 10-24, domenica 10-21) tranne lunedì. \\nMAMUSCA\\n\\n\\nIn zona Dergano, invece, si trova Mamusca, nato come caffè letterario e poi diventato principalmente bistrot da quando ha avuto l’opportunità di allargarsi, trovando in Scamamù – libreria separata ma poco distante, nella stessa via – più spazio per i propri libri. Aperto da colazione a cena offre prime colazioni dolci e salate, dolci fatti in casa, insalate, tramezzini, piatti caldi, birre, vini e cocktail. Organizza anche laboratori per bambini ed eventi.\\xa0\\nMAMUSCA. Via Davanzati 2, Milano. 0283974943. Aperto tutti i giorni (8-22, sabato apertura alle 9) tranne domenica. \\nLA SCATOLA LILLA – APRÈS COUP\\nDi Après Coup avete già sentito parlare in diverse occasioni sul blog, perché si tratta di un locale vivace e multifunzionale adatto a diverse occasioni, a maggior ragione da quando La Scatola Lilla (libreria indipendente nata nel 2010 in un piccolo spazio in via Sannio) si è trasferita al suo interno. Di giorno Après Coup è chiuso e trovate ad accogliervi ‘solo’ Cristina Di Canio (proprietaria della libreria) coi suoi consigli letterari ma, a orario aperitivo, vengono spesso organizzate presentazioni di libri sul palco del locale, ancor più piacevoli se seguite spiluccando e sorseggiando qualcosa.\\xa0\\nLA SCATOLA LILLA. Via privata della Braida 5, Milano. 0249379035. Aperto da martedì a sabato (10-19:30).APRÈS COUP.\\xa0Via Privata della Braida 5, Milano.\\xa002 38243105. Aperto da martedì a sabato (18-1).\\nANARRES\\n\\nAnarres | © Carlotta Coppo\\nUno dei caffè letterari più interessanti e di recente apertura a Milano è Anarres, in zona Nolo. Bar, bistrot e libreria con arredi in legno: un ottimo posto per incontrarsi, rilassarsi, mangiare e bere e circondati dai libri (sia nuovi che usati), da mattina a dopo cena. Durante la settimana il menu è piuttosto stringato (tre piatti, di cui uno unico, da comporre a piacimento scegliendo tra alcune opzioni) e semplice, mentre nel weekend il cuoco, Oscar, si lascia andare, contaminando i proprio piatti con sapori e ingredienti tipici di altri Paesi. Tanti gli appuntamenti previsti ogni mese: ovviamente presentazioni ma anche musica live. Consigliata la prenotazione!\\nANARRES. Via Crespi 11, Milano. 3406870353. Aperto tutti i giorni (martedì e domenica 10-22, da mercoledì a sabato 10-24) tranne lunedì. \\nÈCATE\\n\\nUn angolo di Ècate | © Carlotta Coppo\\nIn una traversa che collega via Meda e via Pezzotti, a sud di Milano, si trova un altro ‘giovane’ caffè letterario, aperto nel 2022. Si chiama Ècate e prende il nome da una dea venerata in età pre-indoeuropea.  Dalle 8 alle 22, la sua cucina propone: pasticceria, panini (anch’essi intitolati a divinità femminili), insalate (con nomi di luoghi mitologici), piatti del giorno e taglieri di salumi e formaggi.; ma anche deliziose specialità pugliesi (pasticciotti, rustici e focaccia barese) e  piatti vegani, vegetariani e senza glutine. La domenica dalle 11 alle 15 è inoltre possibile fare il brunch, previa prenotazione. Incontri e attività culturali proposti, invece, sono pensati per approfondire le tematiche legate alla selezione di volumi della libreria: dalla nutrizione alle cure naturali, dalla psicologia all’esoterismo, dalla spiritualità alla mitologia.\\xa0\\nÈCATE. Via Pomponazzi 9E, Milano. 3285755732. Aperto tutti i giorni (8-22, domenica apertura alle 9) tranne martedì. \\nGOGOL & COMPANY\\n\\nUna sala di Gogol & Company| © Caterina Zanzi\\nOltre a essere un bar con coworking, Gogol & Company, che ha casa in zona Lorenteggio, è anche spazio espositivo e libreria. Qui si trovano narrativa e saggistica, volumi dedicati a fotografia e arti visive, enogastronomia e cultura underground, fumetti e titoli per i più piccoli, oltre ad aver luogo corsi specialistici di letteratura, scrittura, formazione editoriale e – nella bella stagione – serate musicali all’aperto.\\xa0Non vorremmo troppo sbilanciarci, ma è tra i nostri caffè letterari del cuore!\\nGOGOL & COMPANY. Via Savona 101, Milano. 0245470449. Aperto tutti i giorni (da martedì a venerdì 9-14 e 16-21, sabato e domenica 9-21) tranne lunedì. \\nCOLIBRÌ\\n\\n\\nLibreria e cortile interno di Colibrì | © Carlotta Coppo\\n\\nSì, lo sappiamo, abbiamo già inserito Colibrì in tantissimi articoli (tra cui quello fondamentale dei locali con un’alta concentrazione di boni) e sicuramente ormai lo conoscete bene, ma poteva forse mancare in questa selezione di caffè letterari di Milano? Assolutamente no; anche perché si tratta di una deliziosa location, tanto centrale quanto appartata e tranquilla. Di giorno servizio caffetteria e pochi piatti semplici e genuini per pranzo; la sera nachos, bruschette e taglieri di pizza o focaccia con humus da accompagnare a bibite, cocktail, vini e birra (anche analcolica). Nella bella stagione si può anche mangiare e bere all’aperto, accomodandosi nel cortiletto interno o in uno dei tavolini in piazza. Colibrì offre anche tanti incontri dal vivo, tra cui presentazioni di libri, mostre, concertini e gruppi di lettura.\\xa0\\nCOLIBRÌ. Via Laghetto 9/11, Milano. 3494016961. Aperto tutti i giorni (lunedì 8:30-22, da martedì a venerdì 8:30-24, sabato 16-24) tranne domenica. \\nL’ARABESQUE\\n\\nLibreria e bistrot di L’arabesque | © Carlotta Coppo\\n\\n\\nSempre in centro, poco distante da Colibrì, si trova uno dei posti più multiformi di Milano: L’Arabesque. Negozio di abbigliamento, gioielli e fragranze; cafè; galleria di design; archivio di capi vintage; palestra di pilates, yoga e funzionale ma anche libreria, L’Arabesque merita di certo almeno una visita, anche perché ha di recente subito un restyling che lo ha reso un po’….spaziale! Il catalogo della libreria contiene prevalentemente volumi dedicati a moda, architettura, design, cinema e fotografia (se siete in cerca di un bel coffee table book, insomma, questo è il luogo giusto!) oltre a una selezione di biografie, saggi e romanzi. Il bistrot – perfetto anche per un business lunch – serve piatti preparati con cura sia di carne e pesce che vegetariani per pranzo e cena, ma è possibile accomodarsi ai suoi tavolini anche per una colazione o un aperitivo. Qui non si pasteggia proprio tra i libri, ma bistrot e libreria sono adiacenti e da uno si può sbirciare nell’altro grazie a un grande oblò. Senz’altro tra gli indirizzi di questa rassegna il ‘premio sciccheria‘ se lo aggiudica lui.\\xa0L’ARABESQUE LIBRERIA. Largo Augusto 10, Milano. 0276394538. Aperto tutti i giorni (10:30-19) tranne domenica. L’ARABESQUE CAFÈ. Via Francesco Sforza 2, Milano. 0276341477. Aperto tutti i giorni (7:30-22) tranne domenica. \\nLIBROSTERIA\\n\\nUn’immagine di Librosteria | © Caterina Zanzi\\nIn zona Sempione si trova invece uno dei caffè letterari più conosciuti e frequentati di Milano: Librosteria. Qui si possono trovare libri di seconda mano (tra cui tanti titoli fuori catalogo);  o si può assistere a concerti, reading, presentazioni e poetry club open mic e, ovviamente, mangiare e bere qualcosa circondati da scaffali colmi di volumi e avvolti da una piacevole e vivace atmosfera. \\xa0\\nLIBROSTERIA. Via Cesariano 7, Milano. 0223187432. Aperto tutti i giorni (da lunedì a giovedì 17:30-24, venerdì 17:30-01, sabato 17-01, domenica 17-24).\\nGERMI\\n\\nUna libreria all’interno del locale | © Elisabetta De Candia\\nQuesto piccolo ma affascinante “luogo di contaminazione” culturale vicino alla Darsena, più che un caffè letterario è un cocktail bar letterario con ingresso riservato ai soci (quota annuale della tessera associativa 5€), in cui hanno luogo presentazioni di libri e di album, incontri e live musicali. In catalogo tantissimi titoli dedicati alla musica e ai suoi protagonisti (e come potrebbe essere altrimenti, dato che tra i fondatori di Germi ci sono Manuel Agnelli – ciao Manuel, ti amiamo, e Rodrigo D’Erasmo).\\xa0\\nGERMI. Via Cicco Simonetta 14/A, Milano. 0238314536. Aperto tutti i giorni (18-24) tranne lunedì.  \\nVERSO\\n\\nLa vetrina di Verso | © Carlotta Coppo\\nPer una pausa caffè (ma anche spritz) in zona Ticinese, c’è Verso. Questa libreria indipendente inaugurata quasi dieci anni fa è ormai diventata un punto di riferimento per gli amanti della lettura che qui, oltre a trovare tanti titoli di narrativa italiana e straniera, fumetti, graphic novel, grandi classici e ultime novità, possono anche rilassarsi, leggere, studiare o lavorare seduti al primo piano. C’è anche un’intera stanza dedicata ai lettori più giovani, per i quali vengono spesso organizzate letture e laboratori. Anche in questo caso il programma di eventi è fitto e molto interessante. Per scoprirlo, basta consultare il calendario costantemente aggiornato su sito e social.\\xa0\\nVERSO. Corso di Porta Ticinese 40, Milano. 028375648. Aperto tutti i giorni (9-21, domenica 11-19). \\nOPEN\\n\\nOpen | © Open\\nUn altro spazio estremamente versatile dove poter nutrire mente e corpo è Open, in zona Porta Romana; coworking con un’ampia area condivisa e sale meeting, distese di libri e bistrot. Un luogo luminoso e accogliente in cui consultare libri e riviste (a cui si può accedere tramite pass coworking), mangiare un boccone, lavorare o partecipare a uno dei tanti eventi letterari (o a una delle serate dedicate alla stand-up comedy).\\nOPEN. Viale Monte Nero 6, Milano. Aperto da lunedì a venerdì (8:30-21). \\nBABITONGA CAFÈ\\nDopo aver parlato di tutte queste librerie indipendenti ci sembrava giusto – per fare una panoramica il più possibile completa dei caffè letterari a Milano – menzionare anche un colosso come Feltrinelli. Iniziamo da zona Porta Volta, a pochi passi da Paolo Sarpi, dove si trova l’imponente edificio in vetro firmato dallo studio Herzog & de Meuron in cui ha casa Fondazione Feltrinelli. Lì, oltre agli archivi della casa editrice e alla sede di Microsoft, si trovano anche una sala lettura, una sala polifunzionale, una biblioteca e il Babitonga Café, dove poter consumare colazione, pranzo, merenda o aperitivo tra i libri. I cocktail sono molto buoni, e fanno lo spritz mes e mes come piace a noi.BABITONGA CAFÈ. Viale Pasubio 5, Milano. 0263793977. Aperto tutti i giorni (9-20, sabato e domenica apertura alle 10). \\nRED LA FELTRINELLI\\n\\nUn angolo di RED | © Ig RED La Feltrinelli\\nOltre al Babitonga Café, Feltrinelli a Milano ha altri tre caffè letterari in cui potersi godere un pasto circondati da migliaia di libri. Si chiamano RED, che sta per “read, eat and dream” si trovano a Citylife e in zona Isola. In tutti e tre le sedi ci si può accomodare per colazione, pranzo e aperitivo o una semplice pausa caffè.\\nRED LA FELTRINELLI. Piazza Tre Torri, Milano. 024986472. Aperto tutti i giorni (da lunedì a venerdì 10:15-19, sabato e domenica 10-19) | Piazza Gae Aulenti 1, Milano. 0265560259. Aperto tutti i giorni (da lunedì a venerdì 8-20, sabato 9-22, domenica 9-21).\\nSiete mai stati in uno di questi caffè letterari a Milano? Ne conoscete altri? Ditecelo qui sotto, oppure sulla nostra pagina Instagram!\\nQuesta compilation vi è piaciuta? Qui ne trovate altre che vi potrebbero interessare!\\nBisogno di ispirazione? Date un’occhiata alla nostra mappa sempre aggiornata!\\n\\n\\n\\n \\nCaffè letterari Librerie Librerie con bar LibriShareFacebookTwitterPinterestEmail \\n\\n\\n\\n\\n\\nprevious post\\n\\n\\n\\nEventi a Milano a febbraio 2024: cosa, dove e quando\\n\\n\\n\\n\\n\\n\\n\\nnext post\\n\\n\\n\\nDove fare colazione a Milano: 10 indirizzi che vi consigliamo\\n\\n\\n\\n\\n\\nRelated posts5 mostre a Milano da visitare assolutamente a marzoGastronomie vegane a Milano: 10 indirizzi da conoscereNuovi ristoranti a Milano: 10 indirizzi da non perdere a febbraio \\n\\nAdd Comment\\n \\n\\n\\n\\n\\n\\n View Desktop Version            \\n\\n\\n\\n\\n\\t\\t\\tCopyright 2019 Conoscounposto. Tutti i diritti riservati.        \\nBack To Top\\n\\n\\n\\n\\n\\n\\n\\n\\n\\n', metadata={'description': 'Ecco a voi una selezione di caffè letterari a Milano, dove poter mangiare e bere qualcosa circondati da tantissimi libri!', 'language': 'it-IT', 'source': 'https://www.conoscounposto.com/caffe-letterari-milano/amp/', 'title': 'Mangiare e bere tra i libri: 15 caffè letterari a Milano - Conosco un posto', '_id': '7d1050d9-4748-5a7c-b1e5-518f8bcfda82', '_collection_name': 'rio-rag-platform'}),\n",
       "  Document(page_content='But don’t worry if you’re not a quantum physicist — Kaku’s prose is as accessible as it is enlightening. He guides you through the intricacies of quantum mechanics with the charm of a wise old sage spinning tales by the campfire. You’ll laugh, you’ll gasp, and you might even find yourself questioning the very fabric of reality.', metadata={'authors': [], 'description': 'Are you ready to quantum leap into the future? Buckle up, because Michio Kaku’s “Quantum Supremacy” isn’t just a book — it’s a mind-bending journey through the cosmic corridors of quantum computing…', 'doc_id': '28afdc26-9b8b-4f44-9939-15be27c8e08c', 'feed': 'https://medium.com/feed/tag/quantum-computing', 'language': 'en', 'link': 'https://medium.com/@mimi_fun/quantum-supremacy-unveiled-riding-the-cosmic-wave-with-michio-kaku-8c75bb8a1f9b?source=rss------quantum_computing-5', 'publish_date': '2024-02-27T01:11:05.680000Z', 'title': 'Quantum Supremacy Unveiled: Riding the Cosmic Wave with Michio Kaku', '_id': '471bb0d8-0291-4805-8157-93952f733140', '_collection_name': 'rio-rag-platform'}),\n",
       "  Document(page_content='There are also many useful resources at arXiv, these include a draft edition of Wilde’s book, Ronald de Wolfe’s lecture notes for a Master’s level class, an interesting paper entitled Quantum algorithms for algebraic problems by Andrew Childs and Wim van Dam, and much else besides.', metadata={'authors': ['Stephen Addison'], 'description': 'I was recently asked to lead a semester long seminar in quantum computing — a topic in which I have long been interested. The question is where to start. In this article, I’m going to describe (and…', 'doc_id': 'fe0f6dcb-e8ec-484e-8c32-71dd5863b469', 'feed': 'https://medium.com/feed/tag/quantum-computing', 'language': 'en', 'link': 'https://medium.com/@sraddison/quantum-computing-resources-for-learning-e43747cf1f74?source=rss------quantum_computing-5', 'publish_date': '2024-02-27T01:37:19.253000Z', 'title': 'Quantum Computing: Resources for Learning', '_id': '2d4aecdc-c35f-4eab-bab0-484ea207d394', '_collection_name': 'rio-rag-platform'}),\n",
       "  Document(page_content='On 24th January, I had the pleasure of joining Daniel Doll Steinberg (DDS), his team and guests at his wonderful book launch in Waterstones in Leadenhall Market. Daniel’s book is called “Unsupervised” and it’s a stunning piece of thinking, exploring how rapidly emerging technologies are reshaping our society. The book is premised on highlighting the lack of supervision and control that exists in', metadata={'authors': ['Jonny Fry'], 'description': 'Written by Haydn Jones, Managing Director at Kroll (leading its global crypto and blockchain global), also acting as an expert witness in civil and criminal matters On 24th January, I had the…', 'doc_id': '7d8af3e8-53a8-4c12-b303-ebaa2bf202ef', 'feed': 'https://medium.com/feed/tag/quantum-computing', 'language': 'en', 'link': 'https://medium.com/digital-diplomacy/the-future-of-enterprise-technology-in-an-emergent-and-unsupervised-world-bda1d2551060?source=rss------quantum_computing-5', 'publish_date': '2024-02-27T06:29:34.973000Z', 'title': 'The future of enterprise technology in an emergent and unsupervised world', '_id': '4df717fa-f35c-40ce-a6b3-db5c7c2238ed', '_collection_name': 'rio-rag-platform'})]}"
      ]
     },
     "execution_count": 9,
     "metadata": {},
     "output_type": "execute_result"
    }
   ],
   "source": [
    "qa_chain(query)"
   ]
  },
  {
   "cell_type": "markdown",
   "metadata": {},
   "source": [
    "Parent document"
   ]
  },
  {
   "cell_type": "code",
   "execution_count": 10,
   "metadata": {},
   "outputs": [],
   "source": [
    "from langchain.retrievers import ParentDocumentRetriever\n",
    "from langchain.storage import InMemoryStore\n",
    "from langchain.text_splitter import RecursiveCharacterTextSplitter\n",
    "from langchain_community.document_loaders import TextLoader\n",
    "from langchain_community.vectorstores import Chroma\n",
    "from langchain_openai import OpenAIEmbeddings"
   ]
  },
  {
   "cell_type": "code",
   "execution_count": 11,
   "metadata": {},
   "outputs": [],
   "source": [
    "from langchain_community.vectorstores import Qdrant"
   ]
  },
  {
   "cell_type": "code",
   "execution_count": 12,
   "metadata": {},
   "outputs": [
    {
     "data": {
      "text/plain": [
       "langchain_community.vectorstores.qdrant.Qdrant"
      ]
     },
     "execution_count": 12,
     "metadata": {},
     "output_type": "execute_result"
    }
   ],
   "source": [
    "Qdrant"
   ]
  },
  {
   "cell_type": "code",
   "execution_count": 13,
   "metadata": {},
   "outputs": [],
   "source": [
    "child_splitter = RecursiveCharacterTextSplitter(chunk_size=400)"
   ]
  },
  {
   "cell_type": "code",
   "execution_count": 14,
   "metadata": {},
   "outputs": [],
   "source": [
    "store = InMemoryStore()"
   ]
  },
  {
   "cell_type": "code",
   "execution_count": 15,
   "metadata": {},
   "outputs": [],
   "source": [
    "retriever = ParentDocumentRetriever(\n",
    "    vectorstore=vectore_store.vector_store,\n",
    "    docstore=store,\n",
    "    child_splitter=child_splitter,\n",
    ")"
   ]
  },
  {
   "cell_type": "code",
   "execution_count": 16,
   "metadata": {},
   "outputs": [
    {
     "name": "stderr",
     "output_type": "stream",
     "text": [
      "Error fetching or processing https://medium.com/the-quantified-world/unraveling-quantum-computing-exploring-its-promising-potential-and-existing-limitations-71ed2e261a56?source=rss------quantum_computing-5, exception: Article `download()` failed with HTTPSConnectionPool(host='medium.com', port=443): Read timed out. (read timeout=7) on URL https://medium.com/the-quantified-world/unraveling-quantum-computing-exploring-its-promising-potential-and-existing-limitations-71ed2e261a56?source=rss------quantum_computing-5\n",
      "Error processing entry https://medium.com/the-quantified-world/unraveling-quantum-computing-exploring-its-promising-potential-and-existing-limitations-71ed2e261a56?source=rss------quantum_computing-5, exception: list index out of range\n"
     ]
    }
   ],
   "source": [
    "from langchain.document_loaders import RSSFeedLoader\n",
    "from langchain.text_splitter import RecursiveCharacterTextSplitter\n",
    "urls = [\"https://medium.com/feed/tag/quantum-computing\"]\n",
    "loader = RSSFeedLoader(urls=urls)\n",
    "data = loader.load()"
   ]
  },
  {
   "cell_type": "code",
   "execution_count": 17,
   "metadata": {},
   "outputs": [],
   "source": [
    "retriever.add_documents(data, ids=None)"
   ]
  },
  {
   "cell_type": "code",
   "execution_count": 18,
   "metadata": {},
   "outputs": [
    {
     "data": {
      "text/plain": [
       "ParentDocumentRetriever(vectorstore=<langchain_community.vectorstores.qdrant.Qdrant object at 0x0000016597C3BE90>, docstore=<langchain.storage.in_memory.InMemoryBaseStore object at 0x00000165A5543CD0>, child_splitter=<langchain.text_splitter.RecursiveCharacterTextSplitter object at 0x00000165A4DE4B10>)"
      ]
     },
     "execution_count": 18,
     "metadata": {},
     "output_type": "execute_result"
    }
   ],
   "source": [
    "retriever"
   ]
  },
  {
   "cell_type": "code",
   "execution_count": 19,
   "metadata": {},
   "outputs": [],
   "source": [
    "qa_chain = RetrievalQA.from_chain_type(\n",
    "    llm,\n",
    "    chain_type=\"stuff\",\n",
    "    retriever=vectore_store_client.as_retriever(),\n",
    "    return_source_documents=True,\n",
    ")"
   ]
  },
  {
   "cell_type": "code",
   "execution_count": 20,
   "metadata": {},
   "outputs": [
    {
     "data": {
      "text/plain": [
       "{'query': 'whats the most recent computer for quantum computing?',\n",
       " 'result': \"The most recent computer for quantum computing is the Sycamore processor developed by Google. It made headlines in 2019 when Google claimed to have achieved quantum supremacy with this processor. However, it's important to note that the field of quantum computing is rapidly evolving, and new advancements and technologies are being developed by various companies and research institutions.\",\n",
       " 'source_documents': [Document(page_content='The Future of Quantum Computing', metadata={'authors': [], 'description': 'Are you tired of waiting ages for data processing to complete? Frustrated by the limitations of conventional computing power? If so, you’re not alone. In a world where data is king, speed and…', 'doc_id': '7ed35252-4320-4062-a7e2-aada649aa0b1', 'feed': 'https://medium.com/feed/tag/quantum-computing', 'language': 'en', 'link': 'https://medium.com/@krupalu.datta/quantum-supremacy-redefining-speed-and-efficiency-in-data-processing-4d52704f62f8?source=rss------quantum_computing-5', 'publish_date': '2024-02-27T07:57:05.479000Z', 'title': 'Quantum Supremacy: Redefining Speed and Efficiency in Data Processing', '_id': '65744e57-b490-44ca-a54b-f5dee542e60b', '_collection_name': 'rio-rag-platform'}),\n",
       "  Document(page_content='Quantum Computing and Processing Power', metadata={'authors': ['Exohood Labs'], 'description': 'In an era where the boundaries of technology continually expand, the integration of artificial intelligence, quantum computing and blockchain presents a groundbreaking approach to one of humanity’s…', 'doc_id': '7c9fa6d7-6c2d-4b85-851a-7dcad96ca194', 'feed': 'https://medium.com/feed/tag/quantum-computing', 'language': 'en', 'link': 'https://exohood.medium.com/bridging-minds-the-fusion-of-ai-quantum-technology-and-blockchain-ce7d92764c73?source=rss------quantum_computing-5', 'publish_date': '2024-02-27T13:55:19.213000Z', 'title': 'Bridging minds the fusion of AI, Quantum technology and Blockchain', '_id': 'c761c6e3-baf9-449c-904f-822adcc90c7f', '_collection_name': 'rio-rag-platform'}),\n",
       "  Document(page_content='Quantum computing is a new generation of technology that involves a type of computer 158 million times faster than the most sophisticated supercomputer we have in the world today. It is a device so powerful that it could do in four minutes what it would take a traditional supercomputer 10,000 years to accomplish. Quantum computing, based on the strange laws of quantum mechanics, promises to', metadata={'authors': [], 'description': 'Quantum computing is a new generation of technology that involves a type of computer 158 million times faster than the most sophisticated supercomputer we have in the world today. It is a device so…', 'doc_id': 'ea565885-b867-4869-973d-870528aac69e', 'feed': 'https://medium.com/feed/tag/quantum-computing', 'language': 'en', 'link': 'https://medium.com/technology-hits/the-quantum-computing-revolution-unlocking-infinite-possibilities-5007ec9446ab?source=rss------quantum_computing-5', 'publish_date': '2024-02-28T09:09:18.477000Z', 'title': '“The Quantum Computing Revolution: Unlocking Infinite Possibilities?”', '_id': '1905ae8e-112b-49ef-81bd-3c4f102e0461', '_collection_name': 'rio-rag-platform'}),\n",
       "  Document(page_content='The pursuit of quantum supremacy has spurred intense competition among leading tech companies and research institutions worldwide. Google made headlines in 2019 with its claim of achieving quantum supremacy through its Sycamore processor, which performed a specific task in a fraction of the time it would take the most powerful classical supercomputer. Other players in the field, including IBM,', metadata={'authors': [], 'description': 'Are you tired of waiting ages for data processing to complete? Frustrated by the limitations of conventional computing power? If so, you’re not alone. In a world where data is king, speed and…', 'doc_id': '7ed35252-4320-4062-a7e2-aada649aa0b1', 'feed': 'https://medium.com/feed/tag/quantum-computing', 'language': 'en', 'link': 'https://medium.com/@krupalu.datta/quantum-supremacy-redefining-speed-and-efficiency-in-data-processing-4d52704f62f8?source=rss------quantum_computing-5', 'publish_date': '2024-02-27T07:57:05.479000Z', 'title': 'Quantum Supremacy: Redefining Speed and Efficiency in Data Processing', '_id': '2cc227de-0bb4-4e2b-bf67-9d2da3e1189f', '_collection_name': 'rio-rag-platform'})]}"
      ]
     },
     "execution_count": 20,
     "metadata": {},
     "output_type": "execute_result"
    }
   ],
   "source": [
    "qa_chain('whats the most recent computer for quantum computing?')"
   ]
  },
  {
   "cell_type": "markdown",
   "metadata": {},
   "source": [
    "**Multi-Query Retriever**\n",
    "\n",
    "If users are asking questions that are complex and require multiple pieces of distinct information to respond"
   ]
  },
  {
   "cell_type": "code",
   "execution_count": 21,
   "metadata": {},
   "outputs": [],
   "source": [
    "query='what could be an use of quantum computing in SAFe methodology?'"
   ]
  },
  {
   "cell_type": "code",
   "execution_count": 22,
   "metadata": {},
   "outputs": [],
   "source": [
    "from langchain.retrievers.multi_query import MultiQueryRetriever\n",
    "from langchain_openai import ChatOpenAI\n",
    "import logging"
   ]
  },
  {
   "cell_type": "code",
   "execution_count": 23,
   "metadata": {},
   "outputs": [],
   "source": [
    "llm = ChatOpenAI(temperature=0)"
   ]
  },
  {
   "cell_type": "code",
   "execution_count": 24,
   "metadata": {},
   "outputs": [],
   "source": [
    "logging.basicConfig()\n",
    "logging.getLogger(\"langchain.retrievers.multi_query\").setLevel(logging.INFO)"
   ]
  },
  {
   "cell_type": "code",
   "execution_count": 25,
   "metadata": {},
   "outputs": [],
   "source": [
    "retriever_from_llm = MultiQueryRetriever.from_llm(\n",
    "    retriever=vectore_store_client.as_retriever(), \n",
    "    llm=llm\n",
    ")"
   ]
  },
  {
   "cell_type": "code",
   "execution_count": 26,
   "metadata": {},
   "outputs": [
    {
     "name": "stderr",
     "output_type": "stream",
     "text": [
      "INFO:langchain.retrievers.multi_query:Generated queries: ['1. How can quantum computing be applied within the context of SAFe methodology?', '2. In what ways could quantum computing enhance the implementation of SAFe methodology?', '3. What potential benefits does quantum computing offer for integrating with SAFe methodology?']\n"
     ]
    }
   ],
   "source": [
    "unique_docs = retriever_from_llm.get_relevant_documents(query=query)"
   ]
  },
  {
   "cell_type": "code",
   "execution_count": 27,
   "metadata": {},
   "outputs": [],
   "source": [
    "qa_chain = RetrievalQA.from_chain_type(\n",
    "    llm,\n",
    "    chain_type=\"stuff\",\n",
    "    retriever=retriever_from_llm,\n",
    "    return_source_documents=True,\n",
    ")"
   ]
  },
  {
   "cell_type": "code",
   "execution_count": 28,
   "metadata": {},
   "outputs": [
    {
     "name": "stderr",
     "output_type": "stream",
     "text": [
      "INFO:langchain.retrievers.multi_query:Generated queries: ['1. How can quantum computing be applied within the context of SAFe methodology?', '2. In what ways could quantum computing enhance the implementation of SAFe methodology?', '3. What potential benefits does quantum computing offer for integrating with SAFe methodology?']\n"
     ]
    },
    {
     "data": {
      "text/plain": [
       "{'query': 'what could be an use of quantum computing in SAFe methodology?',\n",
       " 'result': \"I don't have specific information on the use of quantum computing in SAFe methodology. It's possible that as quantum computing technology advances, there may be potential applications in areas like optimization, data analysis, or complex problem-solving that could potentially benefit SAFe methodology, but specific details would require further research or expert input.\",\n",
       " 'source_documents': [Document(page_content='The Future of Quantum Computing', metadata={'authors': [], 'description': 'Are you tired of waiting ages for data processing to complete? Frustrated by the limitations of conventional computing power? If so, you’re not alone. In a world where data is king, speed and…', 'doc_id': '7ed35252-4320-4062-a7e2-aada649aa0b1', 'feed': 'https://medium.com/feed/tag/quantum-computing', 'language': 'en', 'link': 'https://medium.com/@krupalu.datta/quantum-supremacy-redefining-speed-and-efficiency-in-data-processing-4d52704f62f8?source=rss------quantum_computing-5', 'publish_date': '2024-02-27T07:57:05.479000Z', 'title': 'Quantum Supremacy: Redefining Speed and Efficiency in Data Processing', '_id': '65744e57-b490-44ca-a54b-f5dee542e60b', '_collection_name': 'rio-rag-platform'}),\n",
       "  Document(page_content='Quantum Computing and Processing Power', metadata={'authors': ['Exohood Labs'], 'description': 'In an era where the boundaries of technology continually expand, the integration of artificial intelligence, quantum computing and blockchain presents a groundbreaking approach to one of humanity’s…', 'doc_id': '7c9fa6d7-6c2d-4b85-851a-7dcad96ca194', 'feed': 'https://medium.com/feed/tag/quantum-computing', 'language': 'en', 'link': 'https://exohood.medium.com/bridging-minds-the-fusion-of-ai-quantum-technology-and-blockchain-ce7d92764c73?source=rss------quantum_computing-5', 'publish_date': '2024-02-27T13:55:19.213000Z', 'title': 'Bridging minds the fusion of AI, Quantum technology and Blockchain', '_id': 'c761c6e3-baf9-449c-904f-822adcc90c7f', '_collection_name': 'rio-rag-platform'}),\n",
       "  Document(page_content='How Quantum Computers Work', metadata={'authors': [], 'description': 'Are you tired of waiting ages for data processing to complete? Frustrated by the limitations of conventional computing power? If so, you’re not alone. In a world where data is king, speed and…', 'doc_id': '7ed35252-4320-4062-a7e2-aada649aa0b1', 'feed': 'https://medium.com/feed/tag/quantum-computing', 'language': 'en', 'link': 'https://medium.com/@krupalu.datta/quantum-supremacy-redefining-speed-and-efficiency-in-data-processing-4d52704f62f8?source=rss------quantum_computing-5', 'publish_date': '2024-02-27T07:57:05.479000Z', 'title': 'Quantum Supremacy: Redefining Speed and Efficiency in Data Processing', '_id': 'e58c8527-2bc2-453d-a73e-96ae0ce367c5', '_collection_name': 'rio-rag-platform'}),\n",
       "  Document(page_content='quantum computing technology for various industrial applications. Technology leaders such as IBM Corporation, Microsoft Corporation, Alphabet Inc., etc., are extending their industry coverage to increase its practical use cases. In May 2022, PASQAL and BMW Group entered a technical collaboration agreement to analyze the applicability of quantum computing algorithms to metal forming application', metadata={'authors': [], 'description': 'The quantum computing in automotive market is projected to grow from USD 143 million in 2026 to USD 5,203 million by 2035, at a CAGR of 49.0% from 2026 to 2035. Increasing government investments in…', 'doc_id': '812f1ee5-42c6-45d2-94d4-e50cbc7458c0', 'feed': 'https://medium.com/feed/tag/quantum-computing', 'language': 'en', 'link': 'https://medium.com/@shubhamchougalessc/quantum-computing-in-automotive-market-worth-5-203-million-by-2035-1208c69d6539?source=rss------quantum_computing-5', 'publish_date': '2024-03-04T06:34:56.436000Z', 'title': 'Quantum Computing in Automotive Market worth $5,203 million by 2035', '_id': 'e3c2c576-5d75-4b5c-bb49-c664a7d4d065', '_collection_name': 'rio-rag-platform'}),\n",
       "  Document(page_content='interactions, accelerating the development of new pharmaceuticals. Optimization problems in logistics, finance, and manufacturing could also benefit from quantum algorithms capable of rapidly finding optimal solutions.', metadata={'authors': [], 'description': 'Are you tired of waiting ages for data processing to complete? Frustrated by the limitations of conventional computing power? If so, you’re not alone. In a world where data is king, speed and…', 'doc_id': '7ed35252-4320-4062-a7e2-aada649aa0b1', 'feed': 'https://medium.com/feed/tag/quantum-computing', 'language': 'en', 'link': 'https://medium.com/@krupalu.datta/quantum-supremacy-redefining-speed-and-efficiency-in-data-processing-4d52704f62f8?source=rss------quantum_computing-5', 'publish_date': '2024-02-27T07:57:05.479000Z', 'title': 'Quantum Supremacy: Redefining Speed and Efficiency in Data Processing', '_id': 'bb450001-995b-4cae-809a-73ad86fc8179', '_collection_name': 'rio-rag-platform'}),\n",
       "  Document(page_content='The widespread adoption of quantum computing technology carries far-reaching implications for industries, governments, and society as a whole. While quantum supremacy promises unprecedented computational power, it also raises concerns about data security and privacy, as quantum computers could potentially crack widely-used encryption schemes. Ethical considerations surrounding the equitable', metadata={'authors': [], 'description': 'Are you tired of waiting ages for data processing to complete? Frustrated by the limitations of conventional computing power? If so, you’re not alone. In a world where data is king, speed and…', 'doc_id': '7ed35252-4320-4062-a7e2-aada649aa0b1', 'feed': 'https://medium.com/feed/tag/quantum-computing', 'language': 'en', 'link': 'https://medium.com/@krupalu.datta/quantum-supremacy-redefining-speed-and-efficiency-in-data-processing-4d52704f62f8?source=rss------quantum_computing-5', 'publish_date': '2024-02-27T07:57:05.479000Z', 'title': 'Quantum Supremacy: Redefining Speed and Efficiency in Data Processing', '_id': '4912a1dd-fb45-4e89-8d95-727c30a7d3fc', '_collection_name': 'rio-rag-platform'})]}"
      ]
     },
     "execution_count": 28,
     "metadata": {},
     "output_type": "execute_result"
    }
   ],
   "source": [
    "qa_chain(query)"
   ]
  },
  {
   "cell_type": "code",
   "execution_count": 29,
   "metadata": {},
   "outputs": [
    {
     "name": "stderr",
     "output_type": "stream",
     "text": [
      "INFO:langchain.retrievers.multi_query:Generated queries: ['What is the definition of PI?', 'Can you explain the concept of PI?', 'Could you provide information on PI?']\n"
     ]
    },
    {
     "data": {
      "text/plain": [
       "{'query': 'whats a PI?',\n",
       " 'result': 'I don\\'t have enough context to determine what \"PI\" refers to in this specific discussion. If you can provide more information or clarify the context, I may be able to help you better.',\n",
       " 'source_documents': [Document(page_content='most profound concept that is singularity or undefinedness on the perimeter of a circle. So a section of the arc on the perimeter of a circle which always remains inaccessible. That grey shade, which is neither dark nor illuminated, becomes the point of reality. This is irony when I write. Singularity acts as a glue to include other circular rings inside or the circle. This is cells of a Turing', metadata={'authors': ['Anirban Bandyopadhyay'], 'description': 'We are living in a very interesting era. Today, there will be a huge claim from the Quantum scientists that they have solved an intractable classical problem using a quantum computer. This problem…', 'doc_id': 'd56674bd-0c76-4a76-a5a8-58b3b043d458', 'feed': 'https://medium.com/feed/tag/quantum-computing', 'language': 'en', 'link': 'https://medium.com/@anirban.bandyo/why-in-every-sphere-of-life-rabbit-always-defeats-the-tortoise-9a76a1794de2?source=rss------quantum_computing-5', 'publish_date': '2024-03-04T00:20:24.800000Z', 'title': 'Why in every sphere of life, rabbit always defeats the tortoise?', '_id': '63e7225b-a21c-4d21-a904-e4df32299abc', '_collection_name': 'rio-rag-platform'}),\n",
       "  Document(page_content='Portfolio Optimization (PO) is a standard problem in the financial industry. The computational complexity of such combinatorial optimization problems tend to increase exponentially with the number of variables — here, the number of assets — which at large scale can make solvers incapable of providing only optimal solutions. Instead, the results are likely suboptimal. This article provides', metadata={'authors': ['Dynex', 'Dnx'], 'description': 'Portfolio Optimization (PO) is a standard problem in the financial industry. The computational complexity of such combinatorial optimization problems tend to increase exponentially with the number of…', 'doc_id': '92d79a4f-4394-4b37-b7cf-be6537eef29b', 'feed': 'https://medium.com/feed/tag/quantum-computing', 'language': 'en', 'link': 'https://dynexcoin.medium.com/real-world-use-case-stock-portfolio-optimisation-with-quantum-algorithms-on-the-dynex-platform-3c6b2a6c559f?source=rss------quantum_computing-5', 'publish_date': '2024-02-28T14:45:17.748000Z', 'title': 'Real World Use Case: Stock Portfolio Optimisation with Quantum Algorithms on the Dynex Platform', '_id': 'd27f57e4-71b0-4ad5-9490-446c99d6963d', '_collection_name': 'rio-rag-platform'}),\n",
       "  Document(page_content='property, Rita, a tendency or a trend or a fundamental drive to convert every single thing into a loop. And, the loop is never complete, that’s why spiral phase dominates everything in the universe.', metadata={'authors': ['Anirban Bandyopadhyay'], 'description': 'We are living in a very interesting era. Today, there will be a huge claim from the Quantum scientists that they have solved an intractable classical problem using a quantum computer. This problem…', 'doc_id': 'd56674bd-0c76-4a76-a5a8-58b3b043d458', 'feed': 'https://medium.com/feed/tag/quantum-computing', 'language': 'en', 'link': 'https://medium.com/@anirban.bandyo/why-in-every-sphere-of-life-rabbit-always-defeats-the-tortoise-9a76a1794de2?source=rss------quantum_computing-5', 'publish_date': '2024-03-04T00:20:24.800000Z', 'title': 'Why in every sphere of life, rabbit always defeats the tortoise?', '_id': '6f80147f-840d-4d95-b49b-5762eb28286a', '_collection_name': 'rio-rag-platform'}),\n",
       "  Document(page_content='The Process', metadata={'authors': ['Exohood Labs'], 'description': 'In an era where the boundaries of technology continually expand, the integration of artificial intelligence, quantum computing and blockchain presents a groundbreaking approach to one of humanity’s…', 'doc_id': '7c9fa6d7-6c2d-4b85-851a-7dcad96ca194', 'feed': 'https://medium.com/feed/tag/quantum-computing', 'language': 'en', 'link': 'https://exohood.medium.com/bridging-minds-the-fusion-of-ai-quantum-technology-and-blockchain-ce7d92764c73?source=rss------quantum_computing-5', 'publish_date': '2024-02-27T13:55:19.213000Z', 'title': 'Bridging minds the fusion of AI, Quantum technology and Blockchain', '_id': '24e09f99-85d9-45f7-a7e9-15dccb45fbee', '_collection_name': 'rio-rag-platform'}),\n",
       "  Document(page_content='information theory to Vedic fractal information theory, FIT, and its integral derivative geometric music language, GML. We have to change our priority from speed to the true understanding of reality, where just like an avatar, every single fundamental entity exists at many different places in many different forms. The reality is when we are able to see all the parts at once. When we want to make', metadata={'authors': ['Anirban Bandyopadhyay'], 'description': 'We are living in a very interesting era. Today, there will be a huge claim from the Quantum scientists that they have solved an intractable classical problem using a quantum computer. This problem…', 'doc_id': 'd56674bd-0c76-4a76-a5a8-58b3b043d458', 'feed': 'https://medium.com/feed/tag/quantum-computing', 'language': 'en', 'link': 'https://medium.com/@anirban.bandyo/why-in-every-sphere-of-life-rabbit-always-defeats-the-tortoise-9a76a1794de2?source=rss------quantum_computing-5', 'publish_date': '2024-03-04T00:20:24.800000Z', 'title': 'Why in every sphere of life, rabbit always defeats the tortoise?', '_id': '7a8e3b60-c503-41d7-928c-5459152e5959', '_collection_name': 'rio-rag-platform'}),\n",
       "  Document(page_content='There are some downloadable resources that are referenced in some of the above works. The Cal Tech lecture notes of John Preskill are often mentioned — you can find them here. The Waterloo notes of John Watrous are also frequently mentioned — Dr. Watrous has left academia and now works at IBM. His lecture notes and much else can be found at his website, his course on quantum computing at IBM is', metadata={'authors': ['Stephen Addison'], 'description': 'I was recently asked to lead a semester long seminar in quantum computing — a topic in which I have long been interested. The question is where to start. In this article, I’m going to describe (and…', 'doc_id': 'fe0f6dcb-e8ec-484e-8c32-71dd5863b469', 'feed': 'https://medium.com/feed/tag/quantum-computing', 'language': 'en', 'link': 'https://medium.com/@sraddison/quantum-computing-resources-for-learning-e43747cf1f74?source=rss------quantum_computing-5', 'publish_date': '2024-02-27T01:37:19.253000Z', 'title': 'Quantum Computing: Resources for Learning', '_id': '76ff8b98-7a6c-46f4-bfba-6f59f73ac08a', '_collection_name': 'rio-rag-platform'}),\n",
       "  Document(page_content='Quantum Computing and Processing Power', metadata={'authors': ['Exohood Labs'], 'description': 'In an era where the boundaries of technology continually expand, the integration of artificial intelligence, quantum computing and blockchain presents a groundbreaking approach to one of humanity’s…', 'doc_id': '7c9fa6d7-6c2d-4b85-851a-7dcad96ca194', 'feed': 'https://medium.com/feed/tag/quantum-computing', 'language': 'en', 'link': 'https://exohood.medium.com/bridging-minds-the-fusion-of-ai-quantum-technology-and-blockchain-ce7d92764c73?source=rss------quantum_computing-5', 'publish_date': '2024-02-27T13:55:19.213000Z', 'title': 'Bridging minds the fusion of AI, Quantum technology and Blockchain', '_id': 'c761c6e3-baf9-449c-904f-822adcc90c7f', '_collection_name': 'rio-rag-platform'}),\n",
       "  Document(page_content='AI and Neural Mapping', metadata={'authors': ['Exohood Labs'], 'description': 'In an era where the boundaries of technology continually expand, the integration of artificial intelligence, quantum computing and blockchain presents a groundbreaking approach to one of humanity’s…', 'doc_id': '7c9fa6d7-6c2d-4b85-851a-7dcad96ca194', 'feed': 'https://medium.com/feed/tag/quantum-computing', 'language': 'en', 'link': 'https://exohood.medium.com/bridging-minds-the-fusion-of-ai-quantum-technology-and-blockchain-ce7d92764c73?source=rss------quantum_computing-5', 'publish_date': '2024-02-27T13:55:19.213000Z', 'title': 'Bridging minds the fusion of AI, Quantum technology and Blockchain', '_id': '67c059a1-7c68-4f63-b9bb-99ada8ee0067', '_collection_name': 'rio-rag-platform'})]}"
      ]
     },
     "execution_count": 29,
     "metadata": {},
     "output_type": "execute_result"
    }
   ],
   "source": [
    "qa_chain('whats a PI?')"
   ]
  },
  {
   "cell_type": "markdown",
   "metadata": {},
   "source": [
    "**Output parser**"
   ]
  },
  {
   "cell_type": "code",
   "execution_count": 30,
   "metadata": {},
   "outputs": [],
   "source": [
    "from langchain.output_parsers import PydanticOutputParser\n",
    "from langchain_core.output_parsers import JsonOutputParser\n",
    "from typing import List\n",
    "from langchain.prompts import PromptTemplate\n",
    "from langchain_core.pydantic_v1 import BaseModel, Field, validator\n",
    "from langchain_openai import OpenAI"
   ]
  },
  {
   "cell_type": "code",
   "execution_count": 31,
   "metadata": {},
   "outputs": [],
   "source": [
    "model = OpenAI(model_name=\"gpt-3.5-turbo-instruct\", temperature=0.0)"
   ]
  },
  {
   "cell_type": "code",
   "execution_count": 32,
   "metadata": {},
   "outputs": [],
   "source": [
    "\n",
    "class News(BaseModel):\n",
    "    topic: str = Field(description=\"The topic of the news\")\n",
    "    titles: List[str] = Field(description=\"titles of the news\")\n",
    "    descriptions: List[str] = Field(description=\"full, long text with details news\")\n",
    "    urls: List[str] = Field(description=\"url of the news if available, empty if not\")\n",
    "\n",
    "    # You can add custom validation logic easily with Pydantic.\n",
    "    # @validator(\"setup\")\n",
    "    # def question_ends_with_question_mark(cls, field):\n",
    "    #     if field[-1] != \"?\":\n",
    "    #         raise ValueError(\"Badly formed question!\")\n",
    "    #     return field"
   ]
  },
  {
   "cell_type": "code",
   "execution_count": 33,
   "metadata": {},
   "outputs": [],
   "source": [
    "parser = JsonOutputParser(pydantic_object=News)"
   ]
  },
  {
   "cell_type": "code",
   "execution_count": 34,
   "metadata": {},
   "outputs": [],
   "source": [
    "prompt = PromptTemplate(\n",
    "    template=\"Answer the user query \\n{format_instructions}\\n{query}\\n\",\n",
    "    input_variables=[\"query\"],\n",
    "    partial_variables={\"format_instructions\": parser.get_format_instructions()},\n",
    ")\n"
   ]
  },
  {
   "cell_type": "code",
   "execution_count": 35,
   "metadata": {},
   "outputs": [
    {
     "data": {
      "text/plain": [
       "'The output should be formatted as a JSON instance that conforms to the JSON schema below.\\n\\nAs an example, for the schema {\"properties\": {\"foo\": {\"title\": \"Foo\", \"description\": \"a list of strings\", \"type\": \"array\", \"items\": {\"type\": \"string\"}}}, \"required\": [\"foo\"]}\\nthe object {\"foo\": [\"bar\", \"baz\"]} is a well-formatted instance of the schema. The object {\"properties\": {\"foo\": [\"bar\", \"baz\"]}} is not well-formatted.\\n\\nHere is the output schema:\\n```\\n{\"properties\": {\"topic\": {\"title\": \"Topic\", \"description\": \"The topic of the news\", \"type\": \"string\"}, \"titles\": {\"title\": \"Titles\", \"description\": \"titles of the news\", \"type\": \"array\", \"items\": {\"type\": \"string\"}}, \"descriptions\": {\"title\": \"Descriptions\", \"description\": \"full, long text with details news\", \"type\": \"array\", \"items\": {\"type\": \"string\"}}, \"urls\": {\"title\": \"Urls\", \"description\": \"url of the news if available, empty if not\", \"type\": \"array\", \"items\": {\"type\": \"string\"}}}, \"required\": [\"topic\", \"titles\", \"descriptions\", \"urls\"]}\\n```'"
      ]
     },
     "execution_count": 35,
     "metadata": {},
     "output_type": "execute_result"
    }
   ],
   "source": [
    "parser.get_format_instructions()"
   ]
  },
  {
   "cell_type": "code",
   "execution_count": 36,
   "metadata": {},
   "outputs": [
    {
     "data": {
      "text/plain": [
       "PromptTemplate(input_variables=['query'], partial_variables={'format_instructions': 'The output should be formatted as a JSON instance that conforms to the JSON schema below.\\n\\nAs an example, for the schema {\"properties\": {\"foo\": {\"title\": \"Foo\", \"description\": \"a list of strings\", \"type\": \"array\", \"items\": {\"type\": \"string\"}}}, \"required\": [\"foo\"]}\\nthe object {\"foo\": [\"bar\", \"baz\"]} is a well-formatted instance of the schema. The object {\"properties\": {\"foo\": [\"bar\", \"baz\"]}} is not well-formatted.\\n\\nHere is the output schema:\\n```\\n{\"properties\": {\"topic\": {\"title\": \"Topic\", \"description\": \"The topic of the news\", \"type\": \"string\"}, \"titles\": {\"title\": \"Titles\", \"description\": \"titles of the news\", \"type\": \"array\", \"items\": {\"type\": \"string\"}}, \"descriptions\": {\"title\": \"Descriptions\", \"description\": \"full, long text with details news\", \"type\": \"array\", \"items\": {\"type\": \"string\"}}, \"urls\": {\"title\": \"Urls\", \"description\": \"url of the news if available, empty if not\", \"type\": \"array\", \"items\": {\"type\": \"string\"}}}, \"required\": [\"topic\", \"titles\", \"descriptions\", \"urls\"]}\\n```'}, template='Answer the user query \\n{format_instructions}\\n{query}\\n')"
      ]
     },
     "execution_count": 36,
     "metadata": {},
     "output_type": "execute_result"
    }
   ],
   "source": [
    "prompt"
   ]
  },
  {
   "cell_type": "code",
   "execution_count": 37,
   "metadata": {},
   "outputs": [
    {
     "data": {
      "text/plain": [
       "{'topic': 'Quantum Computing', 'titles': ['1. ']}"
      ]
     },
     "execution_count": 37,
     "metadata": {},
     "output_type": "execute_result"
    }
   ],
   "source": [
    "prompt_and_model = prompt | model\n",
    "output = prompt_and_model.invoke({\"query\": \"Tell me the last 5 news about quantum computing.\"})\n",
    "parser.invoke(output)\n"
   ]
  },
  {
   "cell_type": "code",
   "execution_count": 38,
   "metadata": {},
   "outputs": [
    {
     "data": {
      "text/plain": [
       "'\\n{\"topic\": \"Quantum Computing\", \"titles\": [\"1. \"Quantum Computing Breakthrough: New Method of Creating Quantum Gates\", \"2. \"IBM Unveils Quantum Computing System for Commercial Use\", \"3. \"Google Claims Quantum Supremacy with New Quantum Computer\", \"4. \"Microsoft Invests $1 Billion in OpenAI to Advance Quantum Computing\", \"5. \"China Launches World\\'s First Quantum Satellite Network\"], \"descriptions\": [\"1. Researchers have developed a new method for creating quantum gates, a crucial component for quantum computing, which could lead to faster and more powerful quantum computers.\", \"2. IBM has announced the release of its first commercial quantum computing system, the IBM Q System One, which will be available for use by businesses and researchers.\", \"3. Google has claimed to have achieved quantum supremacy, meaning its quantum computer can solve a problem that would take a classical computer thousands of years to solve.\", \"4. Microsoft has invested $1 billion in OpenAI, a research organization focused on artificial intelligence, to advance the development of quantum computing and other technologies.\", \"5. China has launched the world\\'s first quantum satellite network, which will enable secure communication and advance research in quantum computing and cryptography.\"], \"urls\":'"
      ]
     },
     "execution_count": 38,
     "metadata": {},
     "output_type": "execute_result"
    }
   ],
   "source": [
    "output"
   ]
  },
  {
   "cell_type": "markdown",
   "metadata": {},
   "source": [
    "**Structured output**"
   ]
  },
  {
   "cell_type": "code",
   "execution_count": 39,
   "metadata": {},
   "outputs": [],
   "source": [
    "from langchain.chains import RetrievalQAWithSourcesChain\n",
    "from langchain.output_parsers import ResponseSchema, StructuredOutputParser\n",
    "from langchain.prompts import PromptTemplate\n",
    "from langchain_openai import ChatOpenAI\n",
    "from langchain.output_parsers import StructuredOutputParser, ResponseSchema\n",
    "from langchain.prompts import ChatPromptTemplate, HumanMessagePromptTemplate\n",
    "from langchain.llms import OpenAI\n",
    "from langchain.chat_models import ChatOpenAI\n",
    "import json"
   ]
  },
  {
   "cell_type": "code",
   "execution_count": 40,
   "metadata": {},
   "outputs": [],
   "source": [
    "response_schemas = [\n",
    "    ResponseSchema(\n",
    "        name=\"title\", \n",
    "        description=\"title of the news\"\n",
    "    ),\n",
    "    ResponseSchema(\n",
    "        name=\"text\",\n",
    "        description=\"long text (at least 3 row long) of the retrieved news\",\n",
    "    ),\n",
    "]\n",
    "output_parser = StructuredOutputParser.from_response_schemas(response_schemas)\n",
    "format_instructions=output_parser.get_format_instructions()"
   ]
  },
  {
   "cell_type": "code",
   "execution_count": 41,
   "metadata": {},
   "outputs": [],
   "source": [
    "template = \"\"\"\n",
    "    You will be given a series of topic.\n",
    "    For each topic find a list of the most 5 recent news about that topic.\n",
    "\n",
    "    {format_instructions}\n",
    "\n",
    "    Wrap your final output with closed and open brackets (a list of json objects in python format, not markdown).\n",
    "\n",
    "    INPUT:\n",
    "    {user_topics}\n",
    "\n",
    "    YOUR RESPONSE:\n",
    "\"\"\"\n"
   ]
  },
  {
   "cell_type": "code",
   "execution_count": 42,
   "metadata": {},
   "outputs": [],
   "source": [
    "chat_model = ChatOpenAI(temperature=0)\n",
    "\n",
    "prompt = ChatPromptTemplate(\n",
    "    messages=[\n",
    "        HumanMessagePromptTemplate.from_template(template)  \n",
    "    ],\n",
    "    input_variables=[\"user_topics\"],\n",
    "    partial_variables={\"format_instructions\": format_instructions}\n",
    ")\n",
    "\n",
    "_input = prompt.format_prompt(user_topics=['quantum computing', 'cloud computing'])"
   ]
  },
  {
   "cell_type": "code",
   "execution_count": 43,
   "metadata": {},
   "outputs": [
    {
     "name": "stderr",
     "output_type": "stream",
     "text": [
      "c:\\Users\\ELAFACRB1\\venvs\\langchain\\Lib\\site-packages\\langchain_core\\_api\\deprecation.py:117: LangChainDeprecationWarning: The function `__call__` was deprecated in LangChain 0.1.7 and will be removed in 0.2.0. Use invoke instead.\n",
      "  warn_deprecated(\n"
     ]
    },
    {
     "data": {
      "text/plain": [
       "AIMessage(content='[\\n{\\n\\t\"title\": \"Quantum Computing: A New Era of Computing Power\",\\n\\t\"text\": \"Quantum computing is a revolutionary technology that has the potential to solve complex problems at speeds unimaginable with classical computers. Unlike classical computers that use bits to represent information as either 0 or 1, quantum computers use quantum bits or qubits that can exist in multiple states simultaneously. This allows quantum computers to perform calculations much faster than classical computers, making them ideal for tasks such as cryptography, drug discovery, and optimization problems.\"\\n},\\n{\\n\\t\"title\": \"Google Achieves Quantum Supremacy with Quantum Computer\",\\n\\t\"text\": \"Google recently announced that it has achieved quantum supremacy with its quantum computer, Sycamore. Quantum supremacy is the point at which a quantum computer can perform a calculation that is practically impossible for a classical computer to solve in a reasonable amount of time. Google\\'s achievement marks a significant milestone in the field of quantum computing and has the potential to revolutionize various industries.\"\\n},\\n{\\n\\t\"title\": \"IBM Unveils Quantum Roadmap, Plans to Build 1,121-Qubit Quantum Computer by 2023\",\\n\\t\"text\": \"IBM recently unveiled its quantum roadmap, outlining its plans to build a 1,121-qubit quantum computer by 2023. The roadmap also includes the development of a quantum operating system, quantum compiler, and quantum application ecosystem to support the growing demand for quantum computing solutions. IBM\\'s ambitious plans signal the company\\'s commitment to advancing the field of quantum computing and making it more accessible to businesses and researchers.\"\\n},\\n{\\n\\t\"title\": \"Microsoft Invests Billions in Quantum Computing Research\",\\n\\t\"text\": \"Microsoft has been investing billions of dollars in quantum computing research as part of its long-term strategy to develop scalable quantum computers. The company has made significant progress in building a topological qubit, a more stable and error-resistant qubit that could revolutionize the field of quantum computing. Microsoft\\'s investment in quantum computing research underscores its commitment to pushing the boundaries of what is possible with quantum technology.\"\\n},\\n{\\n\\t\"title\": \"Quantum Computing Market Expected to Reach $65 Billion by 2030\",\\n\\t\"text\": \"The global quantum computing market is expected to reach $65 billion by 2030, driven by increasing demand for quantum computing solutions across various industries. Quantum computing has the potential to revolutionize fields such as finance, healthcare, and cybersecurity by solving complex problems at speeds unimaginable with classical computers. As more companies invest in quantum computing research and development, the market is poised for significant growth in the coming years.\"\\n},\\n{\\n\\t\"title\": \"Cloud Computing: The Future of IT Infrastructure\",\\n\\t\"text\": \"Cloud computing is a technology that allows users to access and store data and applications over the internet instead of on local servers or personal computers. This enables businesses to scale their IT infrastructure more efficiently, reduce costs, and improve flexibility and accessibility. Cloud computing has become increasingly popular in recent years, with many companies adopting cloud-based solutions to streamline their operations and drive innovation.\"\\n},\\n{\\n\\t\"title\": \"Amazon Web Services (AWS) Dominates Cloud Computing Market\",\\n\\t\"text\": \"Amazon Web Services (AWS) continues to dominate the cloud computing market, with a market share of over 30% in 2021. AWS offers a wide range of cloud services, including computing power, storage, and databases, to help businesses scale and grow their operations. The company\\'s strong presence in the cloud computing market has solidified its position as a leader in the industry, with many businesses relying on AWS for their cloud infrastructure needs.\"\\n},\\n{\\n\\t\"title\": \"Microsoft Azure Expands Cloud Computing Services with New Features\",\\n\\t\"text\": \"Microsoft Azure, the cloud computing platform of Microsoft, has been expanding its services with new features and capabilities to meet the growing demand for cloud solutions. Azure offers a wide range of cloud services, including virtual machines, databases, and AI tools, to help businesses innovate and scale their operations. Microsoft\\'s continuous investment in Azure\\'s development underscores its commitment to providing cutting-edge cloud computing solutions to its customers.\"\\n},\\n{\\n\\t\"title\": \"Google Cloud Platform (GCP) Gains Traction in Cloud Computing Market\",\\n\\t\"text\": \"Google Cloud Platform (GCP) has been gaining traction in the cloud computing market, with a growing number of businesses adopting GCP\\'s cloud services. GCP offers a wide range of cloud solutions, including computing power, storage, and machine learning tools, to help businesses innovate and scale their operations. Google\\'s strong presence in the cloud computing market has positioned GCP as a viable alternative to other cloud providers, with many businesses choosing GCP for its reliability and performance.\"\\n},\\n{\\n\\t\"title\": \"Cloud Computing Security: Addressing Data Privacy and Compliance Challenges\",\\n\\t\"text\": \"Cloud computing security is a critical concern for businesses as they migrate their data and applications to the cloud. Data privacy and compliance challenges can arise when storing sensitive information in the cloud, requiring businesses to implement robust security measures to protect their data. Cloud providers offer a range of security features, such as encryption, access controls, and monitoring tools, to help businesses secure their data and comply with regulatory requirements.\"\\n}\\n]')"
      ]
     },
     "execution_count": 43,
     "metadata": {},
     "output_type": "execute_result"
    }
   ],
   "source": [
    "output = chat_model(_input.to_messages())\n",
    "output"
   ]
  },
  {
   "cell_type": "code",
   "execution_count": 44,
   "metadata": {},
   "outputs": [
    {
     "data": {
      "text/plain": [
       "[{'title': 'Quantum Computing: A New Era of Computing Power',\n",
       "  'text': 'Quantum computing is a revolutionary technology that has the potential to solve complex problems at speeds unimaginable with classical computers. Unlike classical computers that use bits to represent information as either 0 or 1, quantum computers use quantum bits or qubits that can exist in multiple states simultaneously. This allows quantum computers to perform calculations much faster than classical computers, making them ideal for tasks such as cryptography, drug discovery, and optimization problems.'},\n",
       " {'title': 'Google Achieves Quantum Supremacy with Quantum Computer',\n",
       "  'text': \"Google recently announced that it has achieved quantum supremacy with its quantum computer, Sycamore. Quantum supremacy is the point at which a quantum computer can perform a calculation that is practically impossible for a classical computer to solve in a reasonable amount of time. Google's achievement marks a significant milestone in the field of quantum computing and has the potential to revolutionize various industries.\"},\n",
       " {'title': 'IBM Unveils Quantum Roadmap, Plans to Build 1,121-Qubit Quantum Computer by 2023',\n",
       "  'text': \"IBM recently unveiled its quantum roadmap, outlining its plans to build a 1,121-qubit quantum computer by 2023. The roadmap also includes the development of a quantum operating system, quantum compiler, and quantum application ecosystem to support the growing demand for quantum computing solutions. IBM's ambitious plans signal the company's commitment to advancing the field of quantum computing and making it more accessible to businesses and researchers.\"},\n",
       " {'title': 'Microsoft Invests Billions in Quantum Computing Research',\n",
       "  'text': \"Microsoft has been investing billions of dollars in quantum computing research as part of its long-term strategy to develop scalable quantum computers. The company has made significant progress in building a topological qubit, a more stable and error-resistant qubit that could revolutionize the field of quantum computing. Microsoft's investment in quantum computing research underscores its commitment to pushing the boundaries of what is possible with quantum technology.\"},\n",
       " {'title': 'Quantum Computing Market Expected to Reach $65 Billion by 2030',\n",
       "  'text': 'The global quantum computing market is expected to reach $65 billion by 2030, driven by increasing demand for quantum computing solutions across various industries. Quantum computing has the potential to revolutionize fields such as finance, healthcare, and cybersecurity by solving complex problems at speeds unimaginable with classical computers. As more companies invest in quantum computing research and development, the market is poised for significant growth in the coming years.'},\n",
       " {'title': 'Cloud Computing: The Future of IT Infrastructure',\n",
       "  'text': 'Cloud computing is a technology that allows users to access and store data and applications over the internet instead of on local servers or personal computers. This enables businesses to scale their IT infrastructure more efficiently, reduce costs, and improve flexibility and accessibility. Cloud computing has become increasingly popular in recent years, with many companies adopting cloud-based solutions to streamline their operations and drive innovation.'},\n",
       " {'title': 'Amazon Web Services (AWS) Dominates Cloud Computing Market',\n",
       "  'text': \"Amazon Web Services (AWS) continues to dominate the cloud computing market, with a market share of over 30% in 2021. AWS offers a wide range of cloud services, including computing power, storage, and databases, to help businesses scale and grow their operations. The company's strong presence in the cloud computing market has solidified its position as a leader in the industry, with many businesses relying on AWS for their cloud infrastructure needs.\"},\n",
       " {'title': 'Microsoft Azure Expands Cloud Computing Services with New Features',\n",
       "  'text': \"Microsoft Azure, the cloud computing platform of Microsoft, has been expanding its services with new features and capabilities to meet the growing demand for cloud solutions. Azure offers a wide range of cloud services, including virtual machines, databases, and AI tools, to help businesses innovate and scale their operations. Microsoft's continuous investment in Azure's development underscores its commitment to providing cutting-edge cloud computing solutions to its customers.\"},\n",
       " {'title': 'Google Cloud Platform (GCP) Gains Traction in Cloud Computing Market',\n",
       "  'text': \"Google Cloud Platform (GCP) has been gaining traction in the cloud computing market, with a growing number of businesses adopting GCP's cloud services. GCP offers a wide range of cloud solutions, including computing power, storage, and machine learning tools, to help businesses innovate and scale their operations. Google's strong presence in the cloud computing market has positioned GCP as a viable alternative to other cloud providers, with many businesses choosing GCP for its reliability and performance.\"},\n",
       " {'title': 'Cloud Computing Security: Addressing Data Privacy and Compliance Challenges',\n",
       "  'text': 'Cloud computing security is a critical concern for businesses as they migrate their data and applications to the cloud. Data privacy and compliance challenges can arise when storing sensitive information in the cloud, requiring businesses to implement robust security measures to protect their data. Cloud providers offer a range of security features, such as encryption, access controls, and monitoring tools, to help businesses secure their data and comply with regulatory requirements.'}]"
      ]
     },
     "execution_count": 44,
     "metadata": {},
     "output_type": "execute_result"
    }
   ],
   "source": [
    "json.loads(output.content)"
   ]
  },
  {
   "cell_type": "markdown",
   "metadata": {},
   "source": [
    "With RetrievalQAWithSourcesChain"
   ]
  },
  {
   "cell_type": "code",
   "execution_count": 45,
   "metadata": {},
   "outputs": [
    {
     "name": "stderr",
     "output_type": "stream",
     "text": [
      "c:\\Users\\ELAFACRB1\\venvs\\langchain\\Lib\\site-packages\\langchain_core\\_api\\deprecation.py:117: LangChainDeprecationWarning: The class `langchain_community.llms.openai.OpenAI` was deprecated in langchain-community 0.0.10 and will be removed in 0.2.0. An updated version of the class exists in the langchain-openai package and should be used instead. To use it run `pip install -U langchain-openai` and import as `from langchain_openai import OpenAI`.\n",
      "  warn_deprecated(\n"
     ]
    },
    {
     "ename": "ValidationError",
     "evalue": "1 validation error for StuffDocumentsChain\n__root__\n  document_variable_name summaries was not found in llm_chain input_variables: ['user_topics'] (type=value_error)",
     "output_type": "error",
     "traceback": [
      "\u001b[1;31m---------------------------------------------------------------------------\u001b[0m",
      "\u001b[1;31mValidationError\u001b[0m                           Traceback (most recent call last)",
      "Cell \u001b[1;32mIn[45], line 1\u001b[0m\n\u001b[1;32m----> 1\u001b[0m chain \u001b[38;5;241m=\u001b[39m \u001b[43mRetrievalQAWithSourcesChain\u001b[49m\u001b[38;5;241;43m.\u001b[39;49m\u001b[43mfrom_chain_type\u001b[49m\u001b[43m(\u001b[49m\n\u001b[0;32m      2\u001b[0m \u001b[43m    \u001b[49m\u001b[43mllm\u001b[49m\u001b[38;5;241;43m=\u001b[39;49m\u001b[43mOpenAI\u001b[49m\u001b[43m(\u001b[49m\u001b[43mtemperature\u001b[49m\u001b[38;5;241;43m=\u001b[39;49m\u001b[38;5;241;43m0\u001b[39;49m\u001b[43m)\u001b[49m\u001b[43m,\u001b[49m\n\u001b[0;32m      3\u001b[0m \u001b[43m    \u001b[49m\u001b[43mchain_type\u001b[49m\u001b[38;5;241;43m=\u001b[39;49m\u001b[38;5;124;43m\"\u001b[39;49m\u001b[38;5;124;43mstuff\u001b[39;49m\u001b[38;5;124;43m\"\u001b[39;49m\u001b[43m,\u001b[49m\n\u001b[0;32m      4\u001b[0m \u001b[43m    \u001b[49m\u001b[43mretriever\u001b[49m\u001b[38;5;241;43m=\u001b[39;49m\u001b[43mvectore_store_client\u001b[49m\u001b[38;5;241;43m.\u001b[39;49m\u001b[43mas_retriever\u001b[49m\u001b[43m(\u001b[49m\u001b[43m)\u001b[49m\u001b[43m,\u001b[49m\n\u001b[0;32m      5\u001b[0m \u001b[43m    \u001b[49m\u001b[43mchain_type_kwargs\u001b[49m\u001b[38;5;241;43m=\u001b[39;49m\u001b[43m{\u001b[49m\n\u001b[0;32m      6\u001b[0m \u001b[43m        \u001b[49m\u001b[38;5;124;43m\"\u001b[39;49m\u001b[38;5;124;43mprompt\u001b[39;49m\u001b[38;5;124;43m\"\u001b[39;49m\u001b[43m:\u001b[49m\u001b[43m \u001b[49m\u001b[43mPromptTemplate\u001b[49m\u001b[43m(\u001b[49m\n\u001b[0;32m      7\u001b[0m \u001b[43m            \u001b[49m\u001b[43mtemplate\u001b[49m\u001b[38;5;241;43m=\u001b[39;49m\u001b[43mtemplate\u001b[49m\u001b[43m,\u001b[49m\n\u001b[0;32m      8\u001b[0m \u001b[43m            \u001b[49m\u001b[43minput_variables\u001b[49m\u001b[38;5;241;43m=\u001b[39;49m\u001b[43m[\u001b[49m\u001b[38;5;124;43m\"\u001b[39;49m\u001b[38;5;124;43muser_topics\u001b[39;49m\u001b[38;5;124;43m\"\u001b[39;49m\u001b[43m]\u001b[49m\u001b[43m,\u001b[49m\n\u001b[0;32m      9\u001b[0m \u001b[43m            \u001b[49m\u001b[43mpartial_variables\u001b[49m\u001b[38;5;241;43m=\u001b[39;49m\u001b[43m{\u001b[49m\u001b[38;5;124;43m\"\u001b[39;49m\u001b[38;5;124;43mformat_instructions\u001b[39;49m\u001b[38;5;124;43m\"\u001b[39;49m\u001b[43m:\u001b[49m\u001b[43m \u001b[49m\u001b[43mformat_instructions\u001b[49m\u001b[43m}\u001b[49m\u001b[43m,\u001b[49m\n\u001b[0;32m     10\u001b[0m \u001b[43m            \u001b[49m\u001b[43mreturn_source_documents\u001b[49m\u001b[38;5;241;43m=\u001b[39;49m\u001b[38;5;28;43;01mTrue\u001b[39;49;00m\u001b[43m,\u001b[49m\n\u001b[0;32m     11\u001b[0m \u001b[43m        \u001b[49m\u001b[43m)\u001b[49m\u001b[43m,\u001b[49m\n\u001b[0;32m     12\u001b[0m \u001b[43m    \u001b[49m\u001b[43m}\u001b[49m\u001b[43m,\u001b[49m\n\u001b[0;32m     13\u001b[0m \u001b[43m)\u001b[49m\n",
      "File \u001b[1;32mc:\\Users\\ELAFACRB1\\venvs\\langchain\\Lib\\site-packages\\langchain\\chains\\qa_with_sources\\base.py:85\u001b[0m, in \u001b[0;36mBaseQAWithSourcesChain.from_chain_type\u001b[1;34m(cls, llm, chain_type, chain_type_kwargs, **kwargs)\u001b[0m\n\u001b[0;32m     83\u001b[0m \u001b[38;5;250m\u001b[39m\u001b[38;5;124;03m\"\"\"Load chain from chain type.\"\"\"\u001b[39;00m\n\u001b[0;32m     84\u001b[0m _chain_kwargs \u001b[38;5;241m=\u001b[39m chain_type_kwargs \u001b[38;5;129;01mor\u001b[39;00m {}\n\u001b[1;32m---> 85\u001b[0m combine_documents_chain \u001b[38;5;241m=\u001b[39m \u001b[43mload_qa_with_sources_chain\u001b[49m\u001b[43m(\u001b[49m\n\u001b[0;32m     86\u001b[0m \u001b[43m    \u001b[49m\u001b[43mllm\u001b[49m\u001b[43m,\u001b[49m\u001b[43m \u001b[49m\u001b[43mchain_type\u001b[49m\u001b[38;5;241;43m=\u001b[39;49m\u001b[43mchain_type\u001b[49m\u001b[43m,\u001b[49m\u001b[43m \u001b[49m\u001b[38;5;241;43m*\u001b[39;49m\u001b[38;5;241;43m*\u001b[39;49m\u001b[43m_chain_kwargs\u001b[49m\n\u001b[0;32m     87\u001b[0m \u001b[43m\u001b[49m\u001b[43m)\u001b[49m\n\u001b[0;32m     88\u001b[0m \u001b[38;5;28;01mreturn\u001b[39;00m \u001b[38;5;28mcls\u001b[39m(combine_documents_chain\u001b[38;5;241m=\u001b[39mcombine_documents_chain, \u001b[38;5;241m*\u001b[39m\u001b[38;5;241m*\u001b[39mkwargs)\n",
      "File \u001b[1;32mc:\\Users\\ELAFACRB1\\venvs\\langchain\\Lib\\site-packages\\langchain\\chains\\qa_with_sources\\loading.py:183\u001b[0m, in \u001b[0;36mload_qa_with_sources_chain\u001b[1;34m(llm, chain_type, verbose, **kwargs)\u001b[0m\n\u001b[0;32m    178\u001b[0m     \u001b[38;5;28;01mraise\u001b[39;00m \u001b[38;5;167;01mValueError\u001b[39;00m(\n\u001b[0;32m    179\u001b[0m         \u001b[38;5;124mf\u001b[39m\u001b[38;5;124m\"\u001b[39m\u001b[38;5;124mGot unsupported chain type: \u001b[39m\u001b[38;5;132;01m{\u001b[39;00mchain_type\u001b[38;5;132;01m}\u001b[39;00m\u001b[38;5;124m. \u001b[39m\u001b[38;5;124m\"\u001b[39m\n\u001b[0;32m    180\u001b[0m         \u001b[38;5;124mf\u001b[39m\u001b[38;5;124m\"\u001b[39m\u001b[38;5;124mShould be one of \u001b[39m\u001b[38;5;132;01m{\u001b[39;00mloader_mapping\u001b[38;5;241m.\u001b[39mkeys()\u001b[38;5;132;01m}\u001b[39;00m\u001b[38;5;124m\"\u001b[39m\n\u001b[0;32m    181\u001b[0m     )\n\u001b[0;32m    182\u001b[0m _func: LoadingCallable \u001b[38;5;241m=\u001b[39m loader_mapping[chain_type]\n\u001b[1;32m--> 183\u001b[0m \u001b[38;5;28;01mreturn\u001b[39;00m \u001b[43m_func\u001b[49m\u001b[43m(\u001b[49m\u001b[43mllm\u001b[49m\u001b[43m,\u001b[49m\u001b[43m \u001b[49m\u001b[43mverbose\u001b[49m\u001b[38;5;241;43m=\u001b[39;49m\u001b[43mverbose\u001b[49m\u001b[43m,\u001b[49m\u001b[43m \u001b[49m\u001b[38;5;241;43m*\u001b[39;49m\u001b[38;5;241;43m*\u001b[39;49m\u001b[43mkwargs\u001b[49m\u001b[43m)\u001b[49m\n",
      "File \u001b[1;32mc:\\Users\\ELAFACRB1\\venvs\\langchain\\Lib\\site-packages\\langchain\\chains\\qa_with_sources\\loading.py:63\u001b[0m, in \u001b[0;36m_load_stuff_chain\u001b[1;34m(llm, prompt, document_prompt, document_variable_name, verbose, **kwargs)\u001b[0m\n\u001b[0;32m     54\u001b[0m \u001b[38;5;28;01mdef\u001b[39;00m \u001b[38;5;21m_load_stuff_chain\u001b[39m(\n\u001b[0;32m     55\u001b[0m     llm: BaseLanguageModel,\n\u001b[0;32m     56\u001b[0m     prompt: BasePromptTemplate \u001b[38;5;241m=\u001b[39m stuff_prompt\u001b[38;5;241m.\u001b[39mPROMPT,\n\u001b[1;32m   (...)\u001b[0m\n\u001b[0;32m     60\u001b[0m     \u001b[38;5;241m*\u001b[39m\u001b[38;5;241m*\u001b[39mkwargs: Any,\n\u001b[0;32m     61\u001b[0m ) \u001b[38;5;241m-\u001b[39m\u001b[38;5;241m>\u001b[39m StuffDocumentsChain:\n\u001b[0;32m     62\u001b[0m     llm_chain \u001b[38;5;241m=\u001b[39m LLMChain(llm\u001b[38;5;241m=\u001b[39mllm, prompt\u001b[38;5;241m=\u001b[39mprompt, verbose\u001b[38;5;241m=\u001b[39mverbose)\n\u001b[1;32m---> 63\u001b[0m     \u001b[38;5;28;01mreturn\u001b[39;00m \u001b[43mStuffDocumentsChain\u001b[49m\u001b[43m(\u001b[49m\n\u001b[0;32m     64\u001b[0m \u001b[43m        \u001b[49m\u001b[43mllm_chain\u001b[49m\u001b[38;5;241;43m=\u001b[39;49m\u001b[43mllm_chain\u001b[49m\u001b[43m,\u001b[49m\n\u001b[0;32m     65\u001b[0m \u001b[43m        \u001b[49m\u001b[43mdocument_variable_name\u001b[49m\u001b[38;5;241;43m=\u001b[39;49m\u001b[43mdocument_variable_name\u001b[49m\u001b[43m,\u001b[49m\n\u001b[0;32m     66\u001b[0m \u001b[43m        \u001b[49m\u001b[43mdocument_prompt\u001b[49m\u001b[38;5;241;43m=\u001b[39;49m\u001b[43mdocument_prompt\u001b[49m\u001b[43m,\u001b[49m\n\u001b[0;32m     67\u001b[0m \u001b[43m        \u001b[49m\u001b[43mverbose\u001b[49m\u001b[38;5;241;43m=\u001b[39;49m\u001b[43mverbose\u001b[49m\u001b[43m,\u001b[49m\n\u001b[0;32m     68\u001b[0m \u001b[43m        \u001b[49m\u001b[38;5;241;43m*\u001b[39;49m\u001b[38;5;241;43m*\u001b[39;49m\u001b[43mkwargs\u001b[49m\u001b[43m,\u001b[49m\n\u001b[0;32m     69\u001b[0m \u001b[43m    \u001b[49m\u001b[43m)\u001b[49m\n",
      "File \u001b[1;32mc:\\Users\\ELAFACRB1\\venvs\\langchain\\Lib\\site-packages\\langchain_core\\load\\serializable.py:107\u001b[0m, in \u001b[0;36mSerializable.__init__\u001b[1;34m(self, **kwargs)\u001b[0m\n\u001b[0;32m    106\u001b[0m \u001b[38;5;28;01mdef\u001b[39;00m \u001b[38;5;21m__init__\u001b[39m(\u001b[38;5;28mself\u001b[39m, \u001b[38;5;241m*\u001b[39m\u001b[38;5;241m*\u001b[39mkwargs: Any) \u001b[38;5;241m-\u001b[39m\u001b[38;5;241m>\u001b[39m \u001b[38;5;28;01mNone\u001b[39;00m:\n\u001b[1;32m--> 107\u001b[0m     \u001b[38;5;28;43msuper\u001b[39;49m\u001b[43m(\u001b[49m\u001b[43m)\u001b[49m\u001b[38;5;241;43m.\u001b[39;49m\u001b[38;5;21;43m__init__\u001b[39;49m\u001b[43m(\u001b[49m\u001b[38;5;241;43m*\u001b[39;49m\u001b[38;5;241;43m*\u001b[39;49m\u001b[43mkwargs\u001b[49m\u001b[43m)\u001b[49m\n\u001b[0;32m    108\u001b[0m     \u001b[38;5;28mself\u001b[39m\u001b[38;5;241m.\u001b[39m_lc_kwargs \u001b[38;5;241m=\u001b[39m kwargs\n",
      "File \u001b[1;32mc:\\Users\\ELAFACRB1\\venvs\\langchain\\Lib\\site-packages\\pydantic\\v1\\main.py:341\u001b[0m, in \u001b[0;36mBaseModel.__init__\u001b[1;34m(__pydantic_self__, **data)\u001b[0m\n\u001b[0;32m    339\u001b[0m values, fields_set, validation_error \u001b[38;5;241m=\u001b[39m validate_model(__pydantic_self__\u001b[38;5;241m.\u001b[39m\u001b[38;5;18m__class__\u001b[39m, data)\n\u001b[0;32m    340\u001b[0m \u001b[38;5;28;01mif\u001b[39;00m validation_error:\n\u001b[1;32m--> 341\u001b[0m     \u001b[38;5;28;01mraise\u001b[39;00m validation_error\n\u001b[0;32m    342\u001b[0m \u001b[38;5;28;01mtry\u001b[39;00m:\n\u001b[0;32m    343\u001b[0m     object_setattr(__pydantic_self__, \u001b[38;5;124m'\u001b[39m\u001b[38;5;124m__dict__\u001b[39m\u001b[38;5;124m'\u001b[39m, values)\n",
      "\u001b[1;31mValidationError\u001b[0m: 1 validation error for StuffDocumentsChain\n__root__\n  document_variable_name summaries was not found in llm_chain input_variables: ['user_topics'] (type=value_error)"
     ]
    }
   ],
   "source": [
    "chain = RetrievalQAWithSourcesChain.from_chain_type(\n",
    "    llm=OpenAI(temperature=0),\n",
    "    chain_type=\"stuff\",\n",
    "    retriever=vectore_store_client.as_retriever(),\n",
    "    chain_type_kwargs={\n",
    "        \"prompt\": PromptTemplate(\n",
    "            template=template,\n",
    "            input_variables=[\"user_topics\"],\n",
    "            partial_variables={\"format_instructions\": format_instructions},\n",
    "            return_source_documents=True,\n",
    "        ),\n",
    "    },\n",
    ")"
   ]
  },
  {
   "cell_type": "code",
   "execution_count": null,
   "metadata": {},
   "outputs": [],
   "source": []
  }
 ],
 "metadata": {
  "kernelspec": {
   "display_name": "langchain",
   "language": "python",
   "name": "python3"
  },
  "language_info": {
   "codemirror_mode": {
    "name": "ipython",
    "version": 3
   },
   "file_extension": ".py",
   "mimetype": "text/x-python",
   "name": "python",
   "nbconvert_exporter": "python",
   "pygments_lexer": "ipython3",
   "version": "3.11.8"
  }
 },
 "nbformat": 4,
 "nbformat_minor": 2
}
