{
 "cells": [
  {
   "cell_type": "code",
   "execution_count": 2,
   "metadata": {},
   "outputs": [],
   "source": [
    "from langchain import OpenAI, VectorDBQA, LLMChain\n",
    "from langchain.prompts import PromptTemplate\n",
    "import os\n",
    "from dotenv import load_dotenv\n",
    "from langchain.embeddings.openai import OpenAIEmbeddings\n",
    "from langchain.vectorstores import Chroma\n",
    "from langchain.text_splitter import RecursiveCharacterTextSplitter\n",
    "from langchain.document_loaders import TextLoader"
   ]
  },
  {
   "cell_type": "code",
   "execution_count": 3,
   "metadata": {},
   "outputs": [],
   "source": [
    "import sys\n",
    "sys.path.append(r\"C:\\Users\\ELAFACRB1\\Codice\\GitHub\\media-chat-service\\src\\embedding\")\n",
    "from utils import ChromaDBManager, LangChainAI, QDrantDBManager, EmbeddingFunction"
   ]
  },
  {
   "cell_type": "code",
   "execution_count": 4,
   "metadata": {},
   "outputs": [],
   "source": [
    "from langchain.chat_models import ChatOpenAI\n",
    "from langchain.chains import RetrievalQA"
   ]
  },
  {
   "cell_type": "code",
   "execution_count": 5,
   "metadata": {},
   "outputs": [
    {
     "name": "stderr",
     "output_type": "stream",
     "text": [
      "c:\\Users\\ELAFACRB1\\venvs\\langchain\\Lib\\site-packages\\langchain_core\\_api\\deprecation.py:117: LangChainDeprecationWarning: The class `langchain_community.chat_models.openai.ChatOpenAI` was deprecated in langchain-community 0.0.10 and will be removed in 0.2.0. An updated version of the class exists in the langchain-openai package and should be used instead. To use it run `pip install -U langchain-openai` and import as `from langchain_openai import ChatOpenAI`.\n",
      "  warn_deprecated(\n",
      "c:\\Users\\ELAFACRB1\\venvs\\langchain\\Lib\\site-packages\\langchain_core\\_api\\deprecation.py:117: LangChainDeprecationWarning: The class `langchain_community.embeddings.openai.OpenAIEmbeddings` was deprecated in langchain-community 0.1.0 and will be removed in 0.2.0. An updated version of the class exists in the langchain-openai package and should be used instead. To use it run `pip install -U langchain-openai` and import as `from langchain_openai import OpenAIEmbeddings`.\n",
      "  warn_deprecated(\n"
     ]
    },
    {
     "name": "stdout",
     "output_type": "stream",
     "text": [
      "Collection rio-rag-platform already exists!\n"
     ]
    }
   ],
   "source": [
    "llm = ChatOpenAI(temperature=0, model=\"gpt-3.5-turbo-0613\")\n",
    "embedding = EmbeddingFunction('openAI').embedder\n",
    "vectore_store=qdrantClient = QDrantDBManager(\n",
    "    url=\"http://ec2-18-209-145-26.compute-1.amazonaws.com:6333/dashboard\",\n",
    "    port=6333,\n",
    "    collection_name=\"rio-rag-platform\",\n",
    "    vector_size=1536,\n",
    "    embedding=embedding,\n",
    "    record_manager_url=r\"sqlite:///C:\\Users\\ELAFACRB1\\Codice\\GitHub\\media-chat-service\\src\\embedding\\record_manager_cache.sql\"\n",
    ")\n",
    "vectore_store_client=vectore_store.vector_store"
   ]
  },
  {
   "cell_type": "code",
   "execution_count": 6,
   "metadata": {},
   "outputs": [],
   "source": [
    "COLLECTION_NAME=\"rio-rag-platform\""
   ]
  },
  {
   "cell_type": "code",
   "execution_count": 7,
   "metadata": {},
   "outputs": [],
   "source": [
    "qa_chain = RetrievalQA.from_chain_type(\n",
    "    llm,\n",
    "    chain_type=\"stuff\",\n",
    "    retriever=vectore_store_client.as_retriever(),\n",
    "    return_source_documents=True,\n",
    ")"
   ]
  },
  {
   "cell_type": "code",
   "execution_count": 8,
   "metadata": {},
   "outputs": [],
   "source": [
    "query='what the role on product owner in Safe? '"
   ]
  },
  {
   "cell_type": "code",
   "execution_count": 9,
   "metadata": {},
   "outputs": [
    {
     "name": "stderr",
     "output_type": "stream",
     "text": [
      "c:\\Users\\ELAFACRB1\\venvs\\langchain\\Lib\\site-packages\\langchain_core\\_api\\deprecation.py:117: LangChainDeprecationWarning: The function `__call__` was deprecated in LangChain 0.1.0 and will be removed in 0.2.0. Use invoke instead.\n",
      "  warn_deprecated(\n"
     ]
    },
    {
     "data": {
      "text/plain": [
       "{'query': 'what the role on product owner in Safe? ',\n",
       " 'result': 'The role of the Product Owner in SAFe (Scaled Agile Framework) is responsible for connecting with the customer, contributing to the vision and roadmap, managing and prioritizing the team backlog, supporting the team in delivering value, and getting and applying fast feedback. The Product Owner works closely with the Agile Team to ensure that the product or solution being developed meets the needs of the customer and aligns with the overall vision and goals of the organization.',\n",
       " 'source_documents': [Document(page_content='efficiencies over timeFOR REFERENCE ONLY 2-13 Workbook 38 © Scaled Agile, Inc. For personal use only - Rosario Laface - Nov 16, 2023 (ID:0056T00000949fqQAA)  © Scaled Agile. Inc. © Scaled Agile, Inc.  2.2 The Scrum Master / Team Coach and  Product Owner roles 2-16 © Scaled Agile. Inc. Team Charter Agile Purpose Success Measures Team Members Team Type & ResponsibilitiesDefinition of Done Distinctive Competencies Key Interactions Working Agreements Key StakeholdersTeam EventsPart of the SAFe Team Formation Toolkit: ►The Agile Team Charter helps teams to  clearly define their purpose,  responsibilities, and success criteria,  amongst other critical elements ►The process of completing the Agile Team  Charter provides the opportunity for teams  to discuss and reflect on how they want to  work with each other and with other teams  on the ART ►For each of the ten boxes, there’s an  interactive exercise to generate discussion  and the required outputFacilitate an Agile Team Charter workshop SAFe® Team Formation Toolkit 2-15 Workbook 39 © Scaled Agile, Inc. For personal use only - Rosario Laface - Nov 16, 2023 (ID:0056T00000949fqQAA)  © Scaled Agile. Inc.The SM/TC responsibilities 2-18 Facilitating PI Planning Improving ART Performance Supporting Iteration Execution Building High -Performing Teams Improving FlowScrum Master/ Team Coach © Scaled Agile. Inc.Agile Teams have two speciality roles SM/TC •Facilitates PI Planning •Supports Iteration Execution •Improves Flow •Builds a high- performing team •Improves ART PerformancePO •Connects with the Customer •Contributes to the Vision and Roadmap •Manages and prioritizes the  Team Backlog •Supports the Team in Delivering Value •Gets and Applies Fast Feedback 2-17 Workbook 40 © Scaled Agile, Inc. For personal use only - Rosario Laface - Nov 16, 2023 (ID:0056T00000949fqQAA)  © Scaled Agile. Inc. ►Step 1: With your group, draw the following Venn diagram  ►Step 2: Review the provided responsibility cards ►Step 3: Place them either', metadata={'source': 'text', '_id': 'a357923a-ba2c-5e04-bd6d-37edfcafdb95', '_collection_name': 'rio-rag-platform'}),\n",
       "  Document(page_content='your Agile Team ►Explain the characteristics and responsibilities of an Agile Team ►Describe  the SAFe Scrum Master / Team Coach and SAFe  Product Owner roles ►Explain SAFe Scrum and SAFe Team Kanban ►Identify the roles within an Agile Release Train (ART) ►Identify one or more actions individuals or teams can take to develop  cross- functional skillsets within their Agile Team 2-3 Workbook 33 © Scaled Agile, Inc. For personal use only - Rosario Laface - Nov 16, 2023 (ID:0056T00000949fqQAA)  © Scaled Agile. Inc. ►A self -organizing team dynamically  interacts with itself and  the organization  ►Team members create new points  of view and resolve contradictions  through dialogue ►The team is energized with  intentions, Vision, interest,  and mission ►Leaders provide autonomy, variety,  trust, and commitmentThe power of a  high- performing team: The people, the work, and  the knowledge are all one 2-6 © Scaled Agile. Inc.In SAFe, an Agile Team is a cross -functional group of generally ten or fewer  individuals who define, build, test, and deliver value in short increments while  continuously learning and adjusting. ►Optimized for communication and delivery of value ►Deliver value every two weeks ►Contain t wo specialty roles: –Scrum Master / Team Coach (SM/TC) –Product Owner (PO) What are Agile Teams ? Team 1 Team NDefine Build Test Deploy 2-5 Workbook 34 © Scaled Agile, Inc. For personal use only - Rosario Laface - Nov 16, 2023 (ID:0056T00000949fqQAA)  © Scaled Agile. Inc.►Foster the psychological safety needed to take risks without fear of embarrassment  or punishment ►Have diverse knowledge and skills to make quick, effective decisions independently ►Trust each other, allowing for both healthy conflict and reliance on others ►Align on a shared Vision with clear goals and purpose ►Accountable to each other and the organization for reliably completing quality work ►Meet commitments ►Understand their work’s broader impact on the organization ►Enjoy their work and', metadata={'source': 'text', '_id': '1817c506-a6ae-530b-981b-409f819e3a03', '_collection_name': 'rio-rag-platform'}),\n",
       "  Document(page_content='in the circle for a role or in an  applicable intersection on the Venn diagram ►Step 4: Present your Venn diagram to the class Activity: Team roles and responsibilities 2 Share 8 Prepare min min Agile  Team PO SM/TC 2-20 © Scaled Agile. Inc.The PO responsibilities 2-19 Contributing to the  Vision and Roadmap  Connecting with the Customer    Supporting the Team in Delivering Value Getting and  Applying Feedback  Managing and Prioritizing  the Team Backlog   Product Owner Workbook 41 © Scaled Agile, Inc. For personal use only - Rosario Laface - Nov 16, 2023 (ID:0056T00000949fqQAA)  © Scaled Agile. Inc.SAFe Lean -Agile Principles #1 Take an economic view #2 Apply systems thinking #3 Assume variability; preserve options #4 Build incrementally with fast, integrated learning cycles #5 Base milestones on objective evaluation of working systems #6 Make value flow without interruptions #7 Apply cadence, synchronize with cross- domain planning #8 Unlock the intrinsic motivation of knowledge workers #9 Decentralize decision- making #10 Organize around value 2-22 © Scaled Agile. Inc. © Scaled Agile, Inc.  2.3 SAFe Scrum and  SAFe Team  Kanban 2-21 Workbook 42 © Scaled Agile, Inc. For personal use only - Rosario Laface - Nov 16, 2023 (ID:0056T00000949fqQAA)  © Scaled Agile. Inc.#6 Make value flow without interruptions Instead of a large group… working on all the  requirements…and integrating and delivering value  toward the end of development… have small teams  aligned together…working on small batches  of requirements…and delivering value in short  timeboxes with frequent  integration and  improvement cycles.DoCheck Adjust Plan 2-24 © Scaled Agile. Inc.►Improves learning efficiency by decreasing  the time between action and effect ►Reduces the cost of risk -taking by  truncating unsuccessful paths quickly ►Is facilitated by small batch sizes ►Requires increased investment in  development environment The shorter the cycles, the faster the learning .#4 Build incrementally with', metadata={'source': 'text', '_id': 'e61ba05f-eb5a-5ebf-860e-d34293ca7313', '_collection_name': 'rio-rag-platform'}),\n",
       "  Document(page_content='Workbook6.0.1 SAFe®   for Teams Establishing Team Agility   for Agile Release Trains For personal use only - Rosario Laface - Nov 16, 2023 (ID:0056T00000949fqQAA)  Welcome to the course! Make the Most of   Your Learning Access SAFe Studio  Manage your member profile, access videos and training resources,   join Communities of Practice, and more. Prepare Yourself   Access your learning plan featuring your digital workbook, study materials,   and certification practice test    Become a Certified SAFe Professional   Get certified to validate your knowledge, expand your professional capabilities,   and open the door to new career opportunities. Access SAFe Content and Tools   Access professional development resources and toolkits. Collaborate with Your Team   Choose from hundreds of collaboration templates to easily set up events   like PI Planning and work in real time with your team and others—all with   SAFe Collaborate.    Showcase SAFe Credentials   Display your digital badge to promote your SAFe capabilities and proficiencies  throughout your career. safe.scaledagile.com For personal use only - Rosario Laface - Nov 16, 2023 (ID:0056T00000949fqQAA)  For personal use only - Rosario Laface - Nov 16, 2023 (ID:0056T00000949fqQAA)  For personal use only - Rosario Laface - Nov 16, 2023 (ID:0056T00000949fqQAA)  For personal use only - Rosario Laface - Nov 16, 2023 (ID:0056T00000949fqQAA)  For personal use only - Rosario Laface - Nov 16, 2023 (ID:0056T00000949fqQAA)  Agile Product DeliveryEnterprise Solution Delivery Lean Portfolio Management Organizational Agility Team and Technical Agility Lean-Agile LeadershipContinuous Learning CultureCustomer Centricity Agile Teams Teams of Agile TeamsBuilt-in QualityCustomer Centricity & Design Thinking Relentless ImprovementLearning Organization Innovation Culture Mindset & Principles Leading by Example Leading Change N Strategy AgilityLean Business OperationsCoordinating Trains  and Suppliers Develop on Cadence Release on Demand', metadata={'source': 'text', '_id': 'b6a7d35e-c74b-5807-bcca-d308df8e7ba6', '_collection_name': 'rio-rag-platform'})]}"
      ]
     },
     "execution_count": 9,
     "metadata": {},
     "output_type": "execute_result"
    }
   ],
   "source": [
    "qa_chain(query)"
   ]
  },
  {
   "cell_type": "markdown",
   "metadata": {},
   "source": [
    "Parent document"
   ]
  },
  {
   "cell_type": "code",
   "execution_count": 10,
   "metadata": {},
   "outputs": [],
   "source": [
    "from langchain.retrievers import ParentDocumentRetriever\n",
    "from langchain.storage import InMemoryStore\n",
    "from langchain.text_splitter import RecursiveCharacterTextSplitter\n",
    "from langchain_community.document_loaders import TextLoader\n",
    "from langchain_community.vectorstores import Chroma\n",
    "from langchain_openai import OpenAIEmbeddings"
   ]
  },
  {
   "cell_type": "code",
   "execution_count": 15,
   "metadata": {},
   "outputs": [],
   "source": [
    "from langchain_community.vectorstores import Qdrant"
   ]
  },
  {
   "cell_type": "code",
   "execution_count": 16,
   "metadata": {},
   "outputs": [
    {
     "data": {
      "text/plain": [
       "langchain_community.vectorstores.qdrant.Qdrant"
      ]
     },
     "execution_count": 16,
     "metadata": {},
     "output_type": "execute_result"
    }
   ],
   "source": [
    "Qdrant"
   ]
  },
  {
   "cell_type": "code",
   "execution_count": 11,
   "metadata": {},
   "outputs": [],
   "source": [
    "child_splitter = RecursiveCharacterTextSplitter(chunk_size=400)"
   ]
  },
  {
   "cell_type": "code",
   "execution_count": 12,
   "metadata": {},
   "outputs": [],
   "source": [
    "store = InMemoryStore()"
   ]
  },
  {
   "cell_type": "code",
   "execution_count": 18,
   "metadata": {},
   "outputs": [],
   "source": [
    "retriever = ParentDocumentRetriever(\n",
    "    vectorstore=vectore_store.vector_store,\n",
    "    docstore=store,\n",
    "    child_splitter=child_splitter,\n",
    ")"
   ]
  },
  {
   "cell_type": "code",
   "execution_count": 20,
   "metadata": {},
   "outputs": [],
   "source": [
    "from langchain.document_loaders import RSSFeedLoader\n",
    "from langchain.text_splitter import RecursiveCharacterTextSplitter\n",
    "urls = [\"https://medium.com/feed/tag/quantum-computing\"]\n",
    "loader = RSSFeedLoader(urls=urls)\n",
    "data = loader.load()"
   ]
  },
  {
   "cell_type": "code",
   "execution_count": 21,
   "metadata": {},
   "outputs": [],
   "source": [
    "retriever.add_documents(data, ids=None)"
   ]
  },
  {
   "cell_type": "code",
   "execution_count": 24,
   "metadata": {},
   "outputs": [
    {
     "data": {
      "text/plain": [
       "ParentDocumentRetriever(vectorstore=<langchain_community.vectorstores.qdrant.Qdrant object at 0x000001AD239F8C90>, docstore=<langchain.storage.in_memory.InMemoryBaseStore object at 0x000001AD247C1E50>, child_splitter=<langchain.text_splitter.RecursiveCharacterTextSplitter object at 0x000001AD251CFF50>)"
      ]
     },
     "execution_count": 24,
     "metadata": {},
     "output_type": "execute_result"
    }
   ],
   "source": [
    "retriever"
   ]
  },
  {
   "cell_type": "code",
   "execution_count": 22,
   "metadata": {},
   "outputs": [],
   "source": [
    "qa_chain = RetrievalQA.from_chain_type(\n",
    "    llm,\n",
    "    chain_type=\"stuff\",\n",
    "    retriever=vectore_store_client.as_retriever(),\n",
    "    return_source_documents=True,\n",
    ")"
   ]
  },
  {
   "cell_type": "code",
   "execution_count": 23,
   "metadata": {},
   "outputs": [
    {
     "data": {
      "text/plain": [
       "{'query': 'whats the most recent computer for quantum computing?',\n",
       " 'result': \"The most recent computer for quantum computing is the Sycamore processor developed by Google. It made headlines in 2019 when Google claimed to have achieved quantum supremacy with this processor. However, it's important to note that the field of quantum computing is rapidly evolving, and new advancements are being made by various companies and research institutions.\",\n",
       " 'source_documents': [Document(page_content='The Future of Quantum Computing', metadata={'authors': [], 'description': 'Are you tired of waiting ages for data processing to complete? Frustrated by the limitations of conventional computing power? If so, you’re not alone. In a world where data is king, speed and…', 'doc_id': '7ed35252-4320-4062-a7e2-aada649aa0b1', 'feed': 'https://medium.com/feed/tag/quantum-computing', 'language': 'en', 'link': 'https://medium.com/@krupalu.datta/quantum-supremacy-redefining-speed-and-efficiency-in-data-processing-4d52704f62f8?source=rss------quantum_computing-5', 'publish_date': '2024-02-27T07:57:05.479000Z', 'title': 'Quantum Supremacy: Redefining Speed and Efficiency in Data Processing', '_id': '65744e57-b490-44ca-a54b-f5dee542e60b', '_collection_name': 'rio-rag-platform'}),\n",
       "  Document(page_content='Quantum Computing and Processing Power', metadata={'authors': ['Exohood Labs'], 'description': 'In an era where the boundaries of technology continually expand, the integration of artificial intelligence, quantum computing and blockchain presents a groundbreaking approach to one of humanity’s…', 'doc_id': '7c9fa6d7-6c2d-4b85-851a-7dcad96ca194', 'feed': 'https://medium.com/feed/tag/quantum-computing', 'language': 'en', 'link': 'https://exohood.medium.com/bridging-minds-the-fusion-of-ai-quantum-technology-and-blockchain-ce7d92764c73?source=rss------quantum_computing-5', 'publish_date': '2024-02-27T13:55:19.213000Z', 'title': 'Bridging minds the fusion of AI, Quantum technology and Blockchain', '_id': 'c761c6e3-baf9-449c-904f-822adcc90c7f', '_collection_name': 'rio-rag-platform'}),\n",
       "  Document(page_content='The pursuit of quantum supremacy has spurred intense competition among leading tech companies and research institutions worldwide. Google made headlines in 2019 with its claim of achieving quantum supremacy through its Sycamore processor, which performed a specific task in a fraction of the time it would take the most powerful classical supercomputer. Other players in the field, including IBM,', metadata={'authors': [], 'description': 'Are you tired of waiting ages for data processing to complete? Frustrated by the limitations of conventional computing power? If so, you’re not alone. In a world where data is king, speed and…', 'doc_id': '7ed35252-4320-4062-a7e2-aada649aa0b1', 'feed': 'https://medium.com/feed/tag/quantum-computing', 'language': 'en', 'link': 'https://medium.com/@krupalu.datta/quantum-supremacy-redefining-speed-and-efficiency-in-data-processing-4d52704f62f8?source=rss------quantum_computing-5', 'publish_date': '2024-02-27T07:57:05.479000Z', 'title': 'Quantum Supremacy: Redefining Speed and Efficiency in Data Processing', '_id': '2cc227de-0bb4-4e2b-bf67-9d2da3e1189f', '_collection_name': 'rio-rag-platform'}),\n",
       "  Document(page_content='supremacy through its Sycamore processor, which performed a specific task in a fraction of the time it would take the most powerful classical supercomputer. Other players in the field, including IBM, Intel, and startups like Rigetti Computing and D-Wave Systems, are also making significant strides in their quest to demonstrate quantum supremacy, each employing distinct approaches and', metadata={'authors': [], 'description': 'Are you tired of waiting ages for data processing to complete? Frustrated by the limitations of conventional computing power? If so, you’re not alone. In a world where data is king, speed and…', 'doc_id': '7ed35252-4320-4062-a7e2-aada649aa0b1', 'feed': 'https://medium.com/feed/tag/quantum-computing', 'language': 'en', 'link': 'https://medium.com/@krupalu.datta/quantum-supremacy-redefining-speed-and-efficiency-in-data-processing-4d52704f62f8?source=rss------quantum_computing-5', 'publish_date': '2024-02-27T07:57:05.479000Z', 'title': 'Quantum Supremacy: Redefining Speed and Efficiency in Data Processing', '_id': '0bfc616b-7b21-4cf6-bcf8-87fb179f7096', '_collection_name': 'rio-rag-platform'})]}"
      ]
     },
     "execution_count": 23,
     "metadata": {},
     "output_type": "execute_result"
    }
   ],
   "source": [
    "qa_chain('whats the most recent computer for quantum computing?')"
   ]
  },
  {
   "cell_type": "code",
   "execution_count": null,
   "metadata": {},
   "outputs": [],
   "source": []
  }
 ],
 "metadata": {
  "kernelspec": {
   "display_name": "langchain",
   "language": "python",
   "name": "python3"
  },
  "language_info": {
   "codemirror_mode": {
    "name": "ipython",
    "version": 3
   },
   "file_extension": ".py",
   "mimetype": "text/x-python",
   "name": "python",
   "nbconvert_exporter": "python",
   "pygments_lexer": "ipython3",
   "version": "3.11.8"
  }
 },
 "nbformat": 4,
 "nbformat_minor": 2
}
