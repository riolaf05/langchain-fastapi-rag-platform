{
 "cells": [
  {
   "cell_type": "code",
   "execution_count": 1,
   "metadata": {},
   "outputs": [],
   "source": [
    "from langchain import OpenAI, VectorDBQA, LLMChain\n",
    "from langchain.prompts import PromptTemplate\n",
    "import os\n",
    "from dotenv import load_dotenv\n",
    "from langchain.embeddings.openai import OpenAIEmbeddings\n",
    "from langchain.vectorstores import Chroma\n",
    "from langchain.text_splitter import RecursiveCharacterTextSplitter\n",
    "from langchain.document_loaders import TextLoader"
   ]
  },
  {
   "cell_type": "code",
   "execution_count": 2,
   "metadata": {},
   "outputs": [],
   "source": [
    "import sys\n",
    "sys.path.append(r\"C:\\Users\\ELAFACRB1\\Codice\\GitHub\\media-chat-service\\src\\embedding\")\n",
    "from utils import ChromaDBManager, LangChainAI, QDrantDBManager, EmbeddingFunction"
   ]
  },
  {
   "cell_type": "code",
   "execution_count": 3,
   "metadata": {},
   "outputs": [],
   "source": [
    "from langchain.chat_models import ChatOpenAI\n",
    "from langchain.chains import RetrievalQA"
   ]
  },
  {
   "cell_type": "code",
   "execution_count": 4,
   "metadata": {},
   "outputs": [
    {
     "name": "stderr",
     "output_type": "stream",
     "text": [
      "c:\\Users\\ELAFACRB1\\venvs\\langchain\\Lib\\site-packages\\langchain_core\\_api\\deprecation.py:117: LangChainDeprecationWarning: The class `langchain_community.chat_models.openai.ChatOpenAI` was deprecated in langchain-community 0.0.10 and will be removed in 0.2.0. An updated version of the class exists in the langchain-openai package and should be used instead. To use it run `pip install -U langchain-openai` and import as `from langchain_openai import ChatOpenAI`.\n",
      "  warn_deprecated(\n",
      "c:\\Users\\ELAFACRB1\\venvs\\langchain\\Lib\\site-packages\\langchain_core\\_api\\deprecation.py:117: LangChainDeprecationWarning: The class `langchain_community.embeddings.openai.OpenAIEmbeddings` was deprecated in langchain-community 0.1.0 and will be removed in 0.2.0. An updated version of the class exists in the langchain-openai package and should be used instead. To use it run `pip install -U langchain-openai` and import as `from langchain_openai import OpenAIEmbeddings`.\n",
      "  warn_deprecated(\n"
     ]
    },
    {
     "name": "stdout",
     "output_type": "stream",
     "text": [
      "Collection rio-rag-platform already exists!\n"
     ]
    }
   ],
   "source": [
    "llm = ChatOpenAI(temperature=0, model=\"gpt-3.5-turbo-0613\")\n",
    "embedding = EmbeddingFunction('openAI').embedder\n",
    "vectore_store=qdrantClient = QDrantDBManager(\n",
    "    url=\"http://ec2-18-209-145-26.compute-1.amazonaws.com:6333/dashboard\",\n",
    "    port=6333,\n",
    "    collection_name=\"rio-rag-platform\",\n",
    "    vector_size=1536,\n",
    "    embedding=embedding,\n",
    "    record_manager_url=r\"sqlite:///C:\\Users\\ELAFACRB1\\Codice\\GitHub\\media-chat-service\\src\\embedding\\record_manager_cache.sql\"\n",
    ")\n",
    "vectore_store_client=vectore_store.vector_store"
   ]
  },
  {
   "cell_type": "code",
   "execution_count": 5,
   "metadata": {},
   "outputs": [],
   "source": [
    "COLLECTION_NAME=\"rio-rag-platform\""
   ]
  },
  {
   "cell_type": "code",
   "execution_count": 6,
   "metadata": {},
   "outputs": [],
   "source": [
    "qa_chain = RetrievalQA.from_chain_type(\n",
    "    llm,\n",
    "    retriever=vectore_store_client.as_retriever()\n",
    ")"
   ]
  },
  {
   "cell_type": "code",
   "execution_count": 8,
   "metadata": {},
   "outputs": [],
   "source": [
    "query='valore per i clienti'"
   ]
  },
  {
   "cell_type": "code",
   "execution_count": 9,
   "metadata": {},
   "outputs": [],
   "source": [
    "found_docs = vectore_store_client.similarity_search(query)"
   ]
  },
  {
   "cell_type": "code",
   "execution_count": 10,
   "metadata": {},
   "outputs": [
    {
     "data": {
      "text/plain": [
       "[Document(page_content='una\\tsettimana\\tdi\\tconsolidamento\\tin\\toperativo\\tdei\\tcomportamenti attraverso\\tmomenti\\tdi\\tcoaching,\\tstrumenti\\tdi\\tauto\\ted eterovalutazione,\\tinterviste\\tai\\tclienti\\timmediatamente\\tdopo\\tla\\tloro chiamata\\tal\\tservizio\\tclienti; team\\tmeeting\\tfra\\til\\tteam\\tleader\\t(capo)\\te\\trep\\t(collaboratori)\\tper\\tfocus sui\\trisultati\\tpost\\tformazione\\te\\triflessioni\\tsulle\\tstrategie\\tdel\\tteam,\\tal fine\\tdi\\tgarantire\\tla\\tcontinuità\\tdell’applicazione\\tdei\\tcomportamenti sperimentati. 16.5 \\t\\tIL\\tCUSTOMER\\tSTORYTELLING\\tCOME\\tCARATTERISTICA\\tVINCENTE\\tDI\\tUN\\tQUALITY LAB In\\ttutto\\til\\tpercorso\\tlaboratoriale\\tviene\\tanalizzato\\te\\tapplicato\\tun\\t“insieme”\\tdi comportamenti\\tattesi\\ta\\tcomplessità\\tcrescente,\\tche\\tpermettono\\tuna\\tri- focalizzazione\\tsul\\tcliente\\te\\tsulla\\tgestione\\tdella\\trelazione\\tattraverso\\tun\\tconfronto continuo\\te\\tuna\\tcostante\\t rilettura\\tnarrativa \\tdei\\tcomportamenti\\tdi\\tciascun operatore,\\tfornendo\\tmotivazioni\\te\\tazioni\\tconcrete\\tsu\\tcui\\tlavorare. Vengono\\tutilizzati\\tin\\tmodo\\tsistematico\\te\\tcostante\\ti\\tcontenuti\\tcondivisi\\tin\\taula (script,\\tlinee\\tguida,\\ttecniche,\\tcomportamenti\\tecc.)\\tcon\\tl’obiettivo\\tdi\\taumentare rapidamente\\tla\\tcapacità\\tdi\\tautovalutare\\tl’efficacia\\tdella\\tperformance\\tentrando così\\tin\\tsempre\\tmaggiore\\tsintonia\\tcon\\til\\tcliente. Fra\\tgli\\tstrumenti\\tutilizzati\\tnel\\tLab\\t(questionario\\tdi\\tauto\\ted\\teterovalutazione, coaching,\\tinterviste\\t“live”\\tal\\tcliente),\\til\\tpiù\\tpotente,\\tda\\tun\\tpunto\\tdi\\tvista\\tdi impatto\\te\\tdi\\trisultato,\\tè\\tsicuramente\\tl’uso\\tdi\\tdecine\\tdi\\t video \\trealizzati\\tfilmando\\t– sotto\\tadesione\\tvolontaria\\t–\\tclienti\\treali\\tche\\tcontattano\\til\\tservizio\\tclienti Vodafone\\tcon\\tdifferenti\\tesigenze\\te\\tbisogni\\te\\traccontano\\tla\\tloro\\tesperienza. Ogni\\tvideo,\\tche\\tè\\tin\\trealtà\\tuna\\t docu-fiction ,\\tè\\tsuddiviso\\tin\\tmomenti\\t narrativi salienti: il\\tcliente\\tcontatta\\til\\tcall\\tcenter; il\\trep,\\tdopo\\tla\\tchiusura\\tdella\\ttelefonata,\\tnei\\tpanni\\tdel\\tcliente\\tdà\\tla\\tsua valutazione; il\\tcliente\\tdichiara\\til\\tsuo\\tlivello\\tdi\\tsoddisfazione\\trispetto\\tal\\tservizio valutando\\ttutti\\ti\\tparametri\\tdel\\tCSI; il\\trep\\tvede\\tla\\treale\\tvalutazione\\tdel\\tcliente;', metadata={'source': 'text', '_id': '0a27565c-fe63-5830-889c-cbe66c0ee108', '_collection_name': 'rio-rag-platform'}),\n",
       " Document(page_content='nel\\tmiglioramento\\tcontinuo\\tdel\\tservizio.\\tGià\\tnegli\\tanni\\tNovanta\\tl’azienda\\taveva avviato\\tun\\tprogramma\\tdi\\tcascading\\tsulla\\tmission\\te\\tsui\\tvalori,\\tfocalizzato\\tin modo\\tparticolare\\tsulle\\tattività\\tdi\\tservizio\\tverso\\tgli\\tospiti.\\tCon\\tla\\tripresa\\tdi questa\\tattività\\tnel\\t2004,\\tCosta\\tdecide\\tdi\\tmobilitare\\tle\\tsue\\tpersone\\tin\\tun\\tvero\\te proprio\\tprogramma\\tcontinuo\\tdi\\tcoinvolgimento\\tper\\tl’unicità\\te\\tl’eccellenza.\\tLa ripresa\\tavviene\\tdopo\\tanni\\tdi\\tforte\\tcrescita\\tdell’organizzazione\\tsul\\tpiano\\tdel business\\te\\tdel\\tnumero\\tdelle\\tpersone\\tcoinvolte:\\til\\tlancio\\tsul\\tmercato\\tdi\\tnuove navi,\\tpiù\\tgrandi\\te\\tinnovative,\\timpone\\tl’ingresso\\tdi\\tnuove\\tpersone\\tnegli equipaggi\\tdi\\tbordo\\tda\\tintegrare\\tnella\\tcultura\\torganizzativa\\tdell’eccellenza. Il\\tdirettore\\tgenerale,\\tsponsor\\tdel\\tprogramma,\\tdecide\\tdi\\tavviare\\til\\tprimo\\tanno di\\tattività\\tfocalizzando\\til\\tcoinvolgimento\\tdelle\\tpersone\\tsulle\\tissues\\tdel\\tsorriso\\te dell’innovazione:\\tqual\\tè\\tla\\tforza\\tdi\\t12.000\\tpersone\\ttutte\\tcon\\tgli\\tocchi\\tsempre aperti?\\tL’atteggiamento\\tdi\\taccoglienza\\tverso\\tl’ospite\\te\\tla\\tricerca\\tcomune\\tdi nuove\\tidee\\tper\\trendere\\tsempre\\tunica\\tl’esperienza\\tdella\\tcrociera\\tCosta\\tdiventano le\\tbasi\\tper\\tcostruire\\tuna\\tcomunità\\tdi\\tpersone\\torientate\\tnon\\tsolo\\tal\\tcompito\\tma anche\\talla\\tcostruzione\\tdi\\tun\\tpercorso\\tdi\\tvita\\tsempre\\tdiverso\\te\\tsempre\\tunico\\tper il\\tcliente.\\tL’esperienza\\tmemorabile\\tnasce\\tinfatti\\tdalla\\tcapacità\\tdi\\toffrire\\tagli ospiti\\tun\\tpalinsesto\\tdi\\temozioni\\tricco\\tdi\\tsorprese\\te\\tdi\\topportunità\\testetiche,\\tdi intrattenimento,\\tdi\\tevasione\\te\\tscoperta. Il\\triferimento\\tevidente\\tdel\\tprogramma\\tsono\\ti\\tmodelli\\tdi\\tprogramma eccellenza\\triconosciuti\\tdalla\\tcomunità\\tscientifica\\tinternazionale:\\tprimo\\ttra\\tquesti il\\tkaizen\\tdi\\tToyota.\\tL’eccellenza\\tè\\tpartecipazione\\te\\tnasce\\tdalla\\tcondivisione\\tdi un\\timpegno\\tper\\tla\\tsoddisfazione\\tpiena\\tdei\\tclienti. Nella\\tparola\\t“servizio”\\tc’è\\tla\\tradice\\tindoeuropea\\t swer \\tintesa\\tcome\\t guardare , cioè\\t attenzione\\ttotale .\\tIl\\tservizio\\tsi\\tfonda\\tsulla\\tcapacità\\tdi\\tciascuno\\tdi\\tvedere ogni\\tdettaglio,\\tmuoversi\\tdentro\\tregole\\tprecise\\te\\tnello\\tstesso\\ttempo\\tinterpretare', metadata={'source': 'text', '_id': '0222bcb8-304b-5234-8064-3bc0323d14e8', '_collection_name': 'rio-rag-platform'}),\n",
       " Document(page_content='il\\tcliente\\tspiega\\tle\\tragioni\\tdel\\tsuo\\tgiudizio. T ABELLA \\t16.1\\t\\t\\t\\t Caratteristiche\\tdi\\tun\\tlaboratorio\\tnarrativo Caratteristiche\\tdi\\tun Quality\\tLab \\t Azioni\\tdi\\tun\\tQuality Lab Narrazione\\tprofessionale \\t I\\tsoggetti\\tsi raccontano\\tle esperienze professionali\\to\\tle vedono\\traccontate attraverso\\tprocessi\\tdi fiction\\t(foto,\\tvideo, audio,\\tfilmati) Sperimentazione operativa \\t I\\tsoggetti riproducono\\tprassi, provano\\tstandard operativi,\\tmettono\\tin discussione conoscenze professionali Relazione\\tcomplessa \\t I\\tsoggetti\\tsi confrontano\\tfra\\tloro all’interno\\tdi dinamiche\\tdi apprendimento esperienziale Attenzione\\tdivisa\\t(o ascolto\\tpolifonico) \\t I\\tsoggetti\\tascoltano la\\tnarrazione\\tdei clienti\\t(attraverso\\ti vari\\tfilmati)\\te\\tquella dei\\tdiversi\\tcolleghi\\te dei\\tdiversi\\tcolleghi\\te riformulano\\tla\\tpropria personale\\tazione operativa L’opportunità\\tdi\\tvedere\\te\\t“toccare\\tcon\\tmano”\\tla\\tpercezione\\tche\\togni\\tsingolo cliente\\tha\\tdel\\tservizio\\tricevuto\\tpermette\\tal\\trep\\tdi\\tconcretizzare\\tl’esperienza vissuta\\te\\tdi\\treinterpretare,\\tattraverso\\til\\traccontarsi\\tdel\\tcliente,\\tla\\tvalutazione ricevuta. Nello\\tspecifico\\tpossiamo\\tdire\\tche\\tun\\tQuality\\tLab\\tin\\tVodafone\\tha\\ti\\ttratti fondamentali\\tillustrati\\tnella\\t tabella\\t16.1 . Ascoltare\\til\\tcliente\\tche\\tsi\\tracconta\\tavvicina\\tla\\tsua\\tesperienza\\tall’esperienza del\\trep,\\til\\tcontatto\\ttelefonico\\tsi\\tumanizza\\te\\til\\trep\\tincontra\\tprima\\tdi\\ttutto\\tuna persona\\te\\tnon\\tsolo\\tun\\tcliente. 16.6 \\t\\tI\\tRISULTATI\\tDI\\tQUESTA\\tESPERIENZA\\tDI\\t“BUSINESS\\tNARRATIVE” Dopo\\tl’esperienza\\tdel\\tQuality\\tLab\\tci\\tsono,\\tper\\ttutti\\ti\\tteam\\tcoinvolti,\\timmediati risultati\\toperativi \\tche\\tvedono: un\\tcostante\\tmiglioramento\\tdel\\tCSI\\toltre\\ta\\tuna\\tsensibile\\triduzione\\tdei reclami\\tdei\\tclienti; la\\triduzione\\tdelle\\trecall\\t(il\\tcliente\\teffettua\\t2\\to\\tpiù\\tchiamate\\tnell’arco di\\t3\\tgiorni),\\tche\\tmanifestano\\tuna\\tmancanza\\tdi\\tqualità\\te\\tdi\\tchiarezza del\\tservizio; un\\tcostante\\tmiglioramento\\tdegli\\tindicatori\\tdi\\tefficienza\\tdel\\tcall center. I\\trisultati\\ttangibili\\tdel\\tmetodo\\tlaboratoriale\\tdeclinato\\tattraverso\\tla\\tnarrazione,', metadata={'source': 'text', '_id': '2f6d9dbb-c50a-51ea-903c-406d15f6b30f', '_collection_name': 'rio-rag-platform'}),\n",
       " Document(page_content='Io\\tpenso\\tche\\tprima\\tdi\\ttutto\\tun’azienda\\tdeve\\tfare\\tbene\\til\\tsuo\\tdovere,\\tcioè\\tservire\\ti\\tclienti.\\tNel\\tnostro caso\\tsignifica\\tun\\tbuon\\tservizio,\\togni\\tanno\\tmigliore,\\ta\\tcosti\\tcontenuti,\\tinvestendo\\tnon\\tsolo\\tin strutture,\\tma\\tanche\\tin\\tcompetenza\\te\\tnuove\\ttecnologie.\\tFacendo\\tcrescere\\tle\\tpersone,\\taumentando\\tla loro\\tprofessionalità,\\tproponendo\\tloro\\tun\\tfuturo\\tconvincente.\\tE\\tremunerando\\tequamente\\tgli\\tazionisti. Se\\ttutto\\tquesto\\tviene\\tfatto\\tbene,\\tc’è\\tmateria\\tper\\tun\\tmare\\tdi\\tletteratura.\\tEd\\tè\\tbene\\tche\\tl’azienda stimoli\\te\\tappoggi\\tla\\tproduzione\\tletteraria,\\tanche\\tcon\\tinterventi\\tdi\\tsostegno:\\tsia\\tper\\tla\\tletteratura\\tche riguarda\\til\\tcampo\\tdi\\tattività,\\tsia\\tper\\tla\\tletteratura\\tin\\tgenerale.\\tMa\\tl’intervento\\tdeve\\tessere\\trispettoso: non\\tc’è\\tniente\\tdi\\tpeggio\\tdella\\tletteratura\\tmanipolata,\\tche\\tè\\tpure\\tcontroproducente.\\tE\\tper\\tessere rispettoso\\tdeve\\tnecessariamente\\tessere\\tproporzionato,\\tcioè\\tlimitato\\tnell’entità\\tal\\tgrado\\tdi\\trilevanza reciproca\\tche\\tazienda\\te\\tletteratura\\thanno\\ttra\\tloro. F IGURA \\t15.2\\t\\t\\t\\t COPERTINA\\tDI\\t RACCONTANDO :\\tSUPPLEMENTO\\tDI\\t STRADA\\tFACENDO CREATO\\tPER\\tDIALOGARE\\tCON\\tIL\\tPERSONALE\\tDI\\tESAZIONE\\tINTORNO ALLE\\tEMOZIONI\\tSUSCITATE\\tDAL\\tVIAGGIO L’inserto\\t Raccontando \\tè\\tstato\\tanche\\til\\tprincipale\\tcanale\\tdi\\tlancio dell’omonimo\\tconcorso\\tletterario,\\tnato\\tper\\tdare\\tspazio\\tall’espressione\\te\\talla creatività\\tdi\\tesattori\\ted\\tex\\tesattori.\\tAbbiamo\\tchiesto\\tai\\tpartecipanti\\tdi\\tdiventare scrittori\\te\\tinviarci\\tun\\tracconto\\to\\tdelle\\tpoesie\\tche\\tparlassero\\tdel\\tviaggio,\\tviaggi\\tin autostrada,\\tviaggi\\tper\\til\\tmondo\\to\\tsemplicemente\\tviaggi\\tdella\\tmente.\\tAbbiamo ricevuto\\tmoltissimo\\tmateriale\\tinteressante,\\tmolti\\tconcorrenti\\tci\\thanno\\traccontato il\\tloro\\tmestiere,\\tcosa\\tvuol\\tdire\\tfare\\tl’esattore,\\taltri\\tinvece\\thanno\\tnarrato\\ti\\tviaggi fatti\\tcon\\tgli\\tamici\\to\\tcon\\ti\\tgenitori,\\tevocando\\tricordi\\te\\tnostalgie. I\\tfinalisti,\\tprovenienti\\tda\\ttutta\\tItalia,\\tsono\\tstati\\tinvitati\\ta\\tRoma\\tper\\tla premiazione\\tdel\\tconcorso. La\\tprima\\tparte\\tdella\\tgiornata\\tha\\tprevisto\\tuna\\tvisita\\tin\\tesclusiva\\tai\\tMusei', metadata={'source': 'text', '_id': 'd6f19283-ff4c-5e81-92fe-933430cbd70a', '_collection_name': 'rio-rag-platform'})]"
      ]
     },
     "execution_count": 10,
     "metadata": {},
     "output_type": "execute_result"
    }
   ],
   "source": [
    "found_docs"
   ]
  },
  {
   "cell_type": "code",
   "execution_count": null,
   "metadata": {},
   "outputs": [],
   "source": []
  }
 ],
 "metadata": {
  "kernelspec": {
   "display_name": "langchain",
   "language": "python",
   "name": "python3"
  },
  "language_info": {
   "codemirror_mode": {
    "name": "ipython",
    "version": 3
   },
   "file_extension": ".py",
   "mimetype": "text/x-python",
   "name": "python",
   "nbconvert_exporter": "python",
   "pygments_lexer": "ipython3",
   "version": "3.11.7"
  }
 },
 "nbformat": 4,
 "nbformat_minor": 2
}
