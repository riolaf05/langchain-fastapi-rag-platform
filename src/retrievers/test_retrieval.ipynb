{
 "cells": [
  {
   "cell_type": "code",
   "execution_count": 2,
   "metadata": {},
   "outputs": [],
   "source": [
    "from langchain import OpenAI, VectorDBQA, LLMChain\n",
    "from langchain.prompts import PromptTemplate\n",
    "import os\n",
    "from dotenv import load_dotenv\n",
    "from langchain.embeddings.openai import OpenAIEmbeddings\n",
    "from langchain.vectorstores import Chroma\n",
    "from langchain.text_splitter import RecursiveCharacterTextSplitter\n",
    "from langchain.document_loaders import TextLoader"
   ]
  },
  {
   "cell_type": "code",
   "execution_count": 3,
   "metadata": {},
   "outputs": [],
   "source": [
    "import sys\n",
    "sys.path.append(r\"C:\\Users\\ELAFACRB1\\Codice\\GitHub\\media-chat-service\\src\\embedding\")\n",
    "from utils import ChromaDBManager, LangChainAI, QDrantDBManager, EmbeddingFunction"
   ]
  },
  {
   "cell_type": "code",
   "execution_count": 4,
   "metadata": {},
   "outputs": [],
   "source": [
    "from langchain.chat_models import ChatOpenAI\n",
    "from langchain.chains import RetrievalQA"
   ]
  },
  {
   "cell_type": "code",
   "execution_count": 15,
   "metadata": {},
   "outputs": [],
   "source": [
    "# llm = ChatOpenAI(temperature=0, model=\"gpt-3.5-turbo-0613\")\n",
    "llm = ChatOpenAI(temperature=0, model=\"gpt-3.5-turbo-16k-0613\")"
   ]
  },
  {
   "cell_type": "code",
   "execution_count": 16,
   "metadata": {},
   "outputs": [
    {
     "name": "stdout",
     "output_type": "stream",
     "text": [
      "Collection rio-rag-platform already exists!\n"
     ]
    }
   ],
   "source": [
    "embedding = EmbeddingFunction('openAI').embedder\n",
    "vectore_store=qdrantClient = QDrantDBManager(\n",
    "    url=\"http://ec2-18-209-145-26.compute-1.amazonaws.com:6333/dashboard\",\n",
    "    port=6333,\n",
    "    collection_name=\"rio-rag-platform\",\n",
    "    vector_size=1536,\n",
    "    embedding=embedding,\n",
    "    record_manager_url=r\"sqlite:///C:\\Users\\ELAFACRB1\\Codice\\GitHub\\media-chat-service\\src\\embedding\\record_manager_cache.sql\"\n",
    ")\n",
    "vectore_store_client=vectore_store.vector_store"
   ]
  },
  {
   "cell_type": "code",
   "execution_count": 17,
   "metadata": {},
   "outputs": [],
   "source": [
    "COLLECTION_NAME=\"rio-rag-platform\""
   ]
  },
  {
   "cell_type": "code",
   "execution_count": 18,
   "metadata": {},
   "outputs": [],
   "source": [
    "qa_chain = RetrievalQA.from_chain_type(\n",
    "    llm,\n",
    "    chain_type=\"stuff\",\n",
    "    retriever=vectore_store_client.as_retriever(),\n",
    "    return_source_documents=True,\n",
    ")"
   ]
  },
  {
   "cell_type": "code",
   "execution_count": 19,
   "metadata": {},
   "outputs": [],
   "source": [
    "query='puoi consigliarmi qualche caffè letterario? '"
   ]
  },
  {
   "cell_type": "code",
   "execution_count": 20,
   "metadata": {},
   "outputs": [
    {
     "data": {
      "text/plain": [
       "{'query': 'puoi consigliarmi qualche caffè letterario? ',\n",
       " 'result': \"Ecco alcuni caffè letterari a Milano che potresti considerare:\\n\\n1. Lapsus - Via Meda 38, Milano\\n2. Long Song Books & Café - Via Stoppani 11, Milano\\n3. Mamusca - Via Davanzati 2, Milano\\n4. La Scatola Lilla - Après Coup - Via Privata della Braida 5, Milano\\n5. Anarres - Via Crespi 11, Milano\\n6. Ècate - Via Pomponazzi 9E, Milano\\n7. Gogol & Company - Via Savona 101, Milano\\n8. Colibrì - Via Laghetto 9/11, Milano\\n9. L'Arabesque - Largo Augusto 10, Milano\\n10. Librosteria - Via Cesariano 7, Milano\\n11. Germi - Via Cicco Simonetta 14/A, Milano\\n12. Verso - Corso di Porta Ticinese 40, Milano\\n13. Open - Viale Monte Nero 6, Milano\\n14. Babitonga Café - Viale Pasubio 5, Milano\\n15. RED La Feltrinelli - Piazza Tre Torri, Milano / Piazza Gae Aulenti 1, Milano\\n\\nSpero che questa lista ti sia utile!\",\n",
       " 'source_documents': [Document(page_content='\\n\\n\\n\\n\\n\\n\\n\\n\\n\\n\\n\\n\\n\\n\\n\\n\\n\\n\\n\\n\\nMangiare e bere tra i libri: 15 caffè letterari a Milano - Conosco un posto\\n\\n\\n\\n\\n\\n\\n\\n\\n\\n\\n\\n\\n\\n\\n\\n\\n\\n\\n\\n\\n\\n\\n\\n\\n\\n\\n\\n\\n \\n\\n\\n\\n\\n\\n\\n\\n\\n\\n\\nBere&mangiare\\n\\n\\nDove?\\n\\nArco della Pace&Sempione\\nBrera&Garibaldi\\nCadorna&Sant’Ambrogio\\nCentrale&Repubblica\\nCinque Giornate\\nCittà Studi\\nDuomo&San Babila\\nIsola\\nLambrate\\nLoreto&Nolo\\nNavigli&Porta Genova\\nPorta Romana&Lodi\\nPorta Venezia\\nSarpi&Monumentale\\nSant’Agostino&Solari\\nWagner&De Angeli\\nUn po’ più fuori\\n\\n\\nCosa?\\n\\nPizza\\nCarne\\nPesce\\nItaliano\\nTrattorie&Osterie\\nEtnico\\nGiapponese\\nCinese\\nVeggie&Gluten Free\\nStreet Food\\nGelato\\nDolci&Pane\\nGastronomie&Alimentari\\n\\n\\nMood?\\n\\nInformale\\nAll’aperto\\nKids Friendly\\nPet friendly\\nOccasione speciale\\nTiratardi\\nUscite di gruppo&Feste\\nDelivery\\n\\n\\nQuando?\\n\\nColazione\\nBrunch\\nPranzo&Cena\\nMerenda\\nAperitivo\\nDopocena\\n\\n\\nQuanto vuoi spendere?\\n\\n€\\n€€\\n€€€\\n\\n\\nI nostri preferiti\\nNovità\\nCompilation\\n\\n\\n\\nVivere&Fare\\n\\n\\nCultura\\nEventi\\nShopping\\nIdee regalo\\nBeauty&Relax\\nGreen&Sociale\\nApp&Tech\\nSport\\nPasseggiate\\nDormire\\n\\n\\n\\nMappa\\nGuide di quartiere\\nViaggi\\n\\n\\nGite fuori porta\\nCittà\\nRoad trip\\nMete lontane\\n\\n\\n\\nInterviste\\nCucinare&leggere\\n\\n\\nLibri\\nHome Edition\\nSchiscette\\nCene Anziane\\n\\n\\n\\nMerch\\nAbout\\n\\n\\nChi Siamo\\nCollaborazioni\\nPress\\n\\n\\n\\n\\n\\n\\n\\n\\n\\n\\n\\n \\n\\n\\n\\nAperitivo Bere&mangiare Brunch Colazione Compilation Cultura Merenda Pranzo&Cena Quando? Vivere&Fare \\nMangiare e bere tra i libri: 15 caffè letterari a Milano\\n\\n Carlotta Coppo06/02/20240550 views \\n\\n\\n \\n\\nSe amate i libri al punto da sentirvi appagati anche solo dalla loro presenza, gli ambienti ibridi che vi stiamo per raccontare – ovvero librerie prevalentemente indipendenti con annessi bistrot, caffetterie o cocktail bar -, potrebbero essere i posti perfetti in cui godervi una semplice pausa caffè, un vero e proprio pasto o un drink a fine giornata, sia da soli che in compagnia. La nostra città ne è per fortuna piena, e in questo articolo passeremo in rassegna 15 caffè letterari a Milano dove poter mangiare e bere circondati da libri, con la possibilità di acquistarli! \\n15 CAFFÈ LETTERARI A MILANO CHE CI PIACCIONO\\nLAPSUS\\n\\nIl dehors e le vetrine di Lapsus | © Carlotta Coppo\\nCominciamo la nostra rassegna di caffè letterari a Milano da via Meda, dove si trova Lapsus, libreria indipendente e caffetteria, aperta a settembre 2016. Qui viene prestata particolare attenzione all’editoria per l’infanzia: vi è infatti un’intera stanza dedicata ai più piccoli, che possono trovare albi illustrati, narrativa e giochi educativi. Non per questo, però, la selezione di libri per adulti è meno attenta e scrupolosa. La caffetteria – perfetta per una colazione, una pausa caffè, una merenda ma anche un aperitivo (sul presto, dato che Lapsus chiude alle 19) – propone piatti freddi, zuppe, centrifugati e dolci, preparati con prodotti stagionali, biologici e a filiera corta.\\nLAPSUS. Via Meda 38, Milano. 0236562121. Aperto tutti i giorni (8-19) tranne domenica. \\nLONG SONG BOOKS & CAFÈ\\n\\nUn angolo di Long Song Books & Café | © Carlotta Coppo\\nBisogna invece spostarsi in Porta Venezia per trovare questa graziosa libreria di volumi di seconda mano – tra cui “introvabili” e prime edizioni – con caffetteria annessa, aperta da colazione fino a tarda sera. Qui si mangia e beve o all’interno – letteralmente circondati dai libri, che occupano tutte le pareti – o nel dehors. Pasticceria e brioches per colazione (nel weekend anche salata), piatti freddi e caldi per pranzo e cena ma anche cicchetti veneziani per l’aperitivo (un po’ costosetti, a dire il vero) e taglieri di salumi e formaggi, da accompagnare a una bella birra artigianale, a un calice di vino o un cocktail. Mattina e pomeriggio è anche consentito sostare per studiare o lavorare, con wi-fi a disposizione. A noi piace proprio tanto.\\nLONG SONG BOOKS & CAFÈ. Via Stoppani 11, Milano. 0249501699. Aperto tutti i giorni (da martedì a venerdì 7:30-24, sabato 10-24, domenica 10-21) tranne lunedì. \\nMAMUSCA\\n\\n\\nIn zona Dergano, invece, si trova Mamusca, nato come caffè letterario e poi diventato principalmente bistrot da quando ha avuto l’opportunità di allargarsi, trovando in Scamamù – libreria separata ma poco distante, nella stessa via – più spazio per i propri libri. Aperto da colazione a cena offre prime colazioni dolci e salate, dolci fatti in casa, insalate, tramezzini, piatti caldi, birre, vini e cocktail. Organizza anche laboratori per bambini ed eventi.\\xa0\\nMAMUSCA. Via Davanzati 2, Milano. 0283974943. Aperto tutti i giorni (8-22, sabato apertura alle 9) tranne domenica. \\nLA SCATOLA LILLA – APRÈS COUP\\nDi Après Coup avete già sentito parlare in diverse occasioni sul blog, perché si tratta di un locale vivace e multifunzionale adatto a diverse occasioni, a maggior ragione da quando La Scatola Lilla (libreria indipendente nata nel 2010 in un piccolo spazio in via Sannio) si è trasferita al suo interno. Di giorno Après Coup è chiuso e trovate ad accogliervi ‘solo’ Cristina Di Canio (proprietaria della libreria) coi suoi consigli letterari ma, a orario aperitivo, vengono spesso organizzate presentazioni di libri sul palco del locale, ancor più piacevoli se seguite spiluccando e sorseggiando qualcosa.\\xa0\\nLA SCATOLA LILLA. Via privata della Braida 5, Milano. 0249379035. Aperto da martedì a sabato (10-19:30).APRÈS COUP.\\xa0Via Privata della Braida 5, Milano.\\xa002 38243105. Aperto da martedì a sabato (18-1).\\nANARRES\\n\\nAnarres | © Carlotta Coppo\\nUno dei caffè letterari più interessanti e di recente apertura a Milano è Anarres, in zona Nolo. Bar, bistrot e libreria con arredi in legno: un ottimo posto per incontrarsi, rilassarsi, mangiare e bere e circondati dai libri (sia nuovi che usati), da mattina a dopo cena. Durante la settimana il menu è piuttosto stringato (tre piatti, di cui uno unico, da comporre a piacimento scegliendo tra alcune opzioni) e semplice, mentre nel weekend il cuoco, Oscar, si lascia andare, contaminando i proprio piatti con sapori e ingredienti tipici di altri Paesi. Tanti gli appuntamenti previsti ogni mese: ovviamente presentazioni ma anche musica live. Consigliata la prenotazione!\\nANARRES. Via Crespi 11, Milano. 3406870353. Aperto tutti i giorni (martedì e domenica 10-22, da mercoledì a sabato 10-24) tranne lunedì. \\nÈCATE\\n\\nUn angolo di Ècate | © Carlotta Coppo\\nIn una traversa che collega via Meda e via Pezzotti, a sud di Milano, si trova un altro ‘giovane’ caffè letterario, aperto nel 2022. Si chiama Ècate e prende il nome da una dea venerata in età pre-indoeuropea.  Dalle 8 alle 22, la sua cucina propone: pasticceria, panini (anch’essi intitolati a divinità femminili), insalate (con nomi di luoghi mitologici), piatti del giorno e taglieri di salumi e formaggi.; ma anche deliziose specialità pugliesi (pasticciotti, rustici e focaccia barese) e  piatti vegani, vegetariani e senza glutine. La domenica dalle 11 alle 15 è inoltre possibile fare il brunch, previa prenotazione. Incontri e attività culturali proposti, invece, sono pensati per approfondire le tematiche legate alla selezione di volumi della libreria: dalla nutrizione alle cure naturali, dalla psicologia all’esoterismo, dalla spiritualità alla mitologia.\\xa0\\nÈCATE. Via Pomponazzi 9E, Milano. 3285755732. Aperto tutti i giorni (8-22, domenica apertura alle 9) tranne martedì. \\nGOGOL & COMPANY\\n\\nUna sala di Gogol & Company| © Caterina Zanzi\\nOltre a essere un bar con coworking, Gogol & Company, che ha casa in zona Lorenteggio, è anche spazio espositivo e libreria. Qui si trovano narrativa e saggistica, volumi dedicati a fotografia e arti visive, enogastronomia e cultura underground, fumetti e titoli per i più piccoli, oltre ad aver luogo corsi specialistici di letteratura, scrittura, formazione editoriale e – nella bella stagione – serate musicali all’aperto.\\xa0Non vorremmo troppo sbilanciarci, ma è tra i nostri caffè letterari del cuore!\\nGOGOL & COMPANY. Via Savona 101, Milano. 0245470449. Aperto tutti i giorni (da martedì a venerdì 9-14 e 16-21, sabato e domenica 9-21) tranne lunedì. \\nCOLIBRÌ\\n\\n\\nLibreria e cortile interno di Colibrì | © Carlotta Coppo\\n\\nSì, lo sappiamo, abbiamo già inserito Colibrì in tantissimi articoli (tra cui quello fondamentale dei locali con un’alta concentrazione di boni) e sicuramente ormai lo conoscete bene, ma poteva forse mancare in questa selezione di caffè letterari di Milano? Assolutamente no; anche perché si tratta di una deliziosa location, tanto centrale quanto appartata e tranquilla. Di giorno servizio caffetteria e pochi piatti semplici e genuini per pranzo; la sera nachos, bruschette e taglieri di pizza o focaccia con humus da accompagnare a bibite, cocktail, vini e birra (anche analcolica). Nella bella stagione si può anche mangiare e bere all’aperto, accomodandosi nel cortiletto interno o in uno dei tavolini in piazza. Colibrì offre anche tanti incontri dal vivo, tra cui presentazioni di libri, mostre, concertini e gruppi di lettura.\\xa0\\nCOLIBRÌ. Via Laghetto 9/11, Milano. 3494016961. Aperto tutti i giorni (lunedì 8:30-22, da martedì a venerdì 8:30-24, sabato 16-24) tranne domenica. \\nL’ARABESQUE\\n\\nLibreria e bistrot di L’arabesque | © Carlotta Coppo\\n\\n\\nSempre in centro, poco distante da Colibrì, si trova uno dei posti più multiformi di Milano: L’Arabesque. Negozio di abbigliamento, gioielli e fragranze; cafè; galleria di design; archivio di capi vintage; palestra di pilates, yoga e funzionale ma anche libreria, L’Arabesque merita di certo almeno una visita, anche perché ha di recente subito un restyling che lo ha reso un po’….spaziale! Il catalogo della libreria contiene prevalentemente volumi dedicati a moda, architettura, design, cinema e fotografia (se siete in cerca di un bel coffee table book, insomma, questo è il luogo giusto!) oltre a una selezione di biografie, saggi e romanzi. Il bistrot – perfetto anche per un business lunch – serve piatti preparati con cura sia di carne e pesce che vegetariani per pranzo e cena, ma è possibile accomodarsi ai suoi tavolini anche per una colazione o un aperitivo. Qui non si pasteggia proprio tra i libri, ma bistrot e libreria sono adiacenti e da uno si può sbirciare nell’altro grazie a un grande oblò. Senz’altro tra gli indirizzi di questa rassegna il ‘premio sciccheria‘ se lo aggiudica lui.\\xa0L’ARABESQUE LIBRERIA. Largo Augusto 10, Milano. 0276394538. Aperto tutti i giorni (10:30-19) tranne domenica. L’ARABESQUE CAFÈ. Via Francesco Sforza 2, Milano. 0276341477. Aperto tutti i giorni (7:30-22) tranne domenica. \\nLIBROSTERIA\\n\\nUn’immagine di Librosteria | © Caterina Zanzi\\nIn zona Sempione si trova invece uno dei caffè letterari più conosciuti e frequentati di Milano: Librosteria. Qui si possono trovare libri di seconda mano (tra cui tanti titoli fuori catalogo);  o si può assistere a concerti, reading, presentazioni e poetry club open mic e, ovviamente, mangiare e bere qualcosa circondati da scaffali colmi di volumi e avvolti da una piacevole e vivace atmosfera. \\xa0\\nLIBROSTERIA. Via Cesariano 7, Milano. 0223187432. Aperto tutti i giorni (da lunedì a giovedì 17:30-24, venerdì 17:30-01, sabato 17-01, domenica 17-24).\\nGERMI\\n\\nUna libreria all’interno del locale | © Elisabetta De Candia\\nQuesto piccolo ma affascinante “luogo di contaminazione” culturale vicino alla Darsena, più che un caffè letterario è un cocktail bar letterario con ingresso riservato ai soci (quota annuale della tessera associativa 5€), in cui hanno luogo presentazioni di libri e di album, incontri e live musicali. In catalogo tantissimi titoli dedicati alla musica e ai suoi protagonisti (e come potrebbe essere altrimenti, dato che tra i fondatori di Germi ci sono Manuel Agnelli – ciao Manuel, ti amiamo, e Rodrigo D’Erasmo).\\xa0\\nGERMI. Via Cicco Simonetta 14/A, Milano. 0238314536. Aperto tutti i giorni (18-24) tranne lunedì.  \\nVERSO\\n\\nLa vetrina di Verso | © Carlotta Coppo\\nPer una pausa caffè (ma anche spritz) in zona Ticinese, c’è Verso. Questa libreria indipendente inaugurata quasi dieci anni fa è ormai diventata un punto di riferimento per gli amanti della lettura che qui, oltre a trovare tanti titoli di narrativa italiana e straniera, fumetti, graphic novel, grandi classici e ultime novità, possono anche rilassarsi, leggere, studiare o lavorare seduti al primo piano. C’è anche un’intera stanza dedicata ai lettori più giovani, per i quali vengono spesso organizzate letture e laboratori. Anche in questo caso il programma di eventi è fitto e molto interessante. Per scoprirlo, basta consultare il calendario costantemente aggiornato su sito e social.\\xa0\\nVERSO. Corso di Porta Ticinese 40, Milano. 028375648. Aperto tutti i giorni (9-21, domenica 11-19). \\nOPEN\\n\\nOpen | © Open\\nUn altro spazio estremamente versatile dove poter nutrire mente e corpo è Open, in zona Porta Romana; coworking con un’ampia area condivisa e sale meeting, distese di libri e bistrot. Un luogo luminoso e accogliente in cui consultare libri e riviste (a cui si può accedere tramite pass coworking), mangiare un boccone, lavorare o partecipare a uno dei tanti eventi letterari (o a una delle serate dedicate alla stand-up comedy).\\nOPEN. Viale Monte Nero 6, Milano. Aperto da lunedì a venerdì (8:30-21). \\nBABITONGA CAFÈ\\nDopo aver parlato di tutte queste librerie indipendenti ci sembrava giusto – per fare una panoramica il più possibile completa dei caffè letterari a Milano – menzionare anche un colosso come Feltrinelli. Iniziamo da zona Porta Volta, a pochi passi da Paolo Sarpi, dove si trova l’imponente edificio in vetro firmato dallo studio Herzog & de Meuron in cui ha casa Fondazione Feltrinelli. Lì, oltre agli archivi della casa editrice e alla sede di Microsoft, si trovano anche una sala lettura, una sala polifunzionale, una biblioteca e il Babitonga Café, dove poter consumare colazione, pranzo, merenda o aperitivo tra i libri. I cocktail sono molto buoni, e fanno lo spritz mes e mes come piace a noi.BABITONGA CAFÈ. Viale Pasubio 5, Milano. 0263793977. Aperto tutti i giorni (9-20, sabato e domenica apertura alle 10). \\nRED LA FELTRINELLI\\n\\nUn angolo di RED | © Ig RED La Feltrinelli\\nOltre al Babitonga Café, Feltrinelli a Milano ha altri tre caffè letterari in cui potersi godere un pasto circondati da migliaia di libri. Si chiamano RED, che sta per “read, eat and dream” si trovano a Citylife e in zona Isola. In tutti e tre le sedi ci si può accomodare per colazione, pranzo e aperitivo o una semplice pausa caffè.\\nRED LA FELTRINELLI. Piazza Tre Torri, Milano. 024986472. Aperto tutti i giorni (da lunedì a venerdì 10:15-19, sabato e domenica 10-19) | Piazza Gae Aulenti 1, Milano. 0265560259. Aperto tutti i giorni (da lunedì a venerdì 8-20, sabato 9-22, domenica 9-21).\\nSiete mai stati in uno di questi caffè letterari a Milano? Ne conoscete altri? Ditecelo qui sotto, oppure sulla nostra pagina Instagram!\\nQuesta compilation vi è piaciuta? Qui ne trovate altre che vi potrebbero interessare!\\nBisogno di ispirazione? Date un’occhiata alla nostra mappa sempre aggiornata!\\n\\n\\n\\n \\nCaffè letterari Librerie Librerie con bar LibriShareFacebookTwitterPinterestEmail \\n\\n\\n\\n\\n\\nprevious post\\n\\n\\n\\nEventi a Milano a febbraio 2024: cosa, dove e quando\\n\\n\\n\\n\\n\\n\\n\\nnext post\\n\\n\\n\\nDove fare colazione a Milano: 10 indirizzi che vi consigliamo\\n\\n\\n\\n\\n\\nRelated posts5 mostre a Milano da visitare assolutamente a marzoGastronomie vegane a Milano: 10 indirizzi da conoscereNuovi ristoranti a Milano: 10 indirizzi da non perdere a febbraio \\n\\nAdd Comment\\n \\n\\n\\n\\n\\n\\n View Desktop Version            \\n\\n\\n\\n\\n\\t\\t\\tCopyright 2019 Conoscounposto. Tutti i diritti riservati.        \\nBack To Top\\n\\n\\n\\n\\n\\n\\n\\n\\n\\n', metadata={'description': 'Ecco a voi una selezione di caffè letterari a Milano, dove poter mangiare e bere qualcosa circondati da tantissimi libri!', 'language': 'it-IT', 'source': 'https://www.conoscounposto.com/caffe-letterari-milano/amp/', 'title': 'Mangiare e bere tra i libri: 15 caffè letterari a Milano - Conosco un posto', '_id': '7d1050d9-4748-5a7c-b1e5-518f8bcfda82', '_collection_name': 'rio-rag-platform'}),\n",
       "  Document(page_content='But don’t worry if you’re not a quantum physicist — Kaku’s prose is as accessible as it is enlightening. He guides you through the intricacies of quantum mechanics with the charm of a wise old sage spinning tales by the campfire. You’ll laugh, you’ll gasp, and you might even find yourself questioning the very fabric of reality.', metadata={'authors': [], 'description': 'Are you ready to quantum leap into the future? Buckle up, because Michio Kaku’s “Quantum Supremacy” isn’t just a book — it’s a mind-bending journey through the cosmic corridors of quantum computing…', 'doc_id': '28afdc26-9b8b-4f44-9939-15be27c8e08c', 'feed': 'https://medium.com/feed/tag/quantum-computing', 'language': 'en', 'link': 'https://medium.com/@mimi_fun/quantum-supremacy-unveiled-riding-the-cosmic-wave-with-michio-kaku-8c75bb8a1f9b?source=rss------quantum_computing-5', 'publish_date': '2024-02-27T01:11:05.680000Z', 'title': 'Quantum Supremacy Unveiled: Riding the Cosmic Wave with Michio Kaku', '_id': '471bb0d8-0291-4805-8157-93952f733140', '_collection_name': 'rio-rag-platform'}),\n",
       "  Document(page_content='There are also many useful resources at arXiv, these include a draft edition of Wilde’s book, Ronald de Wolfe’s lecture notes for a Master’s level class, an interesting paper entitled Quantum algorithms for algebraic problems by Andrew Childs and Wim van Dam, and much else besides.', metadata={'authors': ['Stephen Addison'], 'description': 'I was recently asked to lead a semester long seminar in quantum computing — a topic in which I have long been interested. The question is where to start. In this article, I’m going to describe (and…', 'doc_id': 'fe0f6dcb-e8ec-484e-8c32-71dd5863b469', 'feed': 'https://medium.com/feed/tag/quantum-computing', 'language': 'en', 'link': 'https://medium.com/@sraddison/quantum-computing-resources-for-learning-e43747cf1f74?source=rss------quantum_computing-5', 'publish_date': '2024-02-27T01:37:19.253000Z', 'title': 'Quantum Computing: Resources for Learning', '_id': '2d4aecdc-c35f-4eab-bab0-484ea207d394', '_collection_name': 'rio-rag-platform'}),\n",
       "  Document(page_content='On 24th January, I had the pleasure of joining Daniel Doll Steinberg (DDS), his team and guests at his wonderful book launch in Waterstones in Leadenhall Market. Daniel’s book is called “Unsupervised” and it’s a stunning piece of thinking, exploring how rapidly emerging technologies are reshaping our society. The book is premised on highlighting the lack of supervision and control that exists in', metadata={'authors': ['Jonny Fry'], 'description': 'Written by Haydn Jones, Managing Director at Kroll (leading its global crypto and blockchain global), also acting as an expert witness in civil and criminal matters On 24th January, I had the…', 'doc_id': '7d8af3e8-53a8-4c12-b303-ebaa2bf202ef', 'feed': 'https://medium.com/feed/tag/quantum-computing', 'language': 'en', 'link': 'https://medium.com/digital-diplomacy/the-future-of-enterprise-technology-in-an-emergent-and-unsupervised-world-bda1d2551060?source=rss------quantum_computing-5', 'publish_date': '2024-02-27T06:29:34.973000Z', 'title': 'The future of enterprise technology in an emergent and unsupervised world', '_id': '4df717fa-f35c-40ce-a6b3-db5c7c2238ed', '_collection_name': 'rio-rag-platform'})]}"
      ]
     },
     "execution_count": 20,
     "metadata": {},
     "output_type": "execute_result"
    }
   ],
   "source": [
    "qa_chain(query)"
   ]
  },
  {
   "cell_type": "markdown",
   "metadata": {},
   "source": [
    "Parent document"
   ]
  },
  {
   "cell_type": "code",
   "execution_count": 9,
   "metadata": {},
   "outputs": [],
   "source": [
    "from langchain.retrievers import ParentDocumentRetriever\n",
    "from langchain.storage import InMemoryStore\n",
    "from langchain.text_splitter import RecursiveCharacterTextSplitter\n",
    "from langchain_community.document_loaders import TextLoader\n",
    "from langchain_community.vectorstores import Chroma\n",
    "from langchain_openai import OpenAIEmbeddings"
   ]
  },
  {
   "cell_type": "code",
   "execution_count": 10,
   "metadata": {},
   "outputs": [],
   "source": [
    "from langchain_community.vectorstores import Qdrant"
   ]
  },
  {
   "cell_type": "code",
   "execution_count": 11,
   "metadata": {},
   "outputs": [
    {
     "data": {
      "text/plain": [
       "langchain_community.vectorstores.qdrant.Qdrant"
      ]
     },
     "execution_count": 11,
     "metadata": {},
     "output_type": "execute_result"
    }
   ],
   "source": [
    "Qdrant"
   ]
  },
  {
   "cell_type": "code",
   "execution_count": 12,
   "metadata": {},
   "outputs": [],
   "source": [
    "child_splitter = RecursiveCharacterTextSplitter(chunk_size=400)"
   ]
  },
  {
   "cell_type": "code",
   "execution_count": 13,
   "metadata": {},
   "outputs": [],
   "source": [
    "store = InMemoryStore()"
   ]
  },
  {
   "cell_type": "code",
   "execution_count": 14,
   "metadata": {},
   "outputs": [],
   "source": [
    "retriever = ParentDocumentRetriever(\n",
    "    vectorstore=vectore_store.vector_store,\n",
    "    docstore=store,\n",
    "    child_splitter=child_splitter,\n",
    ")"
   ]
  },
  {
   "cell_type": "code",
   "execution_count": 15,
   "metadata": {},
   "outputs": [],
   "source": [
    "from langchain.document_loaders import RSSFeedLoader\n",
    "from langchain.text_splitter import RecursiveCharacterTextSplitter\n",
    "urls = [\"https://medium.com/feed/tag/quantum-computing\"]\n",
    "loader = RSSFeedLoader(urls=urls)\n",
    "data = loader.load()"
   ]
  },
  {
   "cell_type": "code",
   "execution_count": 16,
   "metadata": {},
   "outputs": [
    {
     "ename": "ResponseHandlingException",
     "evalue": "timed out",
     "output_type": "error",
     "traceback": [
      "\u001b[1;31m---------------------------------------------------------------------------\u001b[0m",
      "\u001b[1;31mReadTimeout\u001b[0m                               Traceback (most recent call last)",
      "File \u001b[1;32mc:\\Users\\ELAFACRB1\\venvs\\langchain\\Lib\\site-packages\\httpx\\_transports\\default.py:67\u001b[0m, in \u001b[0;36mmap_httpcore_exceptions\u001b[1;34m()\u001b[0m\n\u001b[0;32m     66\u001b[0m \u001b[38;5;28;01mtry\u001b[39;00m:\n\u001b[1;32m---> 67\u001b[0m     \u001b[38;5;28;01myield\u001b[39;00m\n\u001b[0;32m     68\u001b[0m \u001b[38;5;28;01mexcept\u001b[39;00m \u001b[38;5;167;01mException\u001b[39;00m \u001b[38;5;28;01mas\u001b[39;00m exc:\n",
      "File \u001b[1;32mc:\\Users\\ELAFACRB1\\venvs\\langchain\\Lib\\site-packages\\httpx\\_transports\\default.py:231\u001b[0m, in \u001b[0;36mHTTPTransport.handle_request\u001b[1;34m(self, request)\u001b[0m\n\u001b[0;32m    230\u001b[0m \u001b[38;5;28;01mwith\u001b[39;00m map_httpcore_exceptions():\n\u001b[1;32m--> 231\u001b[0m     resp \u001b[38;5;241m=\u001b[39m \u001b[38;5;28;43mself\u001b[39;49m\u001b[38;5;241;43m.\u001b[39;49m\u001b[43m_pool\u001b[49m\u001b[38;5;241;43m.\u001b[39;49m\u001b[43mhandle_request\u001b[49m\u001b[43m(\u001b[49m\u001b[43mreq\u001b[49m\u001b[43m)\u001b[49m\n\u001b[0;32m    233\u001b[0m \u001b[38;5;28;01massert\u001b[39;00m \u001b[38;5;28misinstance\u001b[39m(resp\u001b[38;5;241m.\u001b[39mstream, typing\u001b[38;5;241m.\u001b[39mIterable)\n",
      "File \u001b[1;32mc:\\Users\\ELAFACRB1\\venvs\\langchain\\Lib\\site-packages\\httpcore\\_sync\\connection_pool.py:216\u001b[0m, in \u001b[0;36mConnectionPool.handle_request\u001b[1;34m(self, request)\u001b[0m\n\u001b[0;32m    215\u001b[0m     \u001b[38;5;28mself\u001b[39m\u001b[38;5;241m.\u001b[39m_close_connections(closing)\n\u001b[1;32m--> 216\u001b[0m     \u001b[38;5;28;01mraise\u001b[39;00m exc \u001b[38;5;28;01mfrom\u001b[39;00m \u001b[38;5;28;01mNone\u001b[39;00m\n\u001b[0;32m    218\u001b[0m \u001b[38;5;66;03m# Return the response. Note that in this case we still have to manage\u001b[39;00m\n\u001b[0;32m    219\u001b[0m \u001b[38;5;66;03m# the point at which the response is closed.\u001b[39;00m\n",
      "File \u001b[1;32mc:\\Users\\ELAFACRB1\\venvs\\langchain\\Lib\\site-packages\\httpcore\\_sync\\connection_pool.py:196\u001b[0m, in \u001b[0;36mConnectionPool.handle_request\u001b[1;34m(self, request)\u001b[0m\n\u001b[0;32m    194\u001b[0m \u001b[38;5;28;01mtry\u001b[39;00m:\n\u001b[0;32m    195\u001b[0m     \u001b[38;5;66;03m# Send the request on the assigned connection.\u001b[39;00m\n\u001b[1;32m--> 196\u001b[0m     response \u001b[38;5;241m=\u001b[39m \u001b[43mconnection\u001b[49m\u001b[38;5;241;43m.\u001b[39;49m\u001b[43mhandle_request\u001b[49m\u001b[43m(\u001b[49m\n\u001b[0;32m    197\u001b[0m \u001b[43m        \u001b[49m\u001b[43mpool_request\u001b[49m\u001b[38;5;241;43m.\u001b[39;49m\u001b[43mrequest\u001b[49m\n\u001b[0;32m    198\u001b[0m \u001b[43m    \u001b[49m\u001b[43m)\u001b[49m\n\u001b[0;32m    199\u001b[0m \u001b[38;5;28;01mexcept\u001b[39;00m ConnectionNotAvailable:\n\u001b[0;32m    200\u001b[0m     \u001b[38;5;66;03m# In some cases a connection may initially be available to\u001b[39;00m\n\u001b[0;32m    201\u001b[0m     \u001b[38;5;66;03m# handle a request, but then become unavailable.\u001b[39;00m\n\u001b[0;32m    202\u001b[0m     \u001b[38;5;66;03m#\u001b[39;00m\n\u001b[0;32m    203\u001b[0m     \u001b[38;5;66;03m# In this case we clear the connection and try again.\u001b[39;00m\n",
      "File \u001b[1;32mc:\\Users\\ELAFACRB1\\venvs\\langchain\\Lib\\site-packages\\httpcore\\_sync\\connection.py:101\u001b[0m, in \u001b[0;36mHTTPConnection.handle_request\u001b[1;34m(self, request)\u001b[0m\n\u001b[0;32m     99\u001b[0m     \u001b[38;5;28;01mraise\u001b[39;00m exc\n\u001b[1;32m--> 101\u001b[0m \u001b[38;5;28;01mreturn\u001b[39;00m \u001b[38;5;28;43mself\u001b[39;49m\u001b[38;5;241;43m.\u001b[39;49m\u001b[43m_connection\u001b[49m\u001b[38;5;241;43m.\u001b[39;49m\u001b[43mhandle_request\u001b[49m\u001b[43m(\u001b[49m\u001b[43mrequest\u001b[49m\u001b[43m)\u001b[49m\n",
      "File \u001b[1;32mc:\\Users\\ELAFACRB1\\venvs\\langchain\\Lib\\site-packages\\httpcore\\_sync\\http11.py:132\u001b[0m, in \u001b[0;36mHTTP11Connection.handle_request\u001b[1;34m(self, request)\u001b[0m\n\u001b[0;32m    131\u001b[0m         \u001b[38;5;28mself\u001b[39m\u001b[38;5;241m.\u001b[39m_response_closed()\n\u001b[1;32m--> 132\u001b[0m \u001b[38;5;28;01mraise\u001b[39;00m exc\n",
      "File \u001b[1;32mc:\\Users\\ELAFACRB1\\venvs\\langchain\\Lib\\site-packages\\httpcore\\_sync\\http11.py:110\u001b[0m, in \u001b[0;36mHTTP11Connection.handle_request\u001b[1;34m(self, request)\u001b[0m\n\u001b[0;32m    102\u001b[0m \u001b[38;5;28;01mwith\u001b[39;00m Trace(\n\u001b[0;32m    103\u001b[0m     \u001b[38;5;124m\"\u001b[39m\u001b[38;5;124mreceive_response_headers\u001b[39m\u001b[38;5;124m\"\u001b[39m, logger, request, kwargs\n\u001b[0;32m    104\u001b[0m ) \u001b[38;5;28;01mas\u001b[39;00m trace:\n\u001b[0;32m    105\u001b[0m     (\n\u001b[0;32m    106\u001b[0m         http_version,\n\u001b[0;32m    107\u001b[0m         status,\n\u001b[0;32m    108\u001b[0m         reason_phrase,\n\u001b[0;32m    109\u001b[0m         headers,\n\u001b[1;32m--> 110\u001b[0m     ) \u001b[38;5;241m=\u001b[39m \u001b[38;5;28;43mself\u001b[39;49m\u001b[38;5;241;43m.\u001b[39;49m\u001b[43m_receive_response_headers\u001b[49m\u001b[43m(\u001b[49m\u001b[38;5;241;43m*\u001b[39;49m\u001b[38;5;241;43m*\u001b[39;49m\u001b[43mkwargs\u001b[49m\u001b[43m)\u001b[49m\n\u001b[0;32m    111\u001b[0m     trace\u001b[38;5;241m.\u001b[39mreturn_value \u001b[38;5;241m=\u001b[39m (\n\u001b[0;32m    112\u001b[0m         http_version,\n\u001b[0;32m    113\u001b[0m         status,\n\u001b[0;32m    114\u001b[0m         reason_phrase,\n\u001b[0;32m    115\u001b[0m         headers,\n\u001b[0;32m    116\u001b[0m     )\n",
      "File \u001b[1;32mc:\\Users\\ELAFACRB1\\venvs\\langchain\\Lib\\site-packages\\httpcore\\_sync\\http11.py:175\u001b[0m, in \u001b[0;36mHTTP11Connection._receive_response_headers\u001b[1;34m(self, request)\u001b[0m\n\u001b[0;32m    174\u001b[0m \u001b[38;5;28;01mwhile\u001b[39;00m \u001b[38;5;28;01mTrue\u001b[39;00m:\n\u001b[1;32m--> 175\u001b[0m     event \u001b[38;5;241m=\u001b[39m \u001b[38;5;28;43mself\u001b[39;49m\u001b[38;5;241;43m.\u001b[39;49m\u001b[43m_receive_event\u001b[49m\u001b[43m(\u001b[49m\u001b[43mtimeout\u001b[49m\u001b[38;5;241;43m=\u001b[39;49m\u001b[43mtimeout\u001b[49m\u001b[43m)\u001b[49m\n\u001b[0;32m    176\u001b[0m     \u001b[38;5;28;01mif\u001b[39;00m \u001b[38;5;28misinstance\u001b[39m(event, h11\u001b[38;5;241m.\u001b[39mResponse):\n",
      "File \u001b[1;32mc:\\Users\\ELAFACRB1\\venvs\\langchain\\Lib\\site-packages\\httpcore\\_sync\\http11.py:211\u001b[0m, in \u001b[0;36mHTTP11Connection._receive_event\u001b[1;34m(self, timeout)\u001b[0m\n\u001b[0;32m    210\u001b[0m \u001b[38;5;28;01mif\u001b[39;00m event \u001b[38;5;129;01mis\u001b[39;00m h11\u001b[38;5;241m.\u001b[39mNEED_DATA:\n\u001b[1;32m--> 211\u001b[0m     data \u001b[38;5;241m=\u001b[39m \u001b[38;5;28;43mself\u001b[39;49m\u001b[38;5;241;43m.\u001b[39;49m\u001b[43m_network_stream\u001b[49m\u001b[38;5;241;43m.\u001b[39;49m\u001b[43mread\u001b[49m\u001b[43m(\u001b[49m\n\u001b[0;32m    212\u001b[0m \u001b[43m        \u001b[49m\u001b[38;5;28;43mself\u001b[39;49m\u001b[38;5;241;43m.\u001b[39;49m\u001b[43mREAD_NUM_BYTES\u001b[49m\u001b[43m,\u001b[49m\u001b[43m \u001b[49m\u001b[43mtimeout\u001b[49m\u001b[38;5;241;43m=\u001b[39;49m\u001b[43mtimeout\u001b[49m\n\u001b[0;32m    213\u001b[0m \u001b[43m    \u001b[49m\u001b[43m)\u001b[49m\n\u001b[0;32m    215\u001b[0m     \u001b[38;5;66;03m# If we feed this case through h11 we'll raise an exception like:\u001b[39;00m\n\u001b[0;32m    216\u001b[0m     \u001b[38;5;66;03m#\u001b[39;00m\n\u001b[0;32m    217\u001b[0m     \u001b[38;5;66;03m#     httpcore.RemoteProtocolError: can't handle event type\u001b[39;00m\n\u001b[1;32m   (...)\u001b[0m\n\u001b[0;32m    221\u001b[0m     \u001b[38;5;66;03m# perspective. Instead we handle this case distinctly and treat\u001b[39;00m\n\u001b[0;32m    222\u001b[0m     \u001b[38;5;66;03m# it as a ConnectError.\u001b[39;00m\n",
      "File \u001b[1;32mc:\\Users\\ELAFACRB1\\venvs\\langchain\\Lib\\site-packages\\httpcore\\_backends\\sync.py:124\u001b[0m, in \u001b[0;36mSyncStream.read\u001b[1;34m(self, max_bytes, timeout)\u001b[0m\n\u001b[0;32m    123\u001b[0m exc_map: ExceptionMapping \u001b[38;5;241m=\u001b[39m {socket\u001b[38;5;241m.\u001b[39mtimeout: ReadTimeout, \u001b[38;5;167;01mOSError\u001b[39;00m: ReadError}\n\u001b[1;32m--> 124\u001b[0m \u001b[43m\u001b[49m\u001b[38;5;28;43;01mwith\u001b[39;49;00m\u001b[43m \u001b[49m\u001b[43mmap_exceptions\u001b[49m\u001b[43m(\u001b[49m\u001b[43mexc_map\u001b[49m\u001b[43m)\u001b[49m\u001b[43m:\u001b[49m\n\u001b[0;32m    125\u001b[0m \u001b[43m    \u001b[49m\u001b[38;5;28;43mself\u001b[39;49m\u001b[38;5;241;43m.\u001b[39;49m\u001b[43m_sock\u001b[49m\u001b[38;5;241;43m.\u001b[39;49m\u001b[43msettimeout\u001b[49m\u001b[43m(\u001b[49m\u001b[43mtimeout\u001b[49m\u001b[43m)\u001b[49m\n",
      "File \u001b[1;32mC:\\Program Files\\WindowsApps\\PythonSoftwareFoundation.Python.3.11_3.11.2288.0_x64__qbz5n2kfra8p0\\Lib\\contextlib.py:158\u001b[0m, in \u001b[0;36m_GeneratorContextManager.__exit__\u001b[1;34m(self, typ, value, traceback)\u001b[0m\n\u001b[0;32m    157\u001b[0m \u001b[38;5;28;01mtry\u001b[39;00m:\n\u001b[1;32m--> 158\u001b[0m     \u001b[38;5;28mself\u001b[39m\u001b[38;5;241m.\u001b[39mgen\u001b[38;5;241m.\u001b[39mthrow(typ, value, traceback)\n\u001b[0;32m    159\u001b[0m \u001b[38;5;28;01mexcept\u001b[39;00m \u001b[38;5;167;01mStopIteration\u001b[39;00m \u001b[38;5;28;01mas\u001b[39;00m exc:\n\u001b[0;32m    160\u001b[0m     \u001b[38;5;66;03m# Suppress StopIteration *unless* it's the same exception that\u001b[39;00m\n\u001b[0;32m    161\u001b[0m     \u001b[38;5;66;03m# was passed to throw().  This prevents a StopIteration\u001b[39;00m\n\u001b[0;32m    162\u001b[0m     \u001b[38;5;66;03m# raised inside the \"with\" statement from being suppressed.\u001b[39;00m\n",
      "File \u001b[1;32mc:\\Users\\ELAFACRB1\\venvs\\langchain\\Lib\\site-packages\\httpcore\\_exceptions.py:14\u001b[0m, in \u001b[0;36mmap_exceptions\u001b[1;34m(map)\u001b[0m\n\u001b[0;32m     13\u001b[0m     \u001b[38;5;28;01mif\u001b[39;00m \u001b[38;5;28misinstance\u001b[39m(exc, from_exc):\n\u001b[1;32m---> 14\u001b[0m         \u001b[38;5;28;01mraise\u001b[39;00m to_exc(exc) \u001b[38;5;28;01mfrom\u001b[39;00m \u001b[38;5;21;01mexc\u001b[39;00m\n\u001b[0;32m     15\u001b[0m \u001b[38;5;28;01mraise\u001b[39;00m\n",
      "\u001b[1;31mReadTimeout\u001b[0m: timed out",
      "\nThe above exception was the direct cause of the following exception:\n",
      "\u001b[1;31mReadTimeout\u001b[0m                               Traceback (most recent call last)",
      "File \u001b[1;32mc:\\Users\\ELAFACRB1\\venvs\\langchain\\Lib\\site-packages\\qdrant_client\\http\\api_client.py:101\u001b[0m, in \u001b[0;36mApiClient.send_inner\u001b[1;34m(self, request)\u001b[0m\n\u001b[0;32m    100\u001b[0m \u001b[38;5;28;01mtry\u001b[39;00m:\n\u001b[1;32m--> 101\u001b[0m     response \u001b[38;5;241m=\u001b[39m \u001b[38;5;28;43mself\u001b[39;49m\u001b[38;5;241;43m.\u001b[39;49m\u001b[43m_client\u001b[49m\u001b[38;5;241;43m.\u001b[39;49m\u001b[43msend\u001b[49m\u001b[43m(\u001b[49m\u001b[43mrequest\u001b[49m\u001b[43m)\u001b[49m\n\u001b[0;32m    102\u001b[0m \u001b[38;5;28;01mexcept\u001b[39;00m \u001b[38;5;167;01mException\u001b[39;00m \u001b[38;5;28;01mas\u001b[39;00m e:\n",
      "File \u001b[1;32mc:\\Users\\ELAFACRB1\\venvs\\langchain\\Lib\\site-packages\\httpx\\_client.py:915\u001b[0m, in \u001b[0;36mClient.send\u001b[1;34m(self, request, stream, auth, follow_redirects)\u001b[0m\n\u001b[0;32m    913\u001b[0m auth \u001b[38;5;241m=\u001b[39m \u001b[38;5;28mself\u001b[39m\u001b[38;5;241m.\u001b[39m_build_request_auth(request, auth)\n\u001b[1;32m--> 915\u001b[0m response \u001b[38;5;241m=\u001b[39m \u001b[38;5;28;43mself\u001b[39;49m\u001b[38;5;241;43m.\u001b[39;49m\u001b[43m_send_handling_auth\u001b[49m\u001b[43m(\u001b[49m\n\u001b[0;32m    916\u001b[0m \u001b[43m    \u001b[49m\u001b[43mrequest\u001b[49m\u001b[43m,\u001b[49m\n\u001b[0;32m    917\u001b[0m \u001b[43m    \u001b[49m\u001b[43mauth\u001b[49m\u001b[38;5;241;43m=\u001b[39;49m\u001b[43mauth\u001b[49m\u001b[43m,\u001b[49m\n\u001b[0;32m    918\u001b[0m \u001b[43m    \u001b[49m\u001b[43mfollow_redirects\u001b[49m\u001b[38;5;241;43m=\u001b[39;49m\u001b[43mfollow_redirects\u001b[49m\u001b[43m,\u001b[49m\n\u001b[0;32m    919\u001b[0m \u001b[43m    \u001b[49m\u001b[43mhistory\u001b[49m\u001b[38;5;241;43m=\u001b[39;49m\u001b[43m[\u001b[49m\u001b[43m]\u001b[49m\u001b[43m,\u001b[49m\n\u001b[0;32m    920\u001b[0m \u001b[43m\u001b[49m\u001b[43m)\u001b[49m\n\u001b[0;32m    921\u001b[0m \u001b[38;5;28;01mtry\u001b[39;00m:\n",
      "File \u001b[1;32mc:\\Users\\ELAFACRB1\\venvs\\langchain\\Lib\\site-packages\\httpx\\_client.py:943\u001b[0m, in \u001b[0;36mClient._send_handling_auth\u001b[1;34m(self, request, auth, follow_redirects, history)\u001b[0m\n\u001b[0;32m    942\u001b[0m \u001b[38;5;28;01mwhile\u001b[39;00m \u001b[38;5;28;01mTrue\u001b[39;00m:\n\u001b[1;32m--> 943\u001b[0m     response \u001b[38;5;241m=\u001b[39m \u001b[38;5;28;43mself\u001b[39;49m\u001b[38;5;241;43m.\u001b[39;49m\u001b[43m_send_handling_redirects\u001b[49m\u001b[43m(\u001b[49m\n\u001b[0;32m    944\u001b[0m \u001b[43m        \u001b[49m\u001b[43mrequest\u001b[49m\u001b[43m,\u001b[49m\n\u001b[0;32m    945\u001b[0m \u001b[43m        \u001b[49m\u001b[43mfollow_redirects\u001b[49m\u001b[38;5;241;43m=\u001b[39;49m\u001b[43mfollow_redirects\u001b[49m\u001b[43m,\u001b[49m\n\u001b[0;32m    946\u001b[0m \u001b[43m        \u001b[49m\u001b[43mhistory\u001b[49m\u001b[38;5;241;43m=\u001b[39;49m\u001b[43mhistory\u001b[49m\u001b[43m,\u001b[49m\n\u001b[0;32m    947\u001b[0m \u001b[43m    \u001b[49m\u001b[43m)\u001b[49m\n\u001b[0;32m    948\u001b[0m     \u001b[38;5;28;01mtry\u001b[39;00m:\n",
      "File \u001b[1;32mc:\\Users\\ELAFACRB1\\venvs\\langchain\\Lib\\site-packages\\httpx\\_client.py:980\u001b[0m, in \u001b[0;36mClient._send_handling_redirects\u001b[1;34m(self, request, follow_redirects, history)\u001b[0m\n\u001b[0;32m    978\u001b[0m     hook(request)\n\u001b[1;32m--> 980\u001b[0m response \u001b[38;5;241m=\u001b[39m \u001b[38;5;28;43mself\u001b[39;49m\u001b[38;5;241;43m.\u001b[39;49m\u001b[43m_send_single_request\u001b[49m\u001b[43m(\u001b[49m\u001b[43mrequest\u001b[49m\u001b[43m)\u001b[49m\n\u001b[0;32m    981\u001b[0m \u001b[38;5;28;01mtry\u001b[39;00m:\n",
      "File \u001b[1;32mc:\\Users\\ELAFACRB1\\venvs\\langchain\\Lib\\site-packages\\httpx\\_client.py:1016\u001b[0m, in \u001b[0;36mClient._send_single_request\u001b[1;34m(self, request)\u001b[0m\n\u001b[0;32m   1015\u001b[0m \u001b[38;5;28;01mwith\u001b[39;00m request_context(request\u001b[38;5;241m=\u001b[39mrequest):\n\u001b[1;32m-> 1016\u001b[0m     response \u001b[38;5;241m=\u001b[39m \u001b[43mtransport\u001b[49m\u001b[38;5;241;43m.\u001b[39;49m\u001b[43mhandle_request\u001b[49m\u001b[43m(\u001b[49m\u001b[43mrequest\u001b[49m\u001b[43m)\u001b[49m\n\u001b[0;32m   1018\u001b[0m \u001b[38;5;28;01massert\u001b[39;00m \u001b[38;5;28misinstance\u001b[39m(response\u001b[38;5;241m.\u001b[39mstream, SyncByteStream)\n",
      "File \u001b[1;32mc:\\Users\\ELAFACRB1\\venvs\\langchain\\Lib\\site-packages\\httpx\\_transports\\default.py:230\u001b[0m, in \u001b[0;36mHTTPTransport.handle_request\u001b[1;34m(self, request)\u001b[0m\n\u001b[0;32m    218\u001b[0m req \u001b[38;5;241m=\u001b[39m httpcore\u001b[38;5;241m.\u001b[39mRequest(\n\u001b[0;32m    219\u001b[0m     method\u001b[38;5;241m=\u001b[39mrequest\u001b[38;5;241m.\u001b[39mmethod,\n\u001b[0;32m    220\u001b[0m     url\u001b[38;5;241m=\u001b[39mhttpcore\u001b[38;5;241m.\u001b[39mURL(\n\u001b[1;32m   (...)\u001b[0m\n\u001b[0;32m    228\u001b[0m     extensions\u001b[38;5;241m=\u001b[39mrequest\u001b[38;5;241m.\u001b[39mextensions,\n\u001b[0;32m    229\u001b[0m )\n\u001b[1;32m--> 230\u001b[0m \u001b[43m\u001b[49m\u001b[38;5;28;43;01mwith\u001b[39;49;00m\u001b[43m \u001b[49m\u001b[43mmap_httpcore_exceptions\u001b[49m\u001b[43m(\u001b[49m\u001b[43m)\u001b[49m\u001b[43m:\u001b[49m\n\u001b[0;32m    231\u001b[0m \u001b[43m    \u001b[49m\u001b[43mresp\u001b[49m\u001b[43m \u001b[49m\u001b[38;5;241;43m=\u001b[39;49m\u001b[43m \u001b[49m\u001b[38;5;28;43mself\u001b[39;49m\u001b[38;5;241;43m.\u001b[39;49m\u001b[43m_pool\u001b[49m\u001b[38;5;241;43m.\u001b[39;49m\u001b[43mhandle_request\u001b[49m\u001b[43m(\u001b[49m\u001b[43mreq\u001b[49m\u001b[43m)\u001b[49m\n",
      "File \u001b[1;32mC:\\Program Files\\WindowsApps\\PythonSoftwareFoundation.Python.3.11_3.11.2288.0_x64__qbz5n2kfra8p0\\Lib\\contextlib.py:158\u001b[0m, in \u001b[0;36m_GeneratorContextManager.__exit__\u001b[1;34m(self, typ, value, traceback)\u001b[0m\n\u001b[0;32m    157\u001b[0m \u001b[38;5;28;01mtry\u001b[39;00m:\n\u001b[1;32m--> 158\u001b[0m     \u001b[38;5;28mself\u001b[39m\u001b[38;5;241m.\u001b[39mgen\u001b[38;5;241m.\u001b[39mthrow(typ, value, traceback)\n\u001b[0;32m    159\u001b[0m \u001b[38;5;28;01mexcept\u001b[39;00m \u001b[38;5;167;01mStopIteration\u001b[39;00m \u001b[38;5;28;01mas\u001b[39;00m exc:\n\u001b[0;32m    160\u001b[0m     \u001b[38;5;66;03m# Suppress StopIteration *unless* it's the same exception that\u001b[39;00m\n\u001b[0;32m    161\u001b[0m     \u001b[38;5;66;03m# was passed to throw().  This prevents a StopIteration\u001b[39;00m\n\u001b[0;32m    162\u001b[0m     \u001b[38;5;66;03m# raised inside the \"with\" statement from being suppressed.\u001b[39;00m\n",
      "File \u001b[1;32mc:\\Users\\ELAFACRB1\\venvs\\langchain\\Lib\\site-packages\\httpx\\_transports\\default.py:84\u001b[0m, in \u001b[0;36mmap_httpcore_exceptions\u001b[1;34m()\u001b[0m\n\u001b[0;32m     83\u001b[0m message \u001b[38;5;241m=\u001b[39m \u001b[38;5;28mstr\u001b[39m(exc)\n\u001b[1;32m---> 84\u001b[0m \u001b[38;5;28;01mraise\u001b[39;00m mapped_exc(message) \u001b[38;5;28;01mfrom\u001b[39;00m \u001b[38;5;21;01mexc\u001b[39;00m\n",
      "\u001b[1;31mReadTimeout\u001b[0m: timed out",
      "\nDuring handling of the above exception, another exception occurred:\n",
      "\u001b[1;31mResponseHandlingException\u001b[0m                 Traceback (most recent call last)",
      "Cell \u001b[1;32mIn[16], line 1\u001b[0m\n\u001b[1;32m----> 1\u001b[0m \u001b[43mretriever\u001b[49m\u001b[38;5;241;43m.\u001b[39;49m\u001b[43madd_documents\u001b[49m\u001b[43m(\u001b[49m\u001b[43mdata\u001b[49m\u001b[43m,\u001b[49m\u001b[43m \u001b[49m\u001b[43mids\u001b[49m\u001b[38;5;241;43m=\u001b[39;49m\u001b[38;5;28;43;01mNone\u001b[39;49;00m\u001b[43m)\u001b[49m\n",
      "File \u001b[1;32mc:\\Users\\ELAFACRB1\\venvs\\langchain\\Lib\\site-packages\\langchain\\retrievers\\parent_document_retriever.py:113\u001b[0m, in \u001b[0;36mParentDocumentRetriever.add_documents\u001b[1;34m(self, documents, ids, add_to_docstore)\u001b[0m\n\u001b[0;32m    111\u001b[0m     docs\u001b[38;5;241m.\u001b[39mextend(sub_docs)\n\u001b[0;32m    112\u001b[0m     full_docs\u001b[38;5;241m.\u001b[39mappend((_id, doc))\n\u001b[1;32m--> 113\u001b[0m \u001b[38;5;28;43mself\u001b[39;49m\u001b[38;5;241;43m.\u001b[39;49m\u001b[43mvectorstore\u001b[49m\u001b[38;5;241;43m.\u001b[39;49m\u001b[43madd_documents\u001b[49m\u001b[43m(\u001b[49m\u001b[43mdocs\u001b[49m\u001b[43m)\u001b[49m\n\u001b[0;32m    114\u001b[0m \u001b[38;5;28;01mif\u001b[39;00m add_to_docstore:\n\u001b[0;32m    115\u001b[0m     \u001b[38;5;28mself\u001b[39m\u001b[38;5;241m.\u001b[39mdocstore\u001b[38;5;241m.\u001b[39mmset(full_docs)\n",
      "File \u001b[1;32mc:\\Users\\ELAFACRB1\\venvs\\langchain\\Lib\\site-packages\\langchain_core\\vectorstores.py:119\u001b[0m, in \u001b[0;36mVectorStore.add_documents\u001b[1;34m(self, documents, **kwargs)\u001b[0m\n\u001b[0;32m    117\u001b[0m texts \u001b[38;5;241m=\u001b[39m [doc\u001b[38;5;241m.\u001b[39mpage_content \u001b[38;5;28;01mfor\u001b[39;00m doc \u001b[38;5;129;01min\u001b[39;00m documents]\n\u001b[0;32m    118\u001b[0m metadatas \u001b[38;5;241m=\u001b[39m [doc\u001b[38;5;241m.\u001b[39mmetadata \u001b[38;5;28;01mfor\u001b[39;00m doc \u001b[38;5;129;01min\u001b[39;00m documents]\n\u001b[1;32m--> 119\u001b[0m \u001b[38;5;28;01mreturn\u001b[39;00m \u001b[38;5;28;43mself\u001b[39;49m\u001b[38;5;241;43m.\u001b[39;49m\u001b[43madd_texts\u001b[49m\u001b[43m(\u001b[49m\u001b[43mtexts\u001b[49m\u001b[43m,\u001b[49m\u001b[43m \u001b[49m\u001b[43mmetadatas\u001b[49m\u001b[43m,\u001b[49m\u001b[43m \u001b[49m\u001b[38;5;241;43m*\u001b[39;49m\u001b[38;5;241;43m*\u001b[39;49m\u001b[43mkwargs\u001b[49m\u001b[43m)\u001b[49m\n",
      "File \u001b[1;32mc:\\Users\\ELAFACRB1\\venvs\\langchain\\Lib\\site-packages\\langchain_community\\vectorstores\\qdrant.py:190\u001b[0m, in \u001b[0;36mQdrant.add_texts\u001b[1;34m(self, texts, metadatas, ids, batch_size, **kwargs)\u001b[0m\n\u001b[0;32m    186\u001b[0m added_ids \u001b[38;5;241m=\u001b[39m []\n\u001b[0;32m    187\u001b[0m \u001b[38;5;28;01mfor\u001b[39;00m batch_ids, points \u001b[38;5;129;01min\u001b[39;00m \u001b[38;5;28mself\u001b[39m\u001b[38;5;241m.\u001b[39m_generate_rest_batches(\n\u001b[0;32m    188\u001b[0m     texts, metadatas, ids, batch_size\n\u001b[0;32m    189\u001b[0m ):\n\u001b[1;32m--> 190\u001b[0m     \u001b[38;5;28;43mself\u001b[39;49m\u001b[38;5;241;43m.\u001b[39;49m\u001b[43mclient\u001b[49m\u001b[38;5;241;43m.\u001b[39;49m\u001b[43mupsert\u001b[49m\u001b[43m(\u001b[49m\n\u001b[0;32m    191\u001b[0m \u001b[43m        \u001b[49m\u001b[43mcollection_name\u001b[49m\u001b[38;5;241;43m=\u001b[39;49m\u001b[38;5;28;43mself\u001b[39;49m\u001b[38;5;241;43m.\u001b[39;49m\u001b[43mcollection_name\u001b[49m\u001b[43m,\u001b[49m\u001b[43m \u001b[49m\u001b[43mpoints\u001b[49m\u001b[38;5;241;43m=\u001b[39;49m\u001b[43mpoints\u001b[49m\u001b[43m,\u001b[49m\u001b[43m \u001b[49m\u001b[38;5;241;43m*\u001b[39;49m\u001b[38;5;241;43m*\u001b[39;49m\u001b[43mkwargs\u001b[49m\n\u001b[0;32m    192\u001b[0m \u001b[43m    \u001b[49m\u001b[43m)\u001b[49m\n\u001b[0;32m    193\u001b[0m     added_ids\u001b[38;5;241m.\u001b[39mextend(batch_ids)\n\u001b[0;32m    195\u001b[0m \u001b[38;5;28;01mreturn\u001b[39;00m added_ids\n",
      "File \u001b[1;32mc:\\Users\\ELAFACRB1\\venvs\\langchain\\Lib\\site-packages\\qdrant_client\\qdrant_client.py:992\u001b[0m, in \u001b[0;36mQdrantClient.upsert\u001b[1;34m(self, collection_name, points, wait, ordering, shard_key_selector, **kwargs)\u001b[0m\n\u001b[0;32m    964\u001b[0m \u001b[38;5;250m\u001b[39m\u001b[38;5;124;03m\"\"\"\u001b[39;00m\n\u001b[0;32m    965\u001b[0m \u001b[38;5;124;03mUpdate or insert a new point into the collection.\u001b[39;00m\n\u001b[0;32m    966\u001b[0m \n\u001b[1;32m   (...)\u001b[0m\n\u001b[0;32m    988\u001b[0m \u001b[38;5;124;03m    Operation Result(UpdateResult)\u001b[39;00m\n\u001b[0;32m    989\u001b[0m \u001b[38;5;124;03m\"\"\"\u001b[39;00m\n\u001b[0;32m    990\u001b[0m \u001b[38;5;28;01massert\u001b[39;00m \u001b[38;5;28mlen\u001b[39m(kwargs) \u001b[38;5;241m==\u001b[39m \u001b[38;5;241m0\u001b[39m, \u001b[38;5;124mf\u001b[39m\u001b[38;5;124m\"\u001b[39m\u001b[38;5;124mUnknown arguments: \u001b[39m\u001b[38;5;132;01m{\u001b[39;00m\u001b[38;5;28mlist\u001b[39m(kwargs\u001b[38;5;241m.\u001b[39mkeys())\u001b[38;5;132;01m}\u001b[39;00m\u001b[38;5;124m\"\u001b[39m\n\u001b[1;32m--> 992\u001b[0m \u001b[38;5;28;01mreturn\u001b[39;00m \u001b[38;5;28;43mself\u001b[39;49m\u001b[38;5;241;43m.\u001b[39;49m\u001b[43m_client\u001b[49m\u001b[38;5;241;43m.\u001b[39;49m\u001b[43mupsert\u001b[49m\u001b[43m(\u001b[49m\n\u001b[0;32m    993\u001b[0m \u001b[43m    \u001b[49m\u001b[43mcollection_name\u001b[49m\u001b[38;5;241;43m=\u001b[39;49m\u001b[43mcollection_name\u001b[49m\u001b[43m,\u001b[49m\n\u001b[0;32m    994\u001b[0m \u001b[43m    \u001b[49m\u001b[43mpoints\u001b[49m\u001b[38;5;241;43m=\u001b[39;49m\u001b[43mpoints\u001b[49m\u001b[43m,\u001b[49m\n\u001b[0;32m    995\u001b[0m \u001b[43m    \u001b[49m\u001b[43mwait\u001b[49m\u001b[38;5;241;43m=\u001b[39;49m\u001b[43mwait\u001b[49m\u001b[43m,\u001b[49m\n\u001b[0;32m    996\u001b[0m \u001b[43m    \u001b[49m\u001b[43mordering\u001b[49m\u001b[38;5;241;43m=\u001b[39;49m\u001b[43mordering\u001b[49m\u001b[43m,\u001b[49m\n\u001b[0;32m    997\u001b[0m \u001b[43m    \u001b[49m\u001b[43mshard_key_selector\u001b[49m\u001b[38;5;241;43m=\u001b[39;49m\u001b[43mshard_key_selector\u001b[49m\u001b[43m,\u001b[49m\n\u001b[0;32m    998\u001b[0m \u001b[43m    \u001b[49m\u001b[38;5;241;43m*\u001b[39;49m\u001b[38;5;241;43m*\u001b[39;49m\u001b[43mkwargs\u001b[49m\u001b[43m,\u001b[49m\n\u001b[0;32m    999\u001b[0m \u001b[43m\u001b[49m\u001b[43m)\u001b[49m\n",
      "File \u001b[1;32mc:\\Users\\ELAFACRB1\\venvs\\langchain\\Lib\\site-packages\\qdrant_client\\qdrant_remote.py:1307\u001b[0m, in \u001b[0;36mQdrantRemote.upsert\u001b[1;34m(self, collection_name, points, wait, ordering, shard_key_selector, **kwargs)\u001b[0m\n\u001b[0;32m   1304\u001b[0m \u001b[38;5;28;01mif\u001b[39;00m \u001b[38;5;28misinstance\u001b[39m(points, models\u001b[38;5;241m.\u001b[39mBatch):\n\u001b[0;32m   1305\u001b[0m     points \u001b[38;5;241m=\u001b[39m models\u001b[38;5;241m.\u001b[39mPointsBatch(batch\u001b[38;5;241m=\u001b[39mpoints, shard_key\u001b[38;5;241m=\u001b[39mshard_key_selector)\n\u001b[1;32m-> 1307\u001b[0m http_result \u001b[38;5;241m=\u001b[39m \u001b[38;5;28;43mself\u001b[39;49m\u001b[38;5;241;43m.\u001b[39;49m\u001b[43mopenapi_client\u001b[49m\u001b[38;5;241;43m.\u001b[39;49m\u001b[43mpoints_api\u001b[49m\u001b[38;5;241;43m.\u001b[39;49m\u001b[43mupsert_points\u001b[49m\u001b[43m(\u001b[49m\n\u001b[0;32m   1308\u001b[0m \u001b[43m    \u001b[49m\u001b[43mcollection_name\u001b[49m\u001b[38;5;241;43m=\u001b[39;49m\u001b[43mcollection_name\u001b[49m\u001b[43m,\u001b[49m\n\u001b[0;32m   1309\u001b[0m \u001b[43m    \u001b[49m\u001b[43mwait\u001b[49m\u001b[38;5;241;43m=\u001b[39;49m\u001b[43mwait\u001b[49m\u001b[43m,\u001b[49m\n\u001b[0;32m   1310\u001b[0m \u001b[43m    \u001b[49m\u001b[43mpoint_insert_operations\u001b[49m\u001b[38;5;241;43m=\u001b[39;49m\u001b[43mpoints\u001b[49m\u001b[43m,\u001b[49m\n\u001b[0;32m   1311\u001b[0m \u001b[43m    \u001b[49m\u001b[43mordering\u001b[49m\u001b[38;5;241;43m=\u001b[39;49m\u001b[43mordering\u001b[49m\u001b[43m,\u001b[49m\n\u001b[0;32m   1312\u001b[0m \u001b[43m\u001b[49m\u001b[43m)\u001b[49m\u001b[38;5;241m.\u001b[39mresult\n\u001b[0;32m   1313\u001b[0m \u001b[38;5;28;01massert\u001b[39;00m http_result \u001b[38;5;129;01mis\u001b[39;00m \u001b[38;5;129;01mnot\u001b[39;00m \u001b[38;5;28;01mNone\u001b[39;00m, \u001b[38;5;124m\"\u001b[39m\u001b[38;5;124mUpsert returned None result\u001b[39m\u001b[38;5;124m\"\u001b[39m\n\u001b[0;32m   1314\u001b[0m \u001b[38;5;28;01mreturn\u001b[39;00m http_result\n",
      "File \u001b[1;32mc:\\Users\\ELAFACRB1\\venvs\\langchain\\Lib\\site-packages\\qdrant_client\\http\\api\\points_api.py:1439\u001b[0m, in \u001b[0;36mSyncPointsApi.upsert_points\u001b[1;34m(self, collection_name, wait, ordering, point_insert_operations)\u001b[0m\n\u001b[0;32m   1429\u001b[0m \u001b[38;5;28;01mdef\u001b[39;00m \u001b[38;5;21mupsert_points\u001b[39m(\n\u001b[0;32m   1430\u001b[0m     \u001b[38;5;28mself\u001b[39m,\n\u001b[0;32m   1431\u001b[0m     collection_name: \u001b[38;5;28mstr\u001b[39m,\n\u001b[1;32m   (...)\u001b[0m\n\u001b[0;32m   1434\u001b[0m     point_insert_operations: m\u001b[38;5;241m.\u001b[39mPointInsertOperations \u001b[38;5;241m=\u001b[39m \u001b[38;5;28;01mNone\u001b[39;00m,\n\u001b[0;32m   1435\u001b[0m ) \u001b[38;5;241m-\u001b[39m\u001b[38;5;241m>\u001b[39m m\u001b[38;5;241m.\u001b[39mInlineResponse2006:\n\u001b[0;32m   1436\u001b[0m \u001b[38;5;250m    \u001b[39m\u001b[38;5;124;03m\"\"\"\u001b[39;00m\n\u001b[0;32m   1437\u001b[0m \u001b[38;5;124;03m    Perform insert + updates on points. If point with given ID already exists - it will be overwritten.\u001b[39;00m\n\u001b[0;32m   1438\u001b[0m \u001b[38;5;124;03m    \"\"\"\u001b[39;00m\n\u001b[1;32m-> 1439\u001b[0m     \u001b[38;5;28;01mreturn\u001b[39;00m \u001b[38;5;28;43mself\u001b[39;49m\u001b[38;5;241;43m.\u001b[39;49m\u001b[43m_build_for_upsert_points\u001b[49m\u001b[43m(\u001b[49m\n\u001b[0;32m   1440\u001b[0m \u001b[43m        \u001b[49m\u001b[43mcollection_name\u001b[49m\u001b[38;5;241;43m=\u001b[39;49m\u001b[43mcollection_name\u001b[49m\u001b[43m,\u001b[49m\n\u001b[0;32m   1441\u001b[0m \u001b[43m        \u001b[49m\u001b[43mwait\u001b[49m\u001b[38;5;241;43m=\u001b[39;49m\u001b[43mwait\u001b[49m\u001b[43m,\u001b[49m\n\u001b[0;32m   1442\u001b[0m \u001b[43m        \u001b[49m\u001b[43mordering\u001b[49m\u001b[38;5;241;43m=\u001b[39;49m\u001b[43mordering\u001b[49m\u001b[43m,\u001b[49m\n\u001b[0;32m   1443\u001b[0m \u001b[43m        \u001b[49m\u001b[43mpoint_insert_operations\u001b[49m\u001b[38;5;241;43m=\u001b[39;49m\u001b[43mpoint_insert_operations\u001b[49m\u001b[43m,\u001b[49m\n\u001b[0;32m   1444\u001b[0m \u001b[43m    \u001b[49m\u001b[43m)\u001b[49m\n",
      "File \u001b[1;32mc:\\Users\\ELAFACRB1\\venvs\\langchain\\Lib\\site-packages\\qdrant_client\\http\\api\\points_api.py:738\u001b[0m, in \u001b[0;36m_PointsApi._build_for_upsert_points\u001b[1;34m(self, collection_name, wait, ordering, point_insert_operations)\u001b[0m\n\u001b[0;32m    736\u001b[0m \u001b[38;5;28;01mif\u001b[39;00m \u001b[38;5;124m\"\u001b[39m\u001b[38;5;124mContent-Type\u001b[39m\u001b[38;5;124m\"\u001b[39m \u001b[38;5;129;01mnot\u001b[39;00m \u001b[38;5;129;01min\u001b[39;00m headers:\n\u001b[0;32m    737\u001b[0m     headers[\u001b[38;5;124m\"\u001b[39m\u001b[38;5;124mContent-Type\u001b[39m\u001b[38;5;124m\"\u001b[39m] \u001b[38;5;241m=\u001b[39m \u001b[38;5;124m\"\u001b[39m\u001b[38;5;124mapplication/json\u001b[39m\u001b[38;5;124m\"\u001b[39m\n\u001b[1;32m--> 738\u001b[0m \u001b[38;5;28;01mreturn\u001b[39;00m \u001b[38;5;28;43mself\u001b[39;49m\u001b[38;5;241;43m.\u001b[39;49m\u001b[43mapi_client\u001b[49m\u001b[38;5;241;43m.\u001b[39;49m\u001b[43mrequest\u001b[49m\u001b[43m(\u001b[49m\n\u001b[0;32m    739\u001b[0m \u001b[43m    \u001b[49m\u001b[43mtype_\u001b[49m\u001b[38;5;241;43m=\u001b[39;49m\u001b[43mm\u001b[49m\u001b[38;5;241;43m.\u001b[39;49m\u001b[43mInlineResponse2006\u001b[49m\u001b[43m,\u001b[49m\n\u001b[0;32m    740\u001b[0m \u001b[43m    \u001b[49m\u001b[43mmethod\u001b[49m\u001b[38;5;241;43m=\u001b[39;49m\u001b[38;5;124;43m\"\u001b[39;49m\u001b[38;5;124;43mPUT\u001b[39;49m\u001b[38;5;124;43m\"\u001b[39;49m\u001b[43m,\u001b[49m\n\u001b[0;32m    741\u001b[0m \u001b[43m    \u001b[49m\u001b[43murl\u001b[49m\u001b[38;5;241;43m=\u001b[39;49m\u001b[38;5;124;43m\"\u001b[39;49m\u001b[38;5;124;43m/collections/\u001b[39;49m\u001b[38;5;132;43;01m{collection_name}\u001b[39;49;00m\u001b[38;5;124;43m/points\u001b[39;49m\u001b[38;5;124;43m\"\u001b[39;49m\u001b[43m,\u001b[49m\n\u001b[0;32m    742\u001b[0m \u001b[43m    \u001b[49m\u001b[43mheaders\u001b[49m\u001b[38;5;241;43m=\u001b[39;49m\u001b[43mheaders\u001b[49m\u001b[43m \u001b[49m\u001b[38;5;28;43;01mif\u001b[39;49;00m\u001b[43m \u001b[49m\u001b[43mheaders\u001b[49m\u001b[43m \u001b[49m\u001b[38;5;28;43;01melse\u001b[39;49;00m\u001b[43m \u001b[49m\u001b[38;5;28;43;01mNone\u001b[39;49;00m\u001b[43m,\u001b[49m\n\u001b[0;32m    743\u001b[0m \u001b[43m    \u001b[49m\u001b[43mpath_params\u001b[49m\u001b[38;5;241;43m=\u001b[39;49m\u001b[43mpath_params\u001b[49m\u001b[43m,\u001b[49m\n\u001b[0;32m    744\u001b[0m \u001b[43m    \u001b[49m\u001b[43mparams\u001b[49m\u001b[38;5;241;43m=\u001b[39;49m\u001b[43mquery_params\u001b[49m\u001b[43m,\u001b[49m\n\u001b[0;32m    745\u001b[0m \u001b[43m    \u001b[49m\u001b[43mcontent\u001b[49m\u001b[38;5;241;43m=\u001b[39;49m\u001b[43mbody\u001b[49m\u001b[43m,\u001b[49m\n\u001b[0;32m    746\u001b[0m \u001b[43m\u001b[49m\u001b[43m)\u001b[49m\n",
      "File \u001b[1;32mc:\\Users\\ELAFACRB1\\venvs\\langchain\\Lib\\site-packages\\qdrant_client\\http\\api_client.py:74\u001b[0m, in \u001b[0;36mApiClient.request\u001b[1;34m(self, type_, method, url, path_params, **kwargs)\u001b[0m\n\u001b[0;32m     72\u001b[0m url \u001b[38;5;241m=\u001b[39m (\u001b[38;5;28mself\u001b[39m\u001b[38;5;241m.\u001b[39mhost \u001b[38;5;129;01mor\u001b[39;00m \u001b[38;5;124m\"\u001b[39m\u001b[38;5;124m\"\u001b[39m) \u001b[38;5;241m+\u001b[39m url\u001b[38;5;241m.\u001b[39mformat(\u001b[38;5;241m*\u001b[39m\u001b[38;5;241m*\u001b[39mpath_params)\n\u001b[0;32m     73\u001b[0m request \u001b[38;5;241m=\u001b[39m \u001b[38;5;28mself\u001b[39m\u001b[38;5;241m.\u001b[39m_client\u001b[38;5;241m.\u001b[39mbuild_request(method, url, \u001b[38;5;241m*\u001b[39m\u001b[38;5;241m*\u001b[39mkwargs)\n\u001b[1;32m---> 74\u001b[0m \u001b[38;5;28;01mreturn\u001b[39;00m \u001b[38;5;28;43mself\u001b[39;49m\u001b[38;5;241;43m.\u001b[39;49m\u001b[43msend\u001b[49m\u001b[43m(\u001b[49m\u001b[43mrequest\u001b[49m\u001b[43m,\u001b[49m\u001b[43m \u001b[49m\u001b[43mtype_\u001b[49m\u001b[43m)\u001b[49m\n",
      "File \u001b[1;32mc:\\Users\\ELAFACRB1\\venvs\\langchain\\Lib\\site-packages\\qdrant_client\\http\\api_client.py:91\u001b[0m, in \u001b[0;36mApiClient.send\u001b[1;34m(self, request, type_)\u001b[0m\n\u001b[0;32m     90\u001b[0m \u001b[38;5;28;01mdef\u001b[39;00m \u001b[38;5;21msend\u001b[39m(\u001b[38;5;28mself\u001b[39m, request: Request, type_: Type[T]) \u001b[38;5;241m-\u001b[39m\u001b[38;5;241m>\u001b[39m T:\n\u001b[1;32m---> 91\u001b[0m     response \u001b[38;5;241m=\u001b[39m \u001b[38;5;28;43mself\u001b[39;49m\u001b[38;5;241;43m.\u001b[39;49m\u001b[43mmiddleware\u001b[49m\u001b[43m(\u001b[49m\u001b[43mrequest\u001b[49m\u001b[43m,\u001b[49m\u001b[43m \u001b[49m\u001b[38;5;28;43mself\u001b[39;49m\u001b[38;5;241;43m.\u001b[39;49m\u001b[43msend_inner\u001b[49m\u001b[43m)\u001b[49m\n\u001b[0;32m     92\u001b[0m     \u001b[38;5;28;01mif\u001b[39;00m response\u001b[38;5;241m.\u001b[39mstatus_code \u001b[38;5;129;01min\u001b[39;00m [\u001b[38;5;241m200\u001b[39m, \u001b[38;5;241m201\u001b[39m, \u001b[38;5;241m202\u001b[39m]:\n\u001b[0;32m     93\u001b[0m         \u001b[38;5;28;01mtry\u001b[39;00m:\n",
      "File \u001b[1;32mc:\\Users\\ELAFACRB1\\venvs\\langchain\\Lib\\site-packages\\qdrant_client\\http\\api_client.py:200\u001b[0m, in \u001b[0;36mBaseMiddleware.__call__\u001b[1;34m(self, request, call_next)\u001b[0m\n\u001b[0;32m    199\u001b[0m \u001b[38;5;28;01mdef\u001b[39;00m \u001b[38;5;21m__call__\u001b[39m(\u001b[38;5;28mself\u001b[39m, request: Request, call_next: Send) \u001b[38;5;241m-\u001b[39m\u001b[38;5;241m>\u001b[39m Response:\n\u001b[1;32m--> 200\u001b[0m     \u001b[38;5;28;01mreturn\u001b[39;00m \u001b[43mcall_next\u001b[49m\u001b[43m(\u001b[49m\u001b[43mrequest\u001b[49m\u001b[43m)\u001b[49m\n",
      "File \u001b[1;32mc:\\Users\\ELAFACRB1\\venvs\\langchain\\Lib\\site-packages\\qdrant_client\\http\\api_client.py:103\u001b[0m, in \u001b[0;36mApiClient.send_inner\u001b[1;34m(self, request)\u001b[0m\n\u001b[0;32m    101\u001b[0m     response \u001b[38;5;241m=\u001b[39m \u001b[38;5;28mself\u001b[39m\u001b[38;5;241m.\u001b[39m_client\u001b[38;5;241m.\u001b[39msend(request)\n\u001b[0;32m    102\u001b[0m \u001b[38;5;28;01mexcept\u001b[39;00m \u001b[38;5;167;01mException\u001b[39;00m \u001b[38;5;28;01mas\u001b[39;00m e:\n\u001b[1;32m--> 103\u001b[0m     \u001b[38;5;28;01mraise\u001b[39;00m ResponseHandlingException(e)\n\u001b[0;32m    104\u001b[0m \u001b[38;5;28;01mreturn\u001b[39;00m response\n",
      "\u001b[1;31mResponseHandlingException\u001b[0m: timed out"
     ]
    }
   ],
   "source": [
    "retriever.add_documents(data, ids=None)"
   ]
  },
  {
   "cell_type": "code",
   "execution_count": null,
   "metadata": {},
   "outputs": [
    {
     "data": {
      "text/plain": [
       "ParentDocumentRetriever(vectorstore=<langchain_community.vectorstores.qdrant.Qdrant object at 0x000001AD239F8C90>, docstore=<langchain.storage.in_memory.InMemoryBaseStore object at 0x000001AD247C1E50>, child_splitter=<langchain.text_splitter.RecursiveCharacterTextSplitter object at 0x000001AD251CFF50>)"
      ]
     },
     "execution_count": 24,
     "metadata": {},
     "output_type": "execute_result"
    }
   ],
   "source": [
    "retriever"
   ]
  },
  {
   "cell_type": "code",
   "execution_count": null,
   "metadata": {},
   "outputs": [],
   "source": [
    "qa_chain = RetrievalQA.from_chain_type(\n",
    "    llm,\n",
    "    chain_type=\"stuff\",\n",
    "    retriever=vectore_store_client.as_retriever(),\n",
    "    return_source_documents=True,\n",
    ")"
   ]
  },
  {
   "cell_type": "code",
   "execution_count": null,
   "metadata": {},
   "outputs": [
    {
     "data": {
      "text/plain": [
       "{'query': 'whats the most recent computer for quantum computing?',\n",
       " 'result': \"The most recent computer for quantum computing is the Sycamore processor developed by Google. It made headlines in 2019 when Google claimed to have achieved quantum supremacy with this processor. However, it's important to note that the field of quantum computing is rapidly evolving, and new advancements are being made by various companies and research institutions.\",\n",
       " 'source_documents': [Document(page_content='The Future of Quantum Computing', metadata={'authors': [], 'description': 'Are you tired of waiting ages for data processing to complete? Frustrated by the limitations of conventional computing power? If so, you’re not alone. In a world where data is king, speed and…', 'doc_id': '7ed35252-4320-4062-a7e2-aada649aa0b1', 'feed': 'https://medium.com/feed/tag/quantum-computing', 'language': 'en', 'link': 'https://medium.com/@krupalu.datta/quantum-supremacy-redefining-speed-and-efficiency-in-data-processing-4d52704f62f8?source=rss------quantum_computing-5', 'publish_date': '2024-02-27T07:57:05.479000Z', 'title': 'Quantum Supremacy: Redefining Speed and Efficiency in Data Processing', '_id': '65744e57-b490-44ca-a54b-f5dee542e60b', '_collection_name': 'rio-rag-platform'}),\n",
       "  Document(page_content='Quantum Computing and Processing Power', metadata={'authors': ['Exohood Labs'], 'description': 'In an era where the boundaries of technology continually expand, the integration of artificial intelligence, quantum computing and blockchain presents a groundbreaking approach to one of humanity’s…', 'doc_id': '7c9fa6d7-6c2d-4b85-851a-7dcad96ca194', 'feed': 'https://medium.com/feed/tag/quantum-computing', 'language': 'en', 'link': 'https://exohood.medium.com/bridging-minds-the-fusion-of-ai-quantum-technology-and-blockchain-ce7d92764c73?source=rss------quantum_computing-5', 'publish_date': '2024-02-27T13:55:19.213000Z', 'title': 'Bridging minds the fusion of AI, Quantum technology and Blockchain', '_id': 'c761c6e3-baf9-449c-904f-822adcc90c7f', '_collection_name': 'rio-rag-platform'}),\n",
       "  Document(page_content='The pursuit of quantum supremacy has spurred intense competition among leading tech companies and research institutions worldwide. Google made headlines in 2019 with its claim of achieving quantum supremacy through its Sycamore processor, which performed a specific task in a fraction of the time it would take the most powerful classical supercomputer. Other players in the field, including IBM,', metadata={'authors': [], 'description': 'Are you tired of waiting ages for data processing to complete? Frustrated by the limitations of conventional computing power? If so, you’re not alone. In a world where data is king, speed and…', 'doc_id': '7ed35252-4320-4062-a7e2-aada649aa0b1', 'feed': 'https://medium.com/feed/tag/quantum-computing', 'language': 'en', 'link': 'https://medium.com/@krupalu.datta/quantum-supremacy-redefining-speed-and-efficiency-in-data-processing-4d52704f62f8?source=rss------quantum_computing-5', 'publish_date': '2024-02-27T07:57:05.479000Z', 'title': 'Quantum Supremacy: Redefining Speed and Efficiency in Data Processing', '_id': '2cc227de-0bb4-4e2b-bf67-9d2da3e1189f', '_collection_name': 'rio-rag-platform'}),\n",
       "  Document(page_content='supremacy through its Sycamore processor, which performed a specific task in a fraction of the time it would take the most powerful classical supercomputer. Other players in the field, including IBM, Intel, and startups like Rigetti Computing and D-Wave Systems, are also making significant strides in their quest to demonstrate quantum supremacy, each employing distinct approaches and', metadata={'authors': [], 'description': 'Are you tired of waiting ages for data processing to complete? Frustrated by the limitations of conventional computing power? If so, you’re not alone. In a world where data is king, speed and…', 'doc_id': '7ed35252-4320-4062-a7e2-aada649aa0b1', 'feed': 'https://medium.com/feed/tag/quantum-computing', 'language': 'en', 'link': 'https://medium.com/@krupalu.datta/quantum-supremacy-redefining-speed-and-efficiency-in-data-processing-4d52704f62f8?source=rss------quantum_computing-5', 'publish_date': '2024-02-27T07:57:05.479000Z', 'title': 'Quantum Supremacy: Redefining Speed and Efficiency in Data Processing', '_id': '0bfc616b-7b21-4cf6-bcf8-87fb179f7096', '_collection_name': 'rio-rag-platform'})]}"
      ]
     },
     "execution_count": 23,
     "metadata": {},
     "output_type": "execute_result"
    }
   ],
   "source": [
    "qa_chain('whats the most recent computer for quantum computing?')"
   ]
  },
  {
   "cell_type": "markdown",
   "metadata": {},
   "source": [
    "**Multi-Query Retriever**\n",
    "\n",
    "If users are asking questions that are complex and require multiple pieces of distinct information to respond"
   ]
  },
  {
   "cell_type": "code",
   "execution_count": null,
   "metadata": {},
   "outputs": [],
   "source": [
    "query='what could be an use of quantum computing in SAFe methodology?'"
   ]
  },
  {
   "cell_type": "code",
   "execution_count": null,
   "metadata": {},
   "outputs": [],
   "source": [
    "from langchain.retrievers.multi_query import MultiQueryRetriever\n",
    "from langchain_openai import ChatOpenAI\n",
    "import logging"
   ]
  },
  {
   "cell_type": "code",
   "execution_count": null,
   "metadata": {},
   "outputs": [],
   "source": [
    "llm = ChatOpenAI(temperature=0)"
   ]
  },
  {
   "cell_type": "code",
   "execution_count": null,
   "metadata": {},
   "outputs": [],
   "source": [
    "logging.basicConfig()\n",
    "logging.getLogger(\"langchain.retrievers.multi_query\").setLevel(logging.INFO)"
   ]
  },
  {
   "cell_type": "code",
   "execution_count": null,
   "metadata": {},
   "outputs": [],
   "source": [
    "retriever_from_llm = MultiQueryRetriever.from_llm(\n",
    "    retriever=vectore_store_client.as_retriever(), \n",
    "    llm=llm\n",
    ")"
   ]
  },
  {
   "cell_type": "code",
   "execution_count": null,
   "metadata": {},
   "outputs": [
    {
     "name": "stderr",
     "output_type": "stream",
     "text": [
      "INFO:langchain.retrievers.multi_query:Generated queries: ['1. How can quantum computing be applied within the context of SAFe methodology?', '2. In what ways could quantum computing enhance the implementation of SAFe methodology?', '3. What potential benefits does quantum computing offer for integrating with SAFe methodology practices?']\n"
     ]
    }
   ],
   "source": [
    "unique_docs = retriever_from_llm.get_relevant_documents(query=query)"
   ]
  },
  {
   "cell_type": "code",
   "execution_count": null,
   "metadata": {},
   "outputs": [],
   "source": [
    "qa_chain = RetrievalQA.from_chain_type(\n",
    "    llm,\n",
    "    chain_type=\"stuff\",\n",
    "    retriever=retriever_from_llm,\n",
    "    return_source_documents=True,\n",
    ")"
   ]
  },
  {
   "cell_type": "code",
   "execution_count": null,
   "metadata": {},
   "outputs": [
    {
     "name": "stderr",
     "output_type": "stream",
     "text": [
      "INFO:langchain.retrievers.multi_query:Generated queries: ['1. How can quantum computing be applied within the context of SAFe methodology?', '2. In what ways could quantum computing enhance the implementation of SAFe methodology?', '3. What potential benefits can quantum computing bring to the utilization of SAFe methodology?']\n"
     ]
    },
    {
     "data": {
      "text/plain": [
       "{'query': 'what could be an use of quantum computing in SAFe methodology?',\n",
       " 'result': 'Quantum computing could potentially be used in SAFe methodology to enhance the development of solutions by improving computational power and efficiency. Quantum algorithms could help in optimizing processes, such as accelerating the development of new pharmaceuticals or solving complex optimization problems in logistics, finance, and manufacturing. This could lead to more efficient and effective implementation of SAFe practices, ultimately improving the quality and speed of solution delivery within the framework.',\n",
       " 'source_documents': [Document(page_content='The Future of Quantum Computing', metadata={'authors': [], 'description': 'Are you tired of waiting ages for data processing to complete? Frustrated by the limitations of conventional computing power? If so, you’re not alone. In a world where data is king, speed and…', 'doc_id': '7ed35252-4320-4062-a7e2-aada649aa0b1', 'feed': 'https://medium.com/feed/tag/quantum-computing', 'language': 'en', 'link': 'https://medium.com/@krupalu.datta/quantum-supremacy-redefining-speed-and-efficiency-in-data-processing-4d52704f62f8?source=rss------quantum_computing-5', 'publish_date': '2024-02-27T07:57:05.479000Z', 'title': 'Quantum Supremacy: Redefining Speed and Efficiency in Data Processing', '_id': '65744e57-b490-44ca-a54b-f5dee542e60b', '_collection_name': 'rio-rag-platform'}),\n",
       "  Document(page_content='Quantum Computing and Processing Power', metadata={'authors': ['Exohood Labs'], 'description': 'In an era where the boundaries of technology continually expand, the integration of artificial intelligence, quantum computing and blockchain presents a groundbreaking approach to one of humanity’s…', 'doc_id': '7c9fa6d7-6c2d-4b85-851a-7dcad96ca194', 'feed': 'https://medium.com/feed/tag/quantum-computing', 'language': 'en', 'link': 'https://exohood.medium.com/bridging-minds-the-fusion-of-ai-quantum-technology-and-blockchain-ce7d92764c73?source=rss------quantum_computing-5', 'publish_date': '2024-02-27T13:55:19.213000Z', 'title': 'Bridging minds the fusion of AI, Quantum technology and Blockchain', '_id': 'c761c6e3-baf9-449c-904f-822adcc90c7f', '_collection_name': 'rio-rag-platform'}),\n",
       "  Document(page_content='How Quantum Computers Work', metadata={'authors': [], 'description': 'Are you tired of waiting ages for data processing to complete? Frustrated by the limitations of conventional computing power? If so, you’re not alone. In a world where data is king, speed and…', 'doc_id': '7ed35252-4320-4062-a7e2-aada649aa0b1', 'feed': 'https://medium.com/feed/tag/quantum-computing', 'language': 'en', 'link': 'https://medium.com/@krupalu.datta/quantum-supremacy-redefining-speed-and-efficiency-in-data-processing-4d52704f62f8?source=rss------quantum_computing-5', 'publish_date': '2024-02-27T07:57:05.479000Z', 'title': 'Quantum Supremacy: Redefining Speed and Efficiency in Data Processing', '_id': 'e58c8527-2bc2-453d-a73e-96ae0ce367c5', '_collection_name': 'rio-rag-platform'}),\n",
       "  Document(page_content='►Summarized different practices to build quality into Solutions ►Created action items as a team to take into the upcoming PI around  improving your CDP and Built -in Quality 5-37 Workbook 129 © Scaled Agile, Inc. For personal use only - Rosario Laface - Nov 16, 2023 (ID:0056T00000949fqQAA)  © Scaled Agile. Inc.References Cohn, Mike. Succeeding with Agile: Software Development Using Scrum. Boston: Pearson Education Inc.,  2013. 312 Oosterwal, Dantar P. The Lean Machine: How Harley -Davidson Drove Top -Line Growth and Profitability with  Revolutionary Lean Product Development . New York: AMACOM, 2010. 143. 5-40 © Scaled Agile. Inc. © Scaled Agile, Inc.  Continue your SAFe journey with the following resources:Use the SAFe Collaborate template “Determine the  Team’s Definition of Done ” with your team to agree  upon Guardrails, rules, and processes that ensure  Built-in Quality for your Solutions. https://bit.ly/Template-DetermineDoDWatch this sixty-minute video, Community Webinar:  DevSecOps in Real Life, to delve into the most  important practices that fuel the CDP and how they  are implemented in real life. https://bit.ly/Community -DevSecOpsWebinar Download “The Facilitator’s Guide to SAFe: Team  Sync” for support facilitating your Team Sync events  and ideas for overcoming potential issues you  might encounter. https://bit.ly/Community -FGDailyStand-UpDownload \"The Facilitator\\'s Guide to SAFe: PO  Sync\" to ensure your PO Sync events stay on track,  achieve their goals, and stay fresh to ensure strong,  consistent participation. https://bit.ly/Community -FGPOSync Download \"The Facilitator\\'s Guide to SAFe: Coach  Sync\" for guidance on preparation and execution of  the Coach Sync, along with tips to keep the format  engaging for attendees. https://bit.ly/Community -FGSoSDownload \"The Facilitator\\'s Guide to SAFe: ART  Sync\" for an overview of the purpose, preparation,  and execution details to ensure this meeting is  valuable for the attendees and the organization.', metadata={'source': 'text', '_id': 'af8b127f-745e-5ed5-9a5e-f4bcbb024012', '_collection_name': 'rio-rag-platform'}),\n",
       "  Document(page_content='interactions, accelerating the development of new pharmaceuticals. Optimization problems in logistics, finance, and manufacturing could also benefit from quantum algorithms capable of rapidly finding optimal solutions.', metadata={'authors': [], 'description': 'Are you tired of waiting ages for data processing to complete? Frustrated by the limitations of conventional computing power? If so, you’re not alone. In a world where data is king, speed and…', 'doc_id': '7ed35252-4320-4062-a7e2-aada649aa0b1', 'feed': 'https://medium.com/feed/tag/quantum-computing', 'language': 'en', 'link': 'https://medium.com/@krupalu.datta/quantum-supremacy-redefining-speed-and-efficiency-in-data-processing-4d52704f62f8?source=rss------quantum_computing-5', 'publish_date': '2024-02-27T07:57:05.479000Z', 'title': 'Quantum Supremacy: Redefining Speed and Efficiency in Data Processing', '_id': 'bb450001-995b-4cae-809a-73ad86fc8179', '_collection_name': 'rio-rag-platform'}),\n",
       "  Document(page_content='The widespread adoption of quantum computing technology carries far-reaching implications for industries, governments, and society as a whole. While quantum supremacy promises unprecedented computational power, it also raises concerns about data security and privacy, as quantum computers could potentially crack widely-used encryption schemes. Ethical considerations surrounding the equitable', metadata={'authors': [], 'description': 'Are you tired of waiting ages for data processing to complete? Frustrated by the limitations of conventional computing power? If so, you’re not alone. In a world where data is king, speed and…', 'doc_id': '7ed35252-4320-4062-a7e2-aada649aa0b1', 'feed': 'https://medium.com/feed/tag/quantum-computing', 'language': 'en', 'link': 'https://medium.com/@krupalu.datta/quantum-supremacy-redefining-speed-and-efficiency-in-data-processing-4d52704f62f8?source=rss------quantum_computing-5', 'publish_date': '2024-02-27T07:57:05.479000Z', 'title': 'Quantum Supremacy: Redefining Speed and Efficiency in Data Processing', '_id': '4912a1dd-fb45-4e89-8d95-727c30a7d3fc', '_collection_name': 'rio-rag-platform'})]}"
      ]
     },
     "execution_count": 39,
     "metadata": {},
     "output_type": "execute_result"
    }
   ],
   "source": [
    "qa_chain(query)"
   ]
  },
  {
   "cell_type": "code",
   "execution_count": null,
   "metadata": {},
   "outputs": [
    {
     "name": "stderr",
     "output_type": "stream",
     "text": [
      "INFO:langchain.retrievers.multi_query:Generated queries: ['1. Can you explain the concept of PI?', '2. What is the definition of PI?', '3. Could you provide information about PI?']\n"
     ]
    },
    {
     "data": {
      "text/plain": [
       "{'query': 'whats a PI?',\n",
       " 'result': 'PI stands for Planning Interval. It is a cadence-based event that serves as the heartbeat of the ART (Agile Release Train), aligning all teams on the ART to a shared mission and vision. PI Planning helps in establishing personal communication across all team members and stakeholders, aligning development of business goals with the business context, identifying dependencies, fostering cross-team and cross-ART collaboration, providing architecture and Lean UX guidance, matching demand to capacity, and enabling faster decision-making.',\n",
       " 'source_documents': [Document(page_content='dependencies 4-24Planning Interval (PI) Planning is a cadence-based event that serves as the  heartbeat of the ART, aligning all teams on the ART to a shared mission  and Vision.What is PI Planning? © Scaled Agile. Inc. Duration Video: The Power of PI Planning 3 https://bit.ly/Video - PowerofPIPlanning min 4-23 Workbook 85 © Scaled Agile, Inc. For personal use only - Rosario Laface - Nov 16, 2023 (ID:0056T00000949fqQAA)  © Scaled Agile. Inc. Top 10  FeaturesVisionTeam A PI  Objectives Team B PI  Objectives Team C PI  ObjectivesTeam J PI  ObjectivesART  PI Objectives ... ART  Backlog PI Planning Input Team and ART PI Objectives  and ART Planning BoardOutput Vision and Top 10 Features  Iteration 1.1 Iteration 1.2 Iteration 1.3 Iteration 1.4 Iteration 1.5  (IP) PI 2 >>> Unicorns Dolphins Bears Eagles Iguanas Antelope Tarantulas Needs UX Help Needs Sys  Arch Help The PI Planning process 4 - 26 © Scaled Agile. Inc.►Establishes personal communication across all team  members and stakeholders  ►Aligns development of business goals with the  business context, Vision, and Team/ART PI Objectives  ►Identifies dependencies and fosters cross -team and  cross- ART collaboration  ►Provides the opportunity for the right amount of  architecture and Lean UX guidance  ►Matches demand to capacity, eliminating excess work  in process (WIP)  ►Allows for faster decision- makingThe benefits of PI Planning 4-25Cross -team collaboration Workbook 86 © Scaled Agile, Inc. For personal use only - Rosario Laface - Nov 16, 2023 (ID:0056T00000949fqQAA)  © Scaled Agile. Inc. ►They are planned, not  extra things teams do \" just in  case you have time\" ►They are not included in the commitment, thereby  making the commitment more reliable ►If a team has low confidence in meeting a PI  Objective, it should be moved to uncommitted ►If an objective has many unknowns, consider moving it  to uncommitted and putting  in early spikes * ►Uncommitted objectives count when calculating load *Spikes are research', metadata={'source': 'text', '_id': '0dba9f74-cbf9-5fe5-b063-8f2d5edbb4ed', '_collection_name': 'rio-rag-platform'}),\n",
       "  Document(page_content='Stories, considered exploration -style Enablers.Maintain predictability with uncommitted objectives Uncommitted objectives help improve the predictability of delivering business value. Objectives for PI 1 Uncommitted Objectives 7. Spike: Reduce GPS signal  loss by 25% 8. Demonstrate real -time  rerouting to avoid delays  (e.g., accident, construction) 4-28 © Scaled Agile. Inc.►Objectives are business summaries of  what each team intends to deliver in  the upcoming PI ►They often directly relate to intended  Features in the backlog ►Other examples: ̶Aggregation of a set of Features ̶A Milestone like a trade show ̶An Enabler Feature supporting  the implementation ̶A major refactoringCreate alignment with PI Objectives Objectives for PI 1 BVAV 1. Show routing calculations between the  5 most frequent destinations 2. Navigate autonomously from distribution  center to the most frequent destination 3. Parallel park for a delivery 4. Return to the distribution center after  delivery 5. Include traffic data in route planning 6. Recall a delivery that is already in  progress 7. Spike: Reduce GPS signal loss by 25% 8. Demonstrate real -time rerouting to avoid  delays (e.g., accident, construction)Uncommitted Objectives 4-27 Workbook 87 © Scaled Agile, Inc. For personal use only - Rosario Laface - Nov 16, 2023 (ID:0056T00000949fqQAA)  © Scaled Agile. Inc. ►Step 1:  Identify ART roles for  the simulation ►Step 2:  Ensure that you have  all key roles required for the PI  Planning simulation Activity: Identify ART roles 3 Duration min Simulation role Assigned to Executive Volunteer Product Manager Volunteer System Architect, UX,  Development ManagerVolunteer RTE Trainer 4-30 © Scaled Agile. Inc.Actively participating in a simulated PI Planning event will enable you to:Outcomes of the PI Planning simulation Communication Experience the  business benefits of  establishing  communication  across all team  members and  stakeholdersEstimate Capacity Experience  estimating capacity', metadata={'source': 'text', '_id': '3636b557-f932-5b8b-8aea-39ab738effe7', '_collection_name': 'rio-rag-platform'}),\n",
       "  Document(page_content='–Did we meet the goal? –Story -by-Story reviewTwo views from the Iteration Review based on a working system ►How are we doing in the PI? –Review of PI Objectives –Review of remaining PI scope  and reprioritizing if necessary 6-15 Workbook 139 © Scaled Agile, Inc. For personal use only - Rosario Laface - Nov 16, 2023 (ID:0056T00000949fqQAA)  © Scaled Agile. Inc.What can you learn from a CFD? 02468101214 Day 1 Day 2 Day 3 Day4 Day 5 Day 6 Day 7 Day 8 Day 9 Day 10Stories Done Test Develop Design To Do To Do        Design        Develop        Test       Done 6-18 Flow time WIP Done curve © Scaled Agile. Inc.Understand cumulative flow diagrams (CFDs) 02468101214 Day 1 Day 2 Day 3 Day4 Day 5 Day 6 Day 7 Day 8 Day 9 Day 10Stories Done Test Develop Design To Do To Do        Design        Develop        Test        Done 6-17 Workbook 140 © Scaled Agile, Inc. For personal use only - Rosario Laface - Nov 16, 2023 (ID:0056T00000949fqQAA)  © Scaled Agile. Inc.#1 Take an economic view #2 Apply systems thinking #3 Assume variability; preserve options #4 Build incrementally with fast, integrated learning cycles #5 Base milestones on objective evaluation of working systems #6 Make value flow without interruptions #7 Apply cadence, synchronize with cross- domain planning #8 Unlock the intrinsic motivation of knowledge workers #9 Decentralize decision- making #10 Organize around valueSAFe Lean -Agile Principles 6-20 © Scaled Agile. Inc. © Scaled Agile, Inc.  6.3 System Demo 6-19 Workbook 141 © Scaled Agile, Inc. For personal use only - Rosario Laface - Nov 16, 2023 (ID:0056T00000949fqQAA)  © Scaled Agile. Inc.System Demo tests and evaluates the full solution in a production -like context,  often through staging, to receive feedback from stakeholders. Sample Agenda: –Review the business context and the PI Objectives  (around 5 – 10 minutes) –Briefly describe each new Feature before demoing (around 5 minutes) –Demo each new Feature in an end-to -end use case (around 20 – 30  minutes', metadata={'source': 'text', '_id': '6f209b18-6f2e-50e3-b672-a9f9754e0e6c', '_collection_name': 'rio-rag-platform'}),\n",
       "  Document(page_content='(ID:0056T00000949fqQAA)  © Scaled Agile. Inc. You will be planning a short PI with two Iterations with your team. ►Step 1: Calculate and enter the capacity for each Iteration  (two-week Iteration) ̶The first Iteration starts Monday ̶Use your real availability ►Step 2: Estimate the Stories using Story points ►Step 3: Load the Stories into the Iterations ►Step 4: Write the PI Objectives using clear statements ►Step 5: Identify the uncommitted objectives ►Step 6: Identify any ART PI Risks and dependencies Activity: Team breakout #1  50 Duration min 4-40 © Scaled Agile. Inc. Calculating Iteration capacity : ►For every full -time Agile Team member  contributing to Solution development, give  the team 8 points ; adjust for those who  are part- time. ►Subtract 1 point for every team member’s   vacation day and holiday . ►Find a small Story that would take about  a half -day to develop and a half- day to test  and validate. Call it a 1- point Story . ►Estimate every other Story relative to that 1 . Simulation: Calculate your capacity 4 - 39Example: A seven- person team composed of  three developers, two testers, one  PO, and one SM/TC Exclude the PO, SM/TC, and time off  from the calculation Calculated capacity:  5 x 8 points = 40 points per Iteration 4-39 Workbook 93 © Scaled Agile, Inc. For personal use only - Rosario Laface - Nov 16, 2023 (ID:0056T00000949fqQAA)  © Scaled Agile. Inc. Activity: Coach Sync 4 - 42Coach Sync Questions Team 1 Have you identified the capacity for each Iteration of the PI? Have you identified most of the Stories for the first two Iterations and begun estimating? Have you begun resolving dependencies with other teams? Are you discussing tradeoffs and conflicting priorities with your Business Owners? Have you identified any ART PI Risks? Will you be ready to start writing PI Objectives in the next 15 minutes? Is there anything you need to discuss with other SM/TCs? If so, stay for the meet -after. © Scaled Agile. Inc. ►Step 1: The teams observe', metadata={'source': 'text', '_id': 'a386eec8-3226-58c9-9a3b-d7ccdd67c36c', '_collection_name': 'rio-rag-platform'}),\n",
       "  Document(page_content='vision Architecture vision  and development  practices Planning  requirements  and lunch Team breakouts Draft plan review Management  review and  problem -solvingPlanning  adjustments Team breakouts Final plan review  and lunch PI confidence vote Plan rework if  necessary Planning  retrospective and  moving forwardOptional time  for distributed  planningSunday Monday Tuesday Wednesday Thursday Friday Saturday Buffer for leftover work Final verification and validation, and documentation (if releasing) Innovation PI planning readiness PI planning  Day 1PI planning  Day 2Solution  Train Pre -PI  planning Innovation  continues PI planning  readinessInspect and  adapt  workshopContinuing  educationOptional  time for  distributed  planning Solution  Train  Post-PI  planning Inspect  & AdaptPI Planning… prepare for PI Planning … … innovations and hackathon … PI  Planning  readinessOptional  time for  distributed  planning… buffer for overflow work … … skills development and learning … Day 1 Day 2Sunday Monday Tuesday Wednesday Thursday Friday Saturday © Scaled Agile. Inc.►Innovation: Opportunity for  innovation, hackathons, and  infrastructure improvements ►Planning: Provides for cadence - based planning  ►The IP Iteration also provides an  estimating guard band for  cadence-based delivery.PI Planning occurs on cadence within the IP Iteration which f acilitates  reliability, PI readiness, planning, and innovation. Innovation and Planning (IP) Iteration “Provide sufficient capacity  margin to enable cadence.” —Donald G. Reinertsen, The Principles of  Product Development Flow 4-21 Workbook 84 © Scaled Agile, Inc. For personal use only - Rosario Laface - Nov 16, 2023 (ID:0056T00000949fqQAA)  © Scaled Agile. Inc.►Two days every 8 – 12 weeks (10 weeks is typical) ►Everyone plans together ►Product Management owns Feature priorities ►Development teams own Story planning and high- level estimates ►Architect and UX work as intermediaries for governance, interfaces,  and', metadata={'source': 'text', '_id': '1f39071d-5493-5aee-928b-c2a40aa9456a', '_collection_name': 'rio-rag-platform'}),\n",
       "  Document(page_content='►Step 1: As a team, discuss and answer the following prompts: –Identify the top three actions you will bring to the  upcoming PI –Identify how you will emphasize relentless improvement in  the team and the ART in the next PI –Determine what Metrics and methods you will start with –Discuss how you will visualize team improvements –Decide how you would prefer to get feedback from other  teams on opportunities to improve together ►Step 2:  Create a two -minute recap of your discussion and  your decisions Action Plan: How will we improve together? 10 Share 15 Prepare min min 7-41 © Scaled Agile. Inc.Four critical success factors 1. Use measurement in conjunction  with other discovery tools2. Apply Metrics where they  support improved decision making 3. Understand the effect of  Metrics on behavior4. Interpret Metrics carefully 7-40 Workbook 170 © Scaled Agile, Inc. For personal use only - Rosario Laface - Nov 16, 2023 (ID:0056T00000949fqQAA)  How will we   improve together?  Workbook 171 © Scaled Agile, Inc. Action Plan For personal use only - Rosario Laface - Nov 16, 2023 (ID:0056T00000949fqQAA)  © Scaled Agile. Inc.►“Measure and Grow” https://www.scaledagileframework.com /measure -and-grow/ ►“Make Value Flow Without Interruptions”  https://www.scaledagileframework.com /make -value-flow-without -interruptions/ ►“Inspect & Adapt”  https://www.scaledagileframework.com /inspect-and-adapt/ ►“Iteration Retrospective”  https://www.scaledagileframework.com /iteration -retrospective/ Read these Framework articles to learn more about topics covered in this lessonArticles used in this lesson 7-43 © Scaled Agile. Inc.In this lesson you:Lesson review ►Summarized the steps of a retrospective ►Identified the steps of I&A ►Explained the eight flow fundamentals ►Summarized how to apply flow Metrics to assess the organization’s ability to  make value flow without interruption ►Described the purpose of a balanced Metric approach ►Identified the top three actions your team can take into', metadata={'source': 'text', '_id': 'bf3c7c8d-e247-5628-9bde-a5c0470793f7', '_collection_name': 'rio-rag-platform'})]}"
      ]
     },
     "execution_count": 40,
     "metadata": {},
     "output_type": "execute_result"
    }
   ],
   "source": [
    "qa_chain('whats a PI?')"
   ]
  },
  {
   "cell_type": "markdown",
   "metadata": {},
   "source": [
    "**Output parser**"
   ]
  },
  {
   "cell_type": "code",
   "execution_count": null,
   "metadata": {},
   "outputs": [],
   "source": [
    "from langchain.output_parsers import PydanticOutputParser\n",
    "from langchain_core.output_parsers import JsonOutputParser\n",
    "from typing import List\n",
    "from langchain.prompts import PromptTemplate\n",
    "from langchain_core.pydantic_v1 import BaseModel, Field, validator\n",
    "from langchain_openai import OpenAI"
   ]
  },
  {
   "cell_type": "code",
   "execution_count": null,
   "metadata": {},
   "outputs": [],
   "source": [
    "model = OpenAI(model_name=\"gpt-3.5-turbo-instruct\", temperature=0.0)"
   ]
  },
  {
   "cell_type": "code",
   "execution_count": null,
   "metadata": {},
   "outputs": [],
   "source": [
    "\n",
    "class News(BaseModel):\n",
    "    topic: str = Field(description=\"The topic of the news\")\n",
    "    titles: List[str] = Field(description=\"titles of the news\")\n",
    "    descriptions: List[str] = Field(description=\"full, long text with details news\")\n",
    "    urls: List[str] = Field(description=\"url of the news if available, empty if not\")\n",
    "\n",
    "    # You can add custom validation logic easily with Pydantic.\n",
    "    # @validator(\"setup\")\n",
    "    # def question_ends_with_question_mark(cls, field):\n",
    "    #     if field[-1] != \"?\":\n",
    "    #         raise ValueError(\"Badly formed question!\")\n",
    "    #     return field"
   ]
  },
  {
   "cell_type": "code",
   "execution_count": null,
   "metadata": {},
   "outputs": [],
   "source": [
    "parser = JsonOutputParser(pydantic_object=News)"
   ]
  },
  {
   "cell_type": "code",
   "execution_count": null,
   "metadata": {},
   "outputs": [],
   "source": [
    "prompt = PromptTemplate(\n",
    "    template=\"Answer the user query \\n{format_instructions}\\n{query}\\n\",\n",
    "    input_variables=[\"query\"],\n",
    "    partial_variables={\"format_instructions\": parser.get_format_instructions()},\n",
    ")\n"
   ]
  },
  {
   "cell_type": "code",
   "execution_count": null,
   "metadata": {},
   "outputs": [
    {
     "data": {
      "text/plain": [
       "'The output should be formatted as a JSON instance that conforms to the JSON schema below.\\n\\nAs an example, for the schema {\"properties\": {\"foo\": {\"title\": \"Foo\", \"description\": \"a list of strings\", \"type\": \"array\", \"items\": {\"type\": \"string\"}}}, \"required\": [\"foo\"]}\\nthe object {\"foo\": [\"bar\", \"baz\"]} is a well-formatted instance of the schema. The object {\"properties\": {\"foo\": [\"bar\", \"baz\"]}} is not well-formatted.\\n\\nHere is the output schema:\\n```\\n{\"properties\": {\"topic\": {\"title\": \"Topic\", \"description\": \"The topic of the news\", \"type\": \"string\"}, \"titles\": {\"title\": \"Titles\", \"description\": \"titles of the news\", \"type\": \"array\", \"items\": {\"type\": \"string\"}}, \"descriptions\": {\"title\": \"Descriptions\", \"description\": \"full, long text with details news\", \"type\": \"array\", \"items\": {\"type\": \"string\"}}, \"urls\": {\"title\": \"Urls\", \"description\": \"url of the news if available, empty if not\", \"type\": \"array\", \"items\": {\"type\": \"string\"}}}, \"required\": [\"topic\", \"titles\", \"descriptions\", \"urls\"]}\\n```'"
      ]
     },
     "execution_count": 110,
     "metadata": {},
     "output_type": "execute_result"
    }
   ],
   "source": [
    "parser.get_format_instructions()"
   ]
  },
  {
   "cell_type": "code",
   "execution_count": null,
   "metadata": {},
   "outputs": [
    {
     "data": {
      "text/plain": [
       "PromptTemplate(input_variables=['query'], partial_variables={'format_instructions': 'The output should be formatted as a JSON instance that conforms to the JSON schema below.\\n\\nAs an example, for the schema {\"properties\": {\"foo\": {\"title\": \"Foo\", \"description\": \"a list of strings\", \"type\": \"array\", \"items\": {\"type\": \"string\"}}}, \"required\": [\"foo\"]}\\nthe object {\"foo\": [\"bar\", \"baz\"]} is a well-formatted instance of the schema. The object {\"properties\": {\"foo\": [\"bar\", \"baz\"]}} is not well-formatted.\\n\\nHere is the output schema:\\n```\\n{\"properties\": {\"topic\": {\"title\": \"Topic\", \"description\": \"The topic of the news\", \"type\": \"string\"}, \"titles\": {\"title\": \"Titles\", \"description\": \"titles of the news\", \"type\": \"array\", \"items\": {\"type\": \"string\"}}, \"descriptions\": {\"title\": \"Descriptions\", \"description\": \"full, long text with details news\", \"type\": \"array\", \"items\": {\"type\": \"string\"}}, \"urls\": {\"title\": \"Urls\", \"description\": \"url of the news if available, empty if not\", \"type\": \"array\", \"items\": {\"type\": \"string\"}}}, \"required\": [\"topic\", \"titles\", \"descriptions\", \"urls\"]}\\n```'}, template='Answer the user query \\n{format_instructions}\\n{query}\\n')"
      ]
     },
     "execution_count": 111,
     "metadata": {},
     "output_type": "execute_result"
    }
   ],
   "source": [
    "prompt"
   ]
  },
  {
   "cell_type": "code",
   "execution_count": null,
   "metadata": {},
   "outputs": [],
   "source": [
    "prompt_and_model = prompt | model\n",
    "output = prompt_and_model.invoke({\"query\": \"Tell me the last 5 news about quantum computing.\"})\n",
    "parser.invoke(output)\n"
   ]
  },
  {
   "cell_type": "code",
   "execution_count": null,
   "metadata": {},
   "outputs": [
    {
     "data": {
      "text/plain": [
       "{'topic': 'Quantum Computing', 'titles': ['1. ']}"
      ]
     },
     "execution_count": 114,
     "metadata": {},
     "output_type": "execute_result"
    }
   ],
   "source": [
    "output"
   ]
  },
  {
   "cell_type": "markdown",
   "metadata": {},
   "source": [
    "**Structured output**"
   ]
  },
  {
   "cell_type": "code",
   "execution_count": null,
   "metadata": {},
   "outputs": [],
   "source": [
    "from langchain.chains import RetrievalQAWithSourcesChain\n",
    "from langchain.output_parsers import ResponseSchema, StructuredOutputParser\n",
    "from langchain.prompts import PromptTemplate\n",
    "from langchain_openai import ChatOpenAI\n",
    "from langchain.output_parsers import StructuredOutputParser, ResponseSchema\n",
    "from langchain.prompts import ChatPromptTemplate, HumanMessagePromptTemplate\n",
    "from langchain.llms import OpenAI\n",
    "from langchain.chat_models import ChatOpenAI\n",
    "import json"
   ]
  },
  {
   "cell_type": "code",
   "execution_count": null,
   "metadata": {},
   "outputs": [],
   "source": [
    "response_schemas = [\n",
    "    ResponseSchema(\n",
    "        name=\"title\", \n",
    "        description=\"title of the news\"\n",
    "    ),\n",
    "    ResponseSchema(\n",
    "        name=\"text\",\n",
    "        description=\"long text (at least 3 row long) of the retrieved news\",\n",
    "    ),\n",
    "]\n",
    "output_parser = StructuredOutputParser.from_response_schemas(response_schemas)\n",
    "format_instructions=output_parser.get_format_instructions()"
   ]
  },
  {
   "cell_type": "code",
   "execution_count": null,
   "metadata": {},
   "outputs": [],
   "source": [
    "template = \"\"\"\n",
    "    You will be given a series of topic.\n",
    "    For each topic find a list of the most 5 recent news about that topic.\n",
    "\n",
    "    {format_instructions}\n",
    "\n",
    "    Wrap your final output with closed and open brackets (a list of json objects in python format, not markdown).\n",
    "\n",
    "    INPUT:\n",
    "    {user_topics}\n",
    "\n",
    "    YOUR RESPONSE:\n",
    "\"\"\"\n"
   ]
  },
  {
   "cell_type": "code",
   "execution_count": null,
   "metadata": {},
   "outputs": [],
   "source": [
    "chat_model = ChatOpenAI(temperature=0)\n",
    "\n",
    "prompt = ChatPromptTemplate(\n",
    "    messages=[\n",
    "        HumanMessagePromptTemplate.from_template(template)  \n",
    "    ],\n",
    "    input_variables=[\"user_topics\"],\n",
    "    partial_variables={\"format_instructions\": format_instructions}\n",
    ")\n",
    "\n",
    "_input = prompt.format_prompt(user_topics=['quantum computing', 'cloud computing'])"
   ]
  },
  {
   "cell_type": "code",
   "execution_count": null,
   "metadata": {},
   "outputs": [
    {
     "data": {
      "text/plain": [
       "AIMessage(content='[\\n\\t{\\n\\t\\t\"title\": \"Quantum Computing: A New Era of Computing\",\\n\\t\\t\"text\": \"Quantum computing is a revolutionary technology that has the potential to solve complex problems that are practically impossible for classical computers. Unlike classical computers that use bits, quantum computers use quantum bits or qubits, which can exist in multiple states simultaneously. This allows quantum computers to perform calculations at a much faster rate than classical computers. Major tech companies like IBM, Google, and Microsoft are investing heavily in quantum computing research, with the goal of achieving quantum supremacy.\"\\n\\t},\\n\\t{\\n\\t\\t\"title\": \"Recent Breakthrough in Quantum Computing Research\",\\n\\t\\t\"text\": \"Researchers have made a significant breakthrough in quantum computing research by demonstrating the ability to control qubits at a much higher rate than previously thought possible. This development could pave the way for the creation of more powerful quantum computers that can tackle complex problems in fields such as cryptography, drug discovery, and materials science. The research team is optimistic about the future of quantum computing and believes that this breakthrough will accelerate the development of practical quantum computers.\"\\n\\t},\\n\\t{\\n\\t\\t\"title\": \"Challenges in Quantum Computing Implementation\",\\n\\t\\t\"text\": \"While quantum computing holds great promise for solving complex problems, there are still many challenges that need to be overcome before it can be widely implemented. One of the main challenges is the issue of qubit stability, as qubits are highly sensitive to external interference and can easily lose their quantum state. Researchers are working on developing error correction techniques to address this issue and improve the reliability of quantum computers. Additionally, there is a need for more efficient quantum algorithms that can fully leverage the power of quantum computing.\"\\n\\t},\\n\\t{\\n\\t\\t\"title\": \"Cloud Computing Trends in 2021\",\\n\\t\\t\"text\": \"Cloud computing continues to be a key technology trend in 2021, with businesses increasingly adopting cloud services to improve scalability, flexibility, and cost-efficiency. The COVID-19 pandemic has accelerated the shift to cloud computing, as remote work and digital transformation initiatives have become a top priority for organizations. Major cloud providers like Amazon Web Services, Microsoft Azure, and Google Cloud are expanding their offerings to meet the growing demand for cloud services. Hybrid and multi-cloud strategies are also gaining popularity as businesses look to leverage the strengths of different cloud platforms.\"\\n\\t},\\n\\t{\\n\\t\\t\"title\": \"Security Challenges in Cloud Computing\",\\n\\t\\t\"text\": \"As more businesses move their operations to the cloud, security has become a major concern in cloud computing. Data breaches, ransomware attacks, and other cyber threats pose a significant risk to organizations that store sensitive information in the cloud. Cloud providers are continuously improving their security measures to protect customer data, but businesses also need to implement robust security practices to safeguard their cloud environments. Encryption, access controls, and regular security audits are essential components of a comprehensive cloud security strategy.\"\\n\\t}\\n]')"
      ]
     },
     "execution_count": 138,
     "metadata": {},
     "output_type": "execute_result"
    }
   ],
   "source": [
    "output = chat_model(_input.to_messages())\n",
    "output"
   ]
  },
  {
   "cell_type": "code",
   "execution_count": null,
   "metadata": {},
   "outputs": [
    {
     "data": {
      "text/plain": [
       "[{'title': 'Quantum Computing: A New Era of Computing',\n",
       "  'text': 'Quantum computing is a revolutionary technology that has the potential to solve complex problems that are practically impossible for classical computers. Unlike classical computers that use bits, quantum computers use quantum bits or qubits, which can exist in multiple states simultaneously. This allows quantum computers to perform calculations at a much faster rate than classical computers. Major tech companies like IBM, Google, and Microsoft are investing heavily in quantum computing research, with the goal of achieving quantum supremacy.'},\n",
       " {'title': 'Recent Breakthrough in Quantum Computing Research',\n",
       "  'text': 'Researchers have made a significant breakthrough in quantum computing research by demonstrating the ability to control qubits at a much higher rate than previously thought possible. This development could pave the way for the creation of more powerful quantum computers that can tackle complex problems in fields such as cryptography, drug discovery, and materials science. The research team is optimistic about the future of quantum computing and believes that this breakthrough will accelerate the development of practical quantum computers.'},\n",
       " {'title': 'Challenges in Quantum Computing Implementation',\n",
       "  'text': 'While quantum computing holds great promise for solving complex problems, there are still many challenges that need to be overcome before it can be widely implemented. One of the main challenges is the issue of qubit stability, as qubits are highly sensitive to external interference and can easily lose their quantum state. Researchers are working on developing error correction techniques to address this issue and improve the reliability of quantum computers. Additionally, there is a need for more efficient quantum algorithms that can fully leverage the power of quantum computing.'},\n",
       " {'title': 'Cloud Computing Trends in 2021',\n",
       "  'text': 'Cloud computing continues to be a key technology trend in 2021, with businesses increasingly adopting cloud services to improve scalability, flexibility, and cost-efficiency. The COVID-19 pandemic has accelerated the shift to cloud computing, as remote work and digital transformation initiatives have become a top priority for organizations. Major cloud providers like Amazon Web Services, Microsoft Azure, and Google Cloud are expanding their offerings to meet the growing demand for cloud services. Hybrid and multi-cloud strategies are also gaining popularity as businesses look to leverage the strengths of different cloud platforms.'},\n",
       " {'title': 'Security Challenges in Cloud Computing',\n",
       "  'text': 'As more businesses move their operations to the cloud, security has become a major concern in cloud computing. Data breaches, ransomware attacks, and other cyber threats pose a significant risk to organizations that store sensitive information in the cloud. Cloud providers are continuously improving their security measures to protect customer data, but businesses also need to implement robust security practices to safeguard their cloud environments. Encryption, access controls, and regular security audits are essential components of a comprehensive cloud security strategy.'}]"
      ]
     },
     "execution_count": 140,
     "metadata": {},
     "output_type": "execute_result"
    }
   ],
   "source": [
    "json.loads(output.content)"
   ]
  },
  {
   "cell_type": "markdown",
   "metadata": {},
   "source": [
    "With RetrievalQAWithSourcesChain"
   ]
  },
  {
   "cell_type": "code",
   "execution_count": 1,
   "metadata": {},
   "outputs": [
    {
     "ename": "NameError",
     "evalue": "name 'RetrievalQAWithSourcesChain' is not defined",
     "output_type": "error",
     "traceback": [
      "\u001b[1;31m---------------------------------------------------------------------------\u001b[0m",
      "\u001b[1;31mNameError\u001b[0m                                 Traceback (most recent call last)",
      "Cell \u001b[1;32mIn[1], line 1\u001b[0m\n\u001b[1;32m----> 1\u001b[0m chain \u001b[38;5;241m=\u001b[39m \u001b[43mRetrievalQAWithSourcesChain\u001b[49m\u001b[38;5;241m.\u001b[39mfrom_chain_type(\n\u001b[0;32m      2\u001b[0m     llm\u001b[38;5;241m=\u001b[39mOpenAI(temperature\u001b[38;5;241m=\u001b[39m\u001b[38;5;241m0\u001b[39m),\n\u001b[0;32m      3\u001b[0m     chain_type\u001b[38;5;241m=\u001b[39m\u001b[38;5;124m\"\u001b[39m\u001b[38;5;124mstuff\u001b[39m\u001b[38;5;124m\"\u001b[39m,\n\u001b[0;32m      4\u001b[0m     retriever\u001b[38;5;241m=\u001b[39mvectore_store_client\u001b[38;5;241m.\u001b[39mas_retriever(),\n\u001b[0;32m      5\u001b[0m     chain_type_kwargs\u001b[38;5;241m=\u001b[39m{\n\u001b[0;32m      6\u001b[0m         \u001b[38;5;124m\"\u001b[39m\u001b[38;5;124mprompt\u001b[39m\u001b[38;5;124m\"\u001b[39m: PromptTemplate(\n\u001b[0;32m      7\u001b[0m             template\u001b[38;5;241m=\u001b[39mtemplate,\n\u001b[0;32m      8\u001b[0m             input_variables\u001b[38;5;241m=\u001b[39m[\u001b[38;5;124m\"\u001b[39m\u001b[38;5;124muser_topics\u001b[39m\u001b[38;5;124m\"\u001b[39m],\n\u001b[0;32m      9\u001b[0m             partial_variables\u001b[38;5;241m=\u001b[39m{\u001b[38;5;124m\"\u001b[39m\u001b[38;5;124mformat_instructions\u001b[39m\u001b[38;5;124m\"\u001b[39m: format_instructions},\n\u001b[0;32m     10\u001b[0m             return_source_documents\u001b[38;5;241m=\u001b[39m\u001b[38;5;28;01mTrue\u001b[39;00m,\n\u001b[0;32m     11\u001b[0m         ),\n\u001b[0;32m     12\u001b[0m     },\n\u001b[0;32m     13\u001b[0m )\n",
      "\u001b[1;31mNameError\u001b[0m: name 'RetrievalQAWithSourcesChain' is not defined"
     ]
    }
   ],
   "source": [
    "chain = RetrievalQAWithSourcesChain.from_chain_type(\n",
    "    llm=OpenAI(temperature=0),\n",
    "    chain_type=\"stuff\",\n",
    "    retriever=vectore_store_client.as_retriever(),\n",
    "    chain_type_kwargs={\n",
    "        \"prompt\": PromptTemplate(\n",
    "            template=template,\n",
    "            input_variables=[\"user_topics\"],\n",
    "            partial_variables={\"format_instructions\": format_instructions},\n",
    "            return_source_documents=True,\n",
    "        ),\n",
    "    },\n",
    ")"
   ]
  },
  {
   "cell_type": "code",
   "execution_count": null,
   "metadata": {},
   "outputs": [],
   "source": []
  }
 ],
 "metadata": {
  "kernelspec": {
   "display_name": "langchain",
   "language": "python",
   "name": "python3"
  },
  "language_info": {
   "codemirror_mode": {
    "name": "ipython",
    "version": 3
   },
   "file_extension": ".py",
   "mimetype": "text/x-python",
   "name": "python",
   "nbconvert_exporter": "python",
   "pygments_lexer": "ipython3",
   "version": "3.11.8"
  }
 },
 "nbformat": 4,
 "nbformat_minor": 2
}
