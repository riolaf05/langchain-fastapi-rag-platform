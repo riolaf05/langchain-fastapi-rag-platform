{
 "cells": [
  {
   "cell_type": "code",
   "execution_count": 2,
   "metadata": {},
   "outputs": [],
   "source": [
    "from langchain import OpenAI, VectorDBQA, LLMChain\n",
    "from langchain.prompts import PromptTemplate\n",
    "import os\n",
    "from dotenv import load_dotenv\n",
    "from langchain.embeddings.openai import OpenAIEmbeddings\n",
    "from langchain.vectorstores import Chroma\n",
    "from langchain.text_splitter import RecursiveCharacterTextSplitter\n",
    "from langchain.document_loaders import TextLoader"
   ]
  },
  {
   "cell_type": "code",
   "execution_count": 3,
   "metadata": {},
   "outputs": [],
   "source": [
    "import sys\n",
    "sys.path.append(r\"C:\\Users\\ELAFACRB1\\Codice\\GitHub\\media-chat-service\\src\\embedding\")\n",
    "from utils import ChromaDBManager, LangChainAI, QDrantDBManager, EmbeddingFunction"
   ]
  },
  {
   "cell_type": "code",
   "execution_count": 4,
   "metadata": {},
   "outputs": [],
   "source": [
    "from langchain.chat_models import ChatOpenAI\n",
    "from langchain.chains import RetrievalQA"
   ]
  },
  {
   "cell_type": "code",
   "execution_count": 5,
   "metadata": {},
   "outputs": [
    {
     "name": "stderr",
     "output_type": "stream",
     "text": [
      "c:\\Users\\ELAFACRB1\\venvs\\langchain\\Lib\\site-packages\\langchain_core\\_api\\deprecation.py:117: LangChainDeprecationWarning: The class `langchain_community.chat_models.openai.ChatOpenAI` was deprecated in langchain-community 0.0.10 and will be removed in 0.2.0. An updated version of the class exists in the langchain-openai package and should be used instead. To use it run `pip install -U langchain-openai` and import as `from langchain_openai import ChatOpenAI`.\n",
      "  warn_deprecated(\n",
      "c:\\Users\\ELAFACRB1\\venvs\\langchain\\Lib\\site-packages\\langchain_core\\_api\\deprecation.py:117: LangChainDeprecationWarning: The class `langchain_community.embeddings.openai.OpenAIEmbeddings` was deprecated in langchain-community 0.1.0 and will be removed in 0.2.0. An updated version of the class exists in the langchain-openai package and should be used instead. To use it run `pip install -U langchain-openai` and import as `from langchain_openai import OpenAIEmbeddings`.\n",
      "  warn_deprecated(\n"
     ]
    },
    {
     "name": "stdout",
     "output_type": "stream",
     "text": [
      "Collection rio-rag-platform already exists!\n"
     ]
    }
   ],
   "source": [
    "llm = ChatOpenAI(temperature=0, model=\"gpt-3.5-turbo-0613\")\n",
    "embedding = EmbeddingFunction('openAI').embedder\n",
    "vectore_store=qdrantClient = QDrantDBManager(\n",
    "    url=\"http://ec2-18-209-145-26.compute-1.amazonaws.com:6333/dashboard\",\n",
    "    port=6333,\n",
    "    collection_name=\"rio-rag-platform\",\n",
    "    vector_size=1536,\n",
    "    embedding=embedding,\n",
    "    record_manager_url=r\"sqlite:///C:\\Users\\ELAFACRB1\\Codice\\GitHub\\media-chat-service\\src\\embedding\\record_manager_cache.sql\"\n",
    ")\n",
    "vectore_store_client=vectore_store.vector_store"
   ]
  },
  {
   "cell_type": "code",
   "execution_count": 6,
   "metadata": {},
   "outputs": [],
   "source": [
    "COLLECTION_NAME=\"rio-rag-platform\""
   ]
  },
  {
   "cell_type": "code",
   "execution_count": 7,
   "metadata": {},
   "outputs": [],
   "source": [
    "qa_chain = RetrievalQA.from_chain_type(\n",
    "    llm,\n",
    "    chain_type=\"stuff\",\n",
    "    retriever=vectore_store_client.as_retriever(),\n",
    "    return_source_documents=True,\n",
    ")"
   ]
  },
  {
   "cell_type": "code",
   "execution_count": 8,
   "metadata": {},
   "outputs": [],
   "source": [
    "query='what the role on product owner in Safe? '"
   ]
  },
  {
   "cell_type": "code",
   "execution_count": 9,
   "metadata": {},
   "outputs": [
    {
     "name": "stderr",
     "output_type": "stream",
     "text": [
      "c:\\Users\\ELAFACRB1\\venvs\\langchain\\Lib\\site-packages\\langchain_core\\_api\\deprecation.py:117: LangChainDeprecationWarning: The function `__call__` was deprecated in LangChain 0.1.0 and will be removed in 0.2.0. Use invoke instead.\n",
      "  warn_deprecated(\n"
     ]
    },
    {
     "data": {
      "text/plain": [
       "{'query': 'what the role on product owner in Safe? ',\n",
       " 'result': 'The role of the Product Owner in SAFe (Scaled Agile Framework) is responsible for connecting with the customer, contributing to the vision and roadmap, managing and prioritizing the team backlog, supporting the team in delivering value, and getting and applying fast feedback. The Product Owner works closely with the Agile Team to ensure that the product or solution being developed meets the needs of the customer and aligns with the overall vision and goals of the organization.',\n",
       " 'source_documents': [Document(page_content='efficiencies over timeFOR REFERENCE ONLY 2-13 Workbook 38 © Scaled Agile, Inc. For personal use only - Rosario Laface - Nov 16, 2023 (ID:0056T00000949fqQAA)  © Scaled Agile. Inc. © Scaled Agile, Inc.  2.2 The Scrum Master / Team Coach and  Product Owner roles 2-16 © Scaled Agile. Inc. Team Charter Agile Purpose Success Measures Team Members Team Type & ResponsibilitiesDefinition of Done Distinctive Competencies Key Interactions Working Agreements Key StakeholdersTeam EventsPart of the SAFe Team Formation Toolkit: ►The Agile Team Charter helps teams to  clearly define their purpose,  responsibilities, and success criteria,  amongst other critical elements ►The process of completing the Agile Team  Charter provides the opportunity for teams  to discuss and reflect on how they want to  work with each other and with other teams  on the ART ►For each of the ten boxes, there’s an  interactive exercise to generate discussion  and the required outputFacilitate an Agile Team Charter workshop SAFe® Team Formation Toolkit 2-15 Workbook 39 © Scaled Agile, Inc. For personal use only - Rosario Laface - Nov 16, 2023 (ID:0056T00000949fqQAA)  © Scaled Agile. Inc.The SM/TC responsibilities 2-18 Facilitating PI Planning Improving ART Performance Supporting Iteration Execution Building High -Performing Teams Improving FlowScrum Master/ Team Coach © Scaled Agile. Inc.Agile Teams have two speciality roles SM/TC •Facilitates PI Planning •Supports Iteration Execution •Improves Flow •Builds a high- performing team •Improves ART PerformancePO •Connects with the Customer •Contributes to the Vision and Roadmap •Manages and prioritizes the  Team Backlog •Supports the Team in Delivering Value •Gets and Applies Fast Feedback 2-17 Workbook 40 © Scaled Agile, Inc. For personal use only - Rosario Laface - Nov 16, 2023 (ID:0056T00000949fqQAA)  © Scaled Agile. Inc. ►Step 1: With your group, draw the following Venn diagram  ►Step 2: Review the provided responsibility cards ►Step 3: Place them either', metadata={'source': 'text', '_id': 'a357923a-ba2c-5e04-bd6d-37edfcafdb95', '_collection_name': 'rio-rag-platform'}),\n",
       "  Document(page_content='your Agile Team ►Explain the characteristics and responsibilities of an Agile Team ►Describe  the SAFe Scrum Master / Team Coach and SAFe  Product Owner roles ►Explain SAFe Scrum and SAFe Team Kanban ►Identify the roles within an Agile Release Train (ART) ►Identify one or more actions individuals or teams can take to develop  cross- functional skillsets within their Agile Team 2-3 Workbook 33 © Scaled Agile, Inc. For personal use only - Rosario Laface - Nov 16, 2023 (ID:0056T00000949fqQAA)  © Scaled Agile. Inc. ►A self -organizing team dynamically  interacts with itself and  the organization  ►Team members create new points  of view and resolve contradictions  through dialogue ►The team is energized with  intentions, Vision, interest,  and mission ►Leaders provide autonomy, variety,  trust, and commitmentThe power of a  high- performing team: The people, the work, and  the knowledge are all one 2-6 © Scaled Agile. Inc.In SAFe, an Agile Team is a cross -functional group of generally ten or fewer  individuals who define, build, test, and deliver value in short increments while  continuously learning and adjusting. ►Optimized for communication and delivery of value ►Deliver value every two weeks ►Contain t wo specialty roles: –Scrum Master / Team Coach (SM/TC) –Product Owner (PO) What are Agile Teams ? Team 1 Team NDefine Build Test Deploy 2-5 Workbook 34 © Scaled Agile, Inc. For personal use only - Rosario Laface - Nov 16, 2023 (ID:0056T00000949fqQAA)  © Scaled Agile. Inc.►Foster the psychological safety needed to take risks without fear of embarrassment  or punishment ►Have diverse knowledge and skills to make quick, effective decisions independently ►Trust each other, allowing for both healthy conflict and reliance on others ►Align on a shared Vision with clear goals and purpose ►Accountable to each other and the organization for reliably completing quality work ►Meet commitments ►Understand their work’s broader impact on the organization ►Enjoy their work and', metadata={'source': 'text', '_id': '1817c506-a6ae-530b-981b-409f819e3a03', '_collection_name': 'rio-rag-platform'}),\n",
       "  Document(page_content='in the circle for a role or in an  applicable intersection on the Venn diagram ►Step 4: Present your Venn diagram to the class Activity: Team roles and responsibilities 2 Share 8 Prepare min min Agile  Team PO SM/TC 2-20 © Scaled Agile. Inc.The PO responsibilities 2-19 Contributing to the  Vision and Roadmap  Connecting with the Customer    Supporting the Team in Delivering Value Getting and  Applying Feedback  Managing and Prioritizing  the Team Backlog   Product Owner Workbook 41 © Scaled Agile, Inc. For personal use only - Rosario Laface - Nov 16, 2023 (ID:0056T00000949fqQAA)  © Scaled Agile. Inc.SAFe Lean -Agile Principles #1 Take an economic view #2 Apply systems thinking #3 Assume variability; preserve options #4 Build incrementally with fast, integrated learning cycles #5 Base milestones on objective evaluation of working systems #6 Make value flow without interruptions #7 Apply cadence, synchronize with cross- domain planning #8 Unlock the intrinsic motivation of knowledge workers #9 Decentralize decision- making #10 Organize around value 2-22 © Scaled Agile. Inc. © Scaled Agile, Inc.  2.3 SAFe Scrum and  SAFe Team  Kanban 2-21 Workbook 42 © Scaled Agile, Inc. For personal use only - Rosario Laface - Nov 16, 2023 (ID:0056T00000949fqQAA)  © Scaled Agile. Inc.#6 Make value flow without interruptions Instead of a large group… working on all the  requirements…and integrating and delivering value  toward the end of development… have small teams  aligned together…working on small batches  of requirements…and delivering value in short  timeboxes with frequent  integration and  improvement cycles.DoCheck Adjust Plan 2-24 © Scaled Agile. Inc.►Improves learning efficiency by decreasing  the time between action and effect ►Reduces the cost of risk -taking by  truncating unsuccessful paths quickly ►Is facilitated by small batch sizes ►Requires increased investment in  development environment The shorter the cycles, the faster the learning .#4 Build incrementally with', metadata={'source': 'text', '_id': 'e61ba05f-eb5a-5ebf-860e-d34293ca7313', '_collection_name': 'rio-rag-platform'}),\n",
       "  Document(page_content='Workbook6.0.1 SAFe®   for Teams Establishing Team Agility   for Agile Release Trains For personal use only - Rosario Laface - Nov 16, 2023 (ID:0056T00000949fqQAA)  Welcome to the course! Make the Most of   Your Learning Access SAFe Studio  Manage your member profile, access videos and training resources,   join Communities of Practice, and more. Prepare Yourself   Access your learning plan featuring your digital workbook, study materials,   and certification practice test    Become a Certified SAFe Professional   Get certified to validate your knowledge, expand your professional capabilities,   and open the door to new career opportunities. Access SAFe Content and Tools   Access professional development resources and toolkits. Collaborate with Your Team   Choose from hundreds of collaboration templates to easily set up events   like PI Planning and work in real time with your team and others—all with   SAFe Collaborate.    Showcase SAFe Credentials   Display your digital badge to promote your SAFe capabilities and proficiencies  throughout your career. safe.scaledagile.com For personal use only - Rosario Laface - Nov 16, 2023 (ID:0056T00000949fqQAA)  For personal use only - Rosario Laface - Nov 16, 2023 (ID:0056T00000949fqQAA)  For personal use only - Rosario Laface - Nov 16, 2023 (ID:0056T00000949fqQAA)  For personal use only - Rosario Laface - Nov 16, 2023 (ID:0056T00000949fqQAA)  For personal use only - Rosario Laface - Nov 16, 2023 (ID:0056T00000949fqQAA)  Agile Product DeliveryEnterprise Solution Delivery Lean Portfolio Management Organizational Agility Team and Technical Agility Lean-Agile LeadershipContinuous Learning CultureCustomer Centricity Agile Teams Teams of Agile TeamsBuilt-in QualityCustomer Centricity & Design Thinking Relentless ImprovementLearning Organization Innovation Culture Mindset & Principles Leading by Example Leading Change N Strategy AgilityLean Business OperationsCoordinating Trains  and Suppliers Develop on Cadence Release on Demand', metadata={'source': 'text', '_id': 'b6a7d35e-c74b-5807-bcca-d308df8e7ba6', '_collection_name': 'rio-rag-platform'})]}"
      ]
     },
     "execution_count": 9,
     "metadata": {},
     "output_type": "execute_result"
    }
   ],
   "source": [
    "qa_chain(query)"
   ]
  },
  {
   "cell_type": "markdown",
   "metadata": {},
   "source": [
    "Parent document"
   ]
  },
  {
   "cell_type": "code",
   "execution_count": 10,
   "metadata": {},
   "outputs": [],
   "source": [
    "from langchain.retrievers import ParentDocumentRetriever\n",
    "from langchain.storage import InMemoryStore\n",
    "from langchain.text_splitter import RecursiveCharacterTextSplitter\n",
    "from langchain_community.document_loaders import TextLoader\n",
    "from langchain_community.vectorstores import Chroma\n",
    "from langchain_openai import OpenAIEmbeddings"
   ]
  },
  {
   "cell_type": "code",
   "execution_count": 15,
   "metadata": {},
   "outputs": [],
   "source": [
    "from langchain_community.vectorstores import Qdrant"
   ]
  },
  {
   "cell_type": "code",
   "execution_count": 16,
   "metadata": {},
   "outputs": [
    {
     "data": {
      "text/plain": [
       "langchain_community.vectorstores.qdrant.Qdrant"
      ]
     },
     "execution_count": 16,
     "metadata": {},
     "output_type": "execute_result"
    }
   ],
   "source": [
    "Qdrant"
   ]
  },
  {
   "cell_type": "code",
   "execution_count": 11,
   "metadata": {},
   "outputs": [],
   "source": [
    "child_splitter = RecursiveCharacterTextSplitter(chunk_size=400)"
   ]
  },
  {
   "cell_type": "code",
   "execution_count": 12,
   "metadata": {},
   "outputs": [],
   "source": [
    "store = InMemoryStore()"
   ]
  },
  {
   "cell_type": "code",
   "execution_count": 18,
   "metadata": {},
   "outputs": [],
   "source": [
    "retriever = ParentDocumentRetriever(\n",
    "    vectorstore=vectore_store.vector_store,\n",
    "    docstore=store,\n",
    "    child_splitter=child_splitter,\n",
    ")"
   ]
  },
  {
   "cell_type": "code",
   "execution_count": 20,
   "metadata": {},
   "outputs": [],
   "source": [
    "from langchain.document_loaders import RSSFeedLoader\n",
    "from langchain.text_splitter import RecursiveCharacterTextSplitter\n",
    "urls = [\"https://medium.com/feed/tag/quantum-computing\"]\n",
    "loader = RSSFeedLoader(urls=urls)\n",
    "data = loader.load()"
   ]
  },
  {
   "cell_type": "code",
   "execution_count": 21,
   "metadata": {},
   "outputs": [],
   "source": [
    "retriever.add_documents(data, ids=None)"
   ]
  },
  {
   "cell_type": "code",
   "execution_count": 24,
   "metadata": {},
   "outputs": [
    {
     "data": {
      "text/plain": [
       "ParentDocumentRetriever(vectorstore=<langchain_community.vectorstores.qdrant.Qdrant object at 0x000001AD239F8C90>, docstore=<langchain.storage.in_memory.InMemoryBaseStore object at 0x000001AD247C1E50>, child_splitter=<langchain.text_splitter.RecursiveCharacterTextSplitter object at 0x000001AD251CFF50>)"
      ]
     },
     "execution_count": 24,
     "metadata": {},
     "output_type": "execute_result"
    }
   ],
   "source": [
    "retriever"
   ]
  },
  {
   "cell_type": "code",
   "execution_count": 22,
   "metadata": {},
   "outputs": [],
   "source": [
    "qa_chain = RetrievalQA.from_chain_type(\n",
    "    llm,\n",
    "    chain_type=\"stuff\",\n",
    "    retriever=vectore_store_client.as_retriever(),\n",
    "    return_source_documents=True,\n",
    ")"
   ]
  },
  {
   "cell_type": "code",
   "execution_count": 23,
   "metadata": {},
   "outputs": [
    {
     "data": {
      "text/plain": [
       "{'query': 'whats the most recent computer for quantum computing?',\n",
       " 'result': \"The most recent computer for quantum computing is the Sycamore processor developed by Google. It made headlines in 2019 when Google claimed to have achieved quantum supremacy with this processor. However, it's important to note that the field of quantum computing is rapidly evolving, and new advancements are being made by various companies and research institutions.\",\n",
       " 'source_documents': [Document(page_content='The Future of Quantum Computing', metadata={'authors': [], 'description': 'Are you tired of waiting ages for data processing to complete? Frustrated by the limitations of conventional computing power? If so, you’re not alone. In a world where data is king, speed and…', 'doc_id': '7ed35252-4320-4062-a7e2-aada649aa0b1', 'feed': 'https://medium.com/feed/tag/quantum-computing', 'language': 'en', 'link': 'https://medium.com/@krupalu.datta/quantum-supremacy-redefining-speed-and-efficiency-in-data-processing-4d52704f62f8?source=rss------quantum_computing-5', 'publish_date': '2024-02-27T07:57:05.479000Z', 'title': 'Quantum Supremacy: Redefining Speed and Efficiency in Data Processing', '_id': '65744e57-b490-44ca-a54b-f5dee542e60b', '_collection_name': 'rio-rag-platform'}),\n",
       "  Document(page_content='Quantum Computing and Processing Power', metadata={'authors': ['Exohood Labs'], 'description': 'In an era where the boundaries of technology continually expand, the integration of artificial intelligence, quantum computing and blockchain presents a groundbreaking approach to one of humanity’s…', 'doc_id': '7c9fa6d7-6c2d-4b85-851a-7dcad96ca194', 'feed': 'https://medium.com/feed/tag/quantum-computing', 'language': 'en', 'link': 'https://exohood.medium.com/bridging-minds-the-fusion-of-ai-quantum-technology-and-blockchain-ce7d92764c73?source=rss------quantum_computing-5', 'publish_date': '2024-02-27T13:55:19.213000Z', 'title': 'Bridging minds the fusion of AI, Quantum technology and Blockchain', '_id': 'c761c6e3-baf9-449c-904f-822adcc90c7f', '_collection_name': 'rio-rag-platform'}),\n",
       "  Document(page_content='The pursuit of quantum supremacy has spurred intense competition among leading tech companies and research institutions worldwide. Google made headlines in 2019 with its claim of achieving quantum supremacy through its Sycamore processor, which performed a specific task in a fraction of the time it would take the most powerful classical supercomputer. Other players in the field, including IBM,', metadata={'authors': [], 'description': 'Are you tired of waiting ages for data processing to complete? Frustrated by the limitations of conventional computing power? If so, you’re not alone. In a world where data is king, speed and…', 'doc_id': '7ed35252-4320-4062-a7e2-aada649aa0b1', 'feed': 'https://medium.com/feed/tag/quantum-computing', 'language': 'en', 'link': 'https://medium.com/@krupalu.datta/quantum-supremacy-redefining-speed-and-efficiency-in-data-processing-4d52704f62f8?source=rss------quantum_computing-5', 'publish_date': '2024-02-27T07:57:05.479000Z', 'title': 'Quantum Supremacy: Redefining Speed and Efficiency in Data Processing', '_id': '2cc227de-0bb4-4e2b-bf67-9d2da3e1189f', '_collection_name': 'rio-rag-platform'}),\n",
       "  Document(page_content='supremacy through its Sycamore processor, which performed a specific task in a fraction of the time it would take the most powerful classical supercomputer. Other players in the field, including IBM, Intel, and startups like Rigetti Computing and D-Wave Systems, are also making significant strides in their quest to demonstrate quantum supremacy, each employing distinct approaches and', metadata={'authors': [], 'description': 'Are you tired of waiting ages for data processing to complete? Frustrated by the limitations of conventional computing power? If so, you’re not alone. In a world where data is king, speed and…', 'doc_id': '7ed35252-4320-4062-a7e2-aada649aa0b1', 'feed': 'https://medium.com/feed/tag/quantum-computing', 'language': 'en', 'link': 'https://medium.com/@krupalu.datta/quantum-supremacy-redefining-speed-and-efficiency-in-data-processing-4d52704f62f8?source=rss------quantum_computing-5', 'publish_date': '2024-02-27T07:57:05.479000Z', 'title': 'Quantum Supremacy: Redefining Speed and Efficiency in Data Processing', '_id': '0bfc616b-7b21-4cf6-bcf8-87fb179f7096', '_collection_name': 'rio-rag-platform'})]}"
      ]
     },
     "execution_count": 23,
     "metadata": {},
     "output_type": "execute_result"
    }
   ],
   "source": [
    "qa_chain('whats the most recent computer for quantum computing?')"
   ]
  },
  {
   "cell_type": "markdown",
   "metadata": {},
   "source": [
    "**Multi-Query Retriever**\n",
    "\n",
    "If users are asking questions that are complex and require multiple pieces of distinct information to respond"
   ]
  },
  {
   "cell_type": "code",
   "execution_count": 26,
   "metadata": {},
   "outputs": [],
   "source": [
    "query='what could be an use of quantum computing in SAFe methodology?'"
   ]
  },
  {
   "cell_type": "code",
   "execution_count": 32,
   "metadata": {},
   "outputs": [],
   "source": [
    "from langchain.retrievers.multi_query import MultiQueryRetriever\n",
    "from langchain_openai import ChatOpenAI\n",
    "import logging"
   ]
  },
  {
   "cell_type": "code",
   "execution_count": 28,
   "metadata": {},
   "outputs": [],
   "source": [
    "llm = ChatOpenAI(temperature=0)"
   ]
  },
  {
   "cell_type": "code",
   "execution_count": 33,
   "metadata": {},
   "outputs": [],
   "source": [
    "logging.basicConfig()\n",
    "logging.getLogger(\"langchain.retrievers.multi_query\").setLevel(logging.INFO)"
   ]
  },
  {
   "cell_type": "code",
   "execution_count": 29,
   "metadata": {},
   "outputs": [],
   "source": [
    "retriever_from_llm = MultiQueryRetriever.from_llm(\n",
    "    retriever=vectore_store_client.as_retriever(), \n",
    "    llm=llm\n",
    ")"
   ]
  },
  {
   "cell_type": "code",
   "execution_count": 35,
   "metadata": {},
   "outputs": [
    {
     "name": "stderr",
     "output_type": "stream",
     "text": [
      "INFO:langchain.retrievers.multi_query:Generated queries: ['1. How can quantum computing be applied within the context of SAFe methodology?', '2. In what ways could quantum computing enhance the implementation of SAFe methodology?', '3. What potential benefits does quantum computing offer for integrating with SAFe methodology practices?']\n"
     ]
    }
   ],
   "source": [
    "unique_docs = retriever_from_llm.get_relevant_documents(query=query)"
   ]
  },
  {
   "cell_type": "code",
   "execution_count": 38,
   "metadata": {},
   "outputs": [],
   "source": [
    "qa_chain = RetrievalQA.from_chain_type(\n",
    "    llm,\n",
    "    chain_type=\"stuff\",\n",
    "    retriever=retriever_from_llm,\n",
    "    return_source_documents=True,\n",
    ")"
   ]
  },
  {
   "cell_type": "code",
   "execution_count": 39,
   "metadata": {},
   "outputs": [
    {
     "name": "stderr",
     "output_type": "stream",
     "text": [
      "INFO:langchain.retrievers.multi_query:Generated queries: ['1. How can quantum computing be applied within the context of SAFe methodology?', '2. In what ways could quantum computing enhance the implementation of SAFe methodology?', '3. What potential benefits can quantum computing bring to the utilization of SAFe methodology?']\n"
     ]
    },
    {
     "data": {
      "text/plain": [
       "{'query': 'what could be an use of quantum computing in SAFe methodology?',\n",
       " 'result': 'Quantum computing could potentially be used in SAFe methodology to enhance the development of solutions by improving computational power and efficiency. Quantum algorithms could help in optimizing processes, such as accelerating the development of new pharmaceuticals or solving complex optimization problems in logistics, finance, and manufacturing. This could lead to more efficient and effective implementation of SAFe practices, ultimately improving the quality and speed of solution delivery within the framework.',\n",
       " 'source_documents': [Document(page_content='The Future of Quantum Computing', metadata={'authors': [], 'description': 'Are you tired of waiting ages for data processing to complete? Frustrated by the limitations of conventional computing power? If so, you’re not alone. In a world where data is king, speed and…', 'doc_id': '7ed35252-4320-4062-a7e2-aada649aa0b1', 'feed': 'https://medium.com/feed/tag/quantum-computing', 'language': 'en', 'link': 'https://medium.com/@krupalu.datta/quantum-supremacy-redefining-speed-and-efficiency-in-data-processing-4d52704f62f8?source=rss------quantum_computing-5', 'publish_date': '2024-02-27T07:57:05.479000Z', 'title': 'Quantum Supremacy: Redefining Speed and Efficiency in Data Processing', '_id': '65744e57-b490-44ca-a54b-f5dee542e60b', '_collection_name': 'rio-rag-platform'}),\n",
       "  Document(page_content='Quantum Computing and Processing Power', metadata={'authors': ['Exohood Labs'], 'description': 'In an era where the boundaries of technology continually expand, the integration of artificial intelligence, quantum computing and blockchain presents a groundbreaking approach to one of humanity’s…', 'doc_id': '7c9fa6d7-6c2d-4b85-851a-7dcad96ca194', 'feed': 'https://medium.com/feed/tag/quantum-computing', 'language': 'en', 'link': 'https://exohood.medium.com/bridging-minds-the-fusion-of-ai-quantum-technology-and-blockchain-ce7d92764c73?source=rss------quantum_computing-5', 'publish_date': '2024-02-27T13:55:19.213000Z', 'title': 'Bridging minds the fusion of AI, Quantum technology and Blockchain', '_id': 'c761c6e3-baf9-449c-904f-822adcc90c7f', '_collection_name': 'rio-rag-platform'}),\n",
       "  Document(page_content='How Quantum Computers Work', metadata={'authors': [], 'description': 'Are you tired of waiting ages for data processing to complete? Frustrated by the limitations of conventional computing power? If so, you’re not alone. In a world where data is king, speed and…', 'doc_id': '7ed35252-4320-4062-a7e2-aada649aa0b1', 'feed': 'https://medium.com/feed/tag/quantum-computing', 'language': 'en', 'link': 'https://medium.com/@krupalu.datta/quantum-supremacy-redefining-speed-and-efficiency-in-data-processing-4d52704f62f8?source=rss------quantum_computing-5', 'publish_date': '2024-02-27T07:57:05.479000Z', 'title': 'Quantum Supremacy: Redefining Speed and Efficiency in Data Processing', '_id': 'e58c8527-2bc2-453d-a73e-96ae0ce367c5', '_collection_name': 'rio-rag-platform'}),\n",
       "  Document(page_content='►Summarized different practices to build quality into Solutions ►Created action items as a team to take into the upcoming PI around  improving your CDP and Built -in Quality 5-37 Workbook 129 © Scaled Agile, Inc. For personal use only - Rosario Laface - Nov 16, 2023 (ID:0056T00000949fqQAA)  © Scaled Agile. Inc.References Cohn, Mike. Succeeding with Agile: Software Development Using Scrum. Boston: Pearson Education Inc.,  2013. 312 Oosterwal, Dantar P. The Lean Machine: How Harley -Davidson Drove Top -Line Growth and Profitability with  Revolutionary Lean Product Development . New York: AMACOM, 2010. 143. 5-40 © Scaled Agile. Inc. © Scaled Agile, Inc.  Continue your SAFe journey with the following resources:Use the SAFe Collaborate template “Determine the  Team’s Definition of Done ” with your team to agree  upon Guardrails, rules, and processes that ensure  Built-in Quality for your Solutions. https://bit.ly/Template-DetermineDoDWatch this sixty-minute video, Community Webinar:  DevSecOps in Real Life, to delve into the most  important practices that fuel the CDP and how they  are implemented in real life. https://bit.ly/Community -DevSecOpsWebinar Download “The Facilitator’s Guide to SAFe: Team  Sync” for support facilitating your Team Sync events  and ideas for overcoming potential issues you  might encounter. https://bit.ly/Community -FGDailyStand-UpDownload \"The Facilitator\\'s Guide to SAFe: PO  Sync\" to ensure your PO Sync events stay on track,  achieve their goals, and stay fresh to ensure strong,  consistent participation. https://bit.ly/Community -FGPOSync Download \"The Facilitator\\'s Guide to SAFe: Coach  Sync\" for guidance on preparation and execution of  the Coach Sync, along with tips to keep the format  engaging for attendees. https://bit.ly/Community -FGSoSDownload \"The Facilitator\\'s Guide to SAFe: ART  Sync\" for an overview of the purpose, preparation,  and execution details to ensure this meeting is  valuable for the attendees and the organization.', metadata={'source': 'text', '_id': 'af8b127f-745e-5ed5-9a5e-f4bcbb024012', '_collection_name': 'rio-rag-platform'}),\n",
       "  Document(page_content='interactions, accelerating the development of new pharmaceuticals. Optimization problems in logistics, finance, and manufacturing could also benefit from quantum algorithms capable of rapidly finding optimal solutions.', metadata={'authors': [], 'description': 'Are you tired of waiting ages for data processing to complete? Frustrated by the limitations of conventional computing power? If so, you’re not alone. In a world where data is king, speed and…', 'doc_id': '7ed35252-4320-4062-a7e2-aada649aa0b1', 'feed': 'https://medium.com/feed/tag/quantum-computing', 'language': 'en', 'link': 'https://medium.com/@krupalu.datta/quantum-supremacy-redefining-speed-and-efficiency-in-data-processing-4d52704f62f8?source=rss------quantum_computing-5', 'publish_date': '2024-02-27T07:57:05.479000Z', 'title': 'Quantum Supremacy: Redefining Speed and Efficiency in Data Processing', '_id': 'bb450001-995b-4cae-809a-73ad86fc8179', '_collection_name': 'rio-rag-platform'}),\n",
       "  Document(page_content='The widespread adoption of quantum computing technology carries far-reaching implications for industries, governments, and society as a whole. While quantum supremacy promises unprecedented computational power, it also raises concerns about data security and privacy, as quantum computers could potentially crack widely-used encryption schemes. Ethical considerations surrounding the equitable', metadata={'authors': [], 'description': 'Are you tired of waiting ages for data processing to complete? Frustrated by the limitations of conventional computing power? If so, you’re not alone. In a world where data is king, speed and…', 'doc_id': '7ed35252-4320-4062-a7e2-aada649aa0b1', 'feed': 'https://medium.com/feed/tag/quantum-computing', 'language': 'en', 'link': 'https://medium.com/@krupalu.datta/quantum-supremacy-redefining-speed-and-efficiency-in-data-processing-4d52704f62f8?source=rss------quantum_computing-5', 'publish_date': '2024-02-27T07:57:05.479000Z', 'title': 'Quantum Supremacy: Redefining Speed and Efficiency in Data Processing', '_id': '4912a1dd-fb45-4e89-8d95-727c30a7d3fc', '_collection_name': 'rio-rag-platform'})]}"
      ]
     },
     "execution_count": 39,
     "metadata": {},
     "output_type": "execute_result"
    }
   ],
   "source": [
    "qa_chain(query)"
   ]
  },
  {
   "cell_type": "code",
   "execution_count": 40,
   "metadata": {},
   "outputs": [
    {
     "name": "stderr",
     "output_type": "stream",
     "text": [
      "INFO:langchain.retrievers.multi_query:Generated queries: ['1. Can you explain the concept of PI?', '2. What is the definition of PI?', '3. Could you provide information about PI?']\n"
     ]
    },
    {
     "data": {
      "text/plain": [
       "{'query': 'whats a PI?',\n",
       " 'result': 'PI stands for Planning Interval. It is a cadence-based event that serves as the heartbeat of the ART (Agile Release Train), aligning all teams on the ART to a shared mission and vision. PI Planning helps in establishing personal communication across all team members and stakeholders, aligning development of business goals with the business context, identifying dependencies, fostering cross-team and cross-ART collaboration, providing architecture and Lean UX guidance, matching demand to capacity, and enabling faster decision-making.',\n",
       " 'source_documents': [Document(page_content='dependencies 4-24Planning Interval (PI) Planning is a cadence-based event that serves as the  heartbeat of the ART, aligning all teams on the ART to a shared mission  and Vision.What is PI Planning? © Scaled Agile. Inc. Duration Video: The Power of PI Planning 3 https://bit.ly/Video - PowerofPIPlanning min 4-23 Workbook 85 © Scaled Agile, Inc. For personal use only - Rosario Laface - Nov 16, 2023 (ID:0056T00000949fqQAA)  © Scaled Agile. Inc. Top 10  FeaturesVisionTeam A PI  Objectives Team B PI  Objectives Team C PI  ObjectivesTeam J PI  ObjectivesART  PI Objectives ... ART  Backlog PI Planning Input Team and ART PI Objectives  and ART Planning BoardOutput Vision and Top 10 Features  Iteration 1.1 Iteration 1.2 Iteration 1.3 Iteration 1.4 Iteration 1.5  (IP) PI 2 >>> Unicorns Dolphins Bears Eagles Iguanas Antelope Tarantulas Needs UX Help Needs Sys  Arch Help The PI Planning process 4 - 26 © Scaled Agile. Inc.►Establishes personal communication across all team  members and stakeholders  ►Aligns development of business goals with the  business context, Vision, and Team/ART PI Objectives  ►Identifies dependencies and fosters cross -team and  cross- ART collaboration  ►Provides the opportunity for the right amount of  architecture and Lean UX guidance  ►Matches demand to capacity, eliminating excess work  in process (WIP)  ►Allows for faster decision- makingThe benefits of PI Planning 4-25Cross -team collaboration Workbook 86 © Scaled Agile, Inc. For personal use only - Rosario Laface - Nov 16, 2023 (ID:0056T00000949fqQAA)  © Scaled Agile. Inc. ►They are planned, not  extra things teams do \" just in  case you have time\" ►They are not included in the commitment, thereby  making the commitment more reliable ►If a team has low confidence in meeting a PI  Objective, it should be moved to uncommitted ►If an objective has many unknowns, consider moving it  to uncommitted and putting  in early spikes * ►Uncommitted objectives count when calculating load *Spikes are research', metadata={'source': 'text', '_id': '0dba9f74-cbf9-5fe5-b063-8f2d5edbb4ed', '_collection_name': 'rio-rag-platform'}),\n",
       "  Document(page_content='Stories, considered exploration -style Enablers.Maintain predictability with uncommitted objectives Uncommitted objectives help improve the predictability of delivering business value. Objectives for PI 1 Uncommitted Objectives 7. Spike: Reduce GPS signal  loss by 25% 8. Demonstrate real -time  rerouting to avoid delays  (e.g., accident, construction) 4-28 © Scaled Agile. Inc.►Objectives are business summaries of  what each team intends to deliver in  the upcoming PI ►They often directly relate to intended  Features in the backlog ►Other examples: ̶Aggregation of a set of Features ̶A Milestone like a trade show ̶An Enabler Feature supporting  the implementation ̶A major refactoringCreate alignment with PI Objectives Objectives for PI 1 BVAV 1. Show routing calculations between the  5 most frequent destinations 2. Navigate autonomously from distribution  center to the most frequent destination 3. Parallel park for a delivery 4. Return to the distribution center after  delivery 5. Include traffic data in route planning 6. Recall a delivery that is already in  progress 7. Spike: Reduce GPS signal loss by 25% 8. Demonstrate real -time rerouting to avoid  delays (e.g., accident, construction)Uncommitted Objectives 4-27 Workbook 87 © Scaled Agile, Inc. For personal use only - Rosario Laface - Nov 16, 2023 (ID:0056T00000949fqQAA)  © Scaled Agile. Inc. ►Step 1:  Identify ART roles for  the simulation ►Step 2:  Ensure that you have  all key roles required for the PI  Planning simulation Activity: Identify ART roles 3 Duration min Simulation role Assigned to Executive Volunteer Product Manager Volunteer System Architect, UX,  Development ManagerVolunteer RTE Trainer 4-30 © Scaled Agile. Inc.Actively participating in a simulated PI Planning event will enable you to:Outcomes of the PI Planning simulation Communication Experience the  business benefits of  establishing  communication  across all team  members and  stakeholdersEstimate Capacity Experience  estimating capacity', metadata={'source': 'text', '_id': '3636b557-f932-5b8b-8aea-39ab738effe7', '_collection_name': 'rio-rag-platform'}),\n",
       "  Document(page_content='–Did we meet the goal? –Story -by-Story reviewTwo views from the Iteration Review based on a working system ►How are we doing in the PI? –Review of PI Objectives –Review of remaining PI scope  and reprioritizing if necessary 6-15 Workbook 139 © Scaled Agile, Inc. For personal use only - Rosario Laface - Nov 16, 2023 (ID:0056T00000949fqQAA)  © Scaled Agile. Inc.What can you learn from a CFD? 02468101214 Day 1 Day 2 Day 3 Day4 Day 5 Day 6 Day 7 Day 8 Day 9 Day 10Stories Done Test Develop Design To Do To Do        Design        Develop        Test       Done 6-18 Flow time WIP Done curve © Scaled Agile. Inc.Understand cumulative flow diagrams (CFDs) 02468101214 Day 1 Day 2 Day 3 Day4 Day 5 Day 6 Day 7 Day 8 Day 9 Day 10Stories Done Test Develop Design To Do To Do        Design        Develop        Test        Done 6-17 Workbook 140 © Scaled Agile, Inc. For personal use only - Rosario Laface - Nov 16, 2023 (ID:0056T00000949fqQAA)  © Scaled Agile. Inc.#1 Take an economic view #2 Apply systems thinking #3 Assume variability; preserve options #4 Build incrementally with fast, integrated learning cycles #5 Base milestones on objective evaluation of working systems #6 Make value flow without interruptions #7 Apply cadence, synchronize with cross- domain planning #8 Unlock the intrinsic motivation of knowledge workers #9 Decentralize decision- making #10 Organize around valueSAFe Lean -Agile Principles 6-20 © Scaled Agile. Inc. © Scaled Agile, Inc.  6.3 System Demo 6-19 Workbook 141 © Scaled Agile, Inc. For personal use only - Rosario Laface - Nov 16, 2023 (ID:0056T00000949fqQAA)  © Scaled Agile. Inc.System Demo tests and evaluates the full solution in a production -like context,  often through staging, to receive feedback from stakeholders. Sample Agenda: –Review the business context and the PI Objectives  (around 5 – 10 minutes) –Briefly describe each new Feature before demoing (around 5 minutes) –Demo each new Feature in an end-to -end use case (around 20 – 30  minutes', metadata={'source': 'text', '_id': '6f209b18-6f2e-50e3-b672-a9f9754e0e6c', '_collection_name': 'rio-rag-platform'}),\n",
       "  Document(page_content='(ID:0056T00000949fqQAA)  © Scaled Agile. Inc. You will be planning a short PI with two Iterations with your team. ►Step 1: Calculate and enter the capacity for each Iteration  (two-week Iteration) ̶The first Iteration starts Monday ̶Use your real availability ►Step 2: Estimate the Stories using Story points ►Step 3: Load the Stories into the Iterations ►Step 4: Write the PI Objectives using clear statements ►Step 5: Identify the uncommitted objectives ►Step 6: Identify any ART PI Risks and dependencies Activity: Team breakout #1  50 Duration min 4-40 © Scaled Agile. Inc. Calculating Iteration capacity : ►For every full -time Agile Team member  contributing to Solution development, give  the team 8 points ; adjust for those who  are part- time. ►Subtract 1 point for every team member’s   vacation day and holiday . ►Find a small Story that would take about  a half -day to develop and a half- day to test  and validate. Call it a 1- point Story . ►Estimate every other Story relative to that 1 . Simulation: Calculate your capacity 4 - 39Example: A seven- person team composed of  three developers, two testers, one  PO, and one SM/TC Exclude the PO, SM/TC, and time off  from the calculation Calculated capacity:  5 x 8 points = 40 points per Iteration 4-39 Workbook 93 © Scaled Agile, Inc. For personal use only - Rosario Laface - Nov 16, 2023 (ID:0056T00000949fqQAA)  © Scaled Agile. Inc. Activity: Coach Sync 4 - 42Coach Sync Questions Team 1 Have you identified the capacity for each Iteration of the PI? Have you identified most of the Stories for the first two Iterations and begun estimating? Have you begun resolving dependencies with other teams? Are you discussing tradeoffs and conflicting priorities with your Business Owners? Have you identified any ART PI Risks? Will you be ready to start writing PI Objectives in the next 15 minutes? Is there anything you need to discuss with other SM/TCs? If so, stay for the meet -after. © Scaled Agile. Inc. ►Step 1: The teams observe', metadata={'source': 'text', '_id': 'a386eec8-3226-58c9-9a3b-d7ccdd67c36c', '_collection_name': 'rio-rag-platform'}),\n",
       "  Document(page_content='vision Architecture vision  and development  practices Planning  requirements  and lunch Team breakouts Draft plan review Management  review and  problem -solvingPlanning  adjustments Team breakouts Final plan review  and lunch PI confidence vote Plan rework if  necessary Planning  retrospective and  moving forwardOptional time  for distributed  planningSunday Monday Tuesday Wednesday Thursday Friday Saturday Buffer for leftover work Final verification and validation, and documentation (if releasing) Innovation PI planning readiness PI planning  Day 1PI planning  Day 2Solution  Train Pre -PI  planning Innovation  continues PI planning  readinessInspect and  adapt  workshopContinuing  educationOptional  time for  distributed  planning Solution  Train  Post-PI  planning Inspect  & AdaptPI Planning… prepare for PI Planning … … innovations and hackathon … PI  Planning  readinessOptional  time for  distributed  planning… buffer for overflow work … … skills development and learning … Day 1 Day 2Sunday Monday Tuesday Wednesday Thursday Friday Saturday © Scaled Agile. Inc.►Innovation: Opportunity for  innovation, hackathons, and  infrastructure improvements ►Planning: Provides for cadence - based planning  ►The IP Iteration also provides an  estimating guard band for  cadence-based delivery.PI Planning occurs on cadence within the IP Iteration which f acilitates  reliability, PI readiness, planning, and innovation. Innovation and Planning (IP) Iteration “Provide sufficient capacity  margin to enable cadence.” —Donald G. Reinertsen, The Principles of  Product Development Flow 4-21 Workbook 84 © Scaled Agile, Inc. For personal use only - Rosario Laface - Nov 16, 2023 (ID:0056T00000949fqQAA)  © Scaled Agile. Inc.►Two days every 8 – 12 weeks (10 weeks is typical) ►Everyone plans together ►Product Management owns Feature priorities ►Development teams own Story planning and high- level estimates ►Architect and UX work as intermediaries for governance, interfaces,  and', metadata={'source': 'text', '_id': '1f39071d-5493-5aee-928b-c2a40aa9456a', '_collection_name': 'rio-rag-platform'}),\n",
       "  Document(page_content='►Step 1: As a team, discuss and answer the following prompts: –Identify the top three actions you will bring to the  upcoming PI –Identify how you will emphasize relentless improvement in  the team and the ART in the next PI –Determine what Metrics and methods you will start with –Discuss how you will visualize team improvements –Decide how you would prefer to get feedback from other  teams on opportunities to improve together ►Step 2:  Create a two -minute recap of your discussion and  your decisions Action Plan: How will we improve together? 10 Share 15 Prepare min min 7-41 © Scaled Agile. Inc.Four critical success factors 1. Use measurement in conjunction  with other discovery tools2. Apply Metrics where they  support improved decision making 3. Understand the effect of  Metrics on behavior4. Interpret Metrics carefully 7-40 Workbook 170 © Scaled Agile, Inc. For personal use only - Rosario Laface - Nov 16, 2023 (ID:0056T00000949fqQAA)  How will we   improve together?  Workbook 171 © Scaled Agile, Inc. Action Plan For personal use only - Rosario Laface - Nov 16, 2023 (ID:0056T00000949fqQAA)  © Scaled Agile. Inc.►“Measure and Grow” https://www.scaledagileframework.com /measure -and-grow/ ►“Make Value Flow Without Interruptions”  https://www.scaledagileframework.com /make -value-flow-without -interruptions/ ►“Inspect & Adapt”  https://www.scaledagileframework.com /inspect-and-adapt/ ►“Iteration Retrospective”  https://www.scaledagileframework.com /iteration -retrospective/ Read these Framework articles to learn more about topics covered in this lessonArticles used in this lesson 7-43 © Scaled Agile. Inc.In this lesson you:Lesson review ►Summarized the steps of a retrospective ►Identified the steps of I&A ►Explained the eight flow fundamentals ►Summarized how to apply flow Metrics to assess the organization’s ability to  make value flow without interruption ►Described the purpose of a balanced Metric approach ►Identified the top three actions your team can take into', metadata={'source': 'text', '_id': 'bf3c7c8d-e247-5628-9bde-a5c0470793f7', '_collection_name': 'rio-rag-platform'})]}"
      ]
     },
     "execution_count": 40,
     "metadata": {},
     "output_type": "execute_result"
    }
   ],
   "source": [
    "qa_chain('whats a PI?')"
   ]
  },
  {
   "cell_type": "markdown",
   "metadata": {},
   "source": [
    "**Output parser**"
   ]
  },
  {
   "cell_type": "code",
   "execution_count": 58,
   "metadata": {},
   "outputs": [],
   "source": [
    "from langchain.output_parsers import PydanticOutputParser\n",
    "from langchain_core.output_parsers import JsonOutputParser\n",
    "\n",
    "from langchain.prompts import PromptTemplate\n",
    "from langchain_core.pydantic_v1 import BaseModel, Field, validator\n",
    "from langchain_openai import OpenAI"
   ]
  },
  {
   "cell_type": "code",
   "execution_count": 42,
   "metadata": {},
   "outputs": [],
   "source": [
    "model = OpenAI(model_name=\"gpt-3.5-turbo-instruct\", temperature=0.0)"
   ]
  },
  {
   "cell_type": "code",
   "execution_count": 59,
   "metadata": {},
   "outputs": [],
   "source": [
    "from typing import List\n",
    "class News(BaseModel):\n",
    "    topic: str = Field(description=\"The topic of the news\")\n",
    "    title: List[str] = Field(description=\"list of the titles of the news\")\n",
    "    description: List[str] = Field(description=\"list of long text of the news\")\n",
    "\n",
    "    # You can add custom validation logic easily with Pydantic.\n",
    "    # @validator(\"setup\")\n",
    "    # def question_ends_with_question_mark(cls, field):\n",
    "    #     if field[-1] != \"?\":\n",
    "    #         raise ValueError(\"Badly formed question!\")\n",
    "    #     return field"
   ]
  },
  {
   "cell_type": "code",
   "execution_count": 60,
   "metadata": {},
   "outputs": [],
   "source": [
    "parser = JsonOutputParser(pydantic_object=News)"
   ]
  },
  {
   "cell_type": "code",
   "execution_count": 61,
   "metadata": {},
   "outputs": [],
   "source": [
    "prompt = PromptTemplate(\n",
    "    template=\"Answer the user query \\n{format_instructions}\\n{query}\\n\",\n",
    "    input_variables=[\"query\"],\n",
    "    partial_variables={\"format_instructions\": parser.get_format_instructions()},\n",
    ")\n"
   ]
  },
  {
   "cell_type": "code",
   "execution_count": 62,
   "metadata": {},
   "outputs": [
    {
     "data": {
      "text/plain": [
       "{'topic': 'Quantum Computing', 'title': ['1. ']}"
      ]
     },
     "execution_count": 62,
     "metadata": {},
     "output_type": "execute_result"
    }
   ],
   "source": [
    "prompt_and_model = prompt | model\n",
    "output = prompt_and_model.invoke({\"query\": \"Tell me the last 5 news about quantum computing.\"})\n",
    "parser.invoke(output)"
   ]
  },
  {
   "cell_type": "code",
   "execution_count": null,
   "metadata": {},
   "outputs": [],
   "source": []
  }
 ],
 "metadata": {
  "kernelspec": {
   "display_name": "langchain",
   "language": "python",
   "name": "python3"
  },
  "language_info": {
   "codemirror_mode": {
    "name": "ipython",
    "version": 3
   },
   "file_extension": ".py",
   "mimetype": "text/x-python",
   "name": "python",
   "nbconvert_exporter": "python",
   "pygments_lexer": "ipython3",
   "version": "3.11.8"
  }
 },
 "nbformat": 4,
 "nbformat_minor": 2
}
