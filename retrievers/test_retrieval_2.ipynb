{
 "cells": [
  {
   "cell_type": "code",
   "execution_count": 40,
   "metadata": {},
   "outputs": [],
   "source": [
    "query='tel me 5 news about quantum computing and last 5 about cloud computing? If you dont know how to answer'"
   ]
  },
  {
   "cell_type": "code",
   "execution_count": 41,
   "metadata": {},
   "outputs": [],
   "source": [
    "from langchain.retrievers.multi_query import MultiQueryRetriever\n",
    "from langchain_openai import ChatOpenAI\n",
    "import logging\n",
    "import sys\n",
    "from langchain.retrievers.multi_query import MultiQueryRetriever\n",
    "from langchain_openai import ChatOpenAI\n",
    "import logging\n",
    "sys.path.append(r\"C:\\Users\\ELAFACRB1\\Codice\\GitHub\\media-chat-service\\src\\embedding\")\n",
    "from utils import ChromaDBManager, LangChainAI, QDrantDBManager, EmbeddingFunction\n",
    "from langchain.chains import RetrievalQA"
   ]
  },
  {
   "cell_type": "code",
   "execution_count": 42,
   "metadata": {},
   "outputs": [
    {
     "name": "stdout",
     "output_type": "stream",
     "text": [
      "Collection rio-rag-platform already exists!\n"
     ]
    }
   ],
   "source": [
    "embedding = EmbeddingFunction('openAI').embedder\n",
    "vectore_store=qdrantClient = QDrantDBManager(\n",
    "    url=\"http://ec2-18-209-145-26.compute-1.amazonaws.com:6333/dashboard\",\n",
    "    port=6333,\n",
    "    collection_name=\"rio-rag-platform\",\n",
    "    vector_size=1536,\n",
    "    embedding=embedding,\n",
    "    record_manager_url=r\"sqlite:///C:\\Users\\ELAFACRB1\\Codice\\GitHub\\media-chat-service\\src\\embedding\\record_manager_cache.sql\"\n",
    ")\n",
    "vectore_store_client=vectore_store.vector_store"
   ]
  },
  {
   "cell_type": "code",
   "execution_count": 43,
   "metadata": {},
   "outputs": [],
   "source": [
    "llm = ChatOpenAI(temperature=0)"
   ]
  },
  {
   "cell_type": "code",
   "execution_count": 44,
   "metadata": {},
   "outputs": [],
   "source": [
    "logging.basicConfig()\n",
    "logging.getLogger(\"langchain.retrievers.multi_query\").setLevel(logging.INFO)"
   ]
  },
  {
   "cell_type": "code",
   "execution_count": 45,
   "metadata": {},
   "outputs": [],
   "source": [
    "retriever_from_llm = MultiQueryRetriever.from_llm(\n",
    "    retriever=vectore_store_client.as_retriever(), \n",
    "    llm=llm\n",
    ")"
   ]
  },
  {
   "cell_type": "code",
   "execution_count": 46,
   "metadata": {},
   "outputs": [],
   "source": [
    "qa_chain = RetrievalQA.from_chain_type(\n",
    "    llm,\n",
    "    chain_type=\"stuff\",\n",
    "    retriever=retriever_from_llm,\n",
    "    return_source_documents=True,\n",
    ")"
   ]
  },
  {
   "cell_type": "code",
   "execution_count": 47,
   "metadata": {},
   "outputs": [
    {
     "name": "stderr",
     "output_type": "stream",
     "text": [
      "INFO:langchain.retrievers.multi_query:Generated queries: ['1. What is the concept of quantum computing?', '2. Can you provide information on the principles behind quantum computing?', '3. How does quantum computing differ from classical computing?']\n"
     ]
    }
   ],
   "source": [
    "res=qa_chain(query)"
   ]
  },
  {
   "cell_type": "code",
   "execution_count": 48,
   "metadata": {},
   "outputs": [
    {
     "data": {
      "text/plain": [
       "'Quantum computing operates using qubits that can be both 0 and 1 simultaneously, unlike classical computers that use bits. This unique feature allows quantum computers to process massive amounts of information all at once, giving them incredible power. By encoding information into quantum systems like atoms or photons, quantum computers apply the laws of quantum mechanics to solve problems with enhanced speed, efficiency, and insight.'"
      ]
     },
     "execution_count": 48,
     "metadata": {},
     "output_type": "execute_result"
    }
   ],
   "source": [
    "res['result']"
   ]
  },
  {
   "cell_type": "code",
   "execution_count": 38,
   "metadata": {},
   "outputs": [],
   "source": [
    "from langchain.schema.output_parser import StrOutputParser\n",
    "from langchain.schema.runnable import RunnablePassthrough\n",
    "from langchain.chains import RetrievalQAWithSourcesChain\n",
    "from langchain.output_parsers import ResponseSchema, StructuredOutputParser"
   ]
  },
  {
   "cell_type": "code",
   "execution_count": 39,
   "metadata": {},
   "outputs": [],
   "source": [
    "response_schemas = [\n",
    "    ResponseSchema(\n",
    "        name=\"title\", \n",
    "        description=\"title of the news\"\n",
    "    ),\n",
    "    ResponseSchema(\n",
    "        name=\"text\",\n",
    "        description=\"long text (at least 3 row long) of the retrieved news\",\n",
    "    ),\n",
    "    ResponseSchema(\n",
    "        name=\"url\",\n",
    "        description=\"url of the news\"\n",
    "    ),\n",
    "]\n",
    "output_parser = StructuredOutputParser.from_response_schemas(response_schemas)\n",
    "format_instructions=output_parser.get_format_instructions()"
   ]
  }
 ],
 "metadata": {
  "kernelspec": {
   "display_name": "langchain",
   "language": "python",
   "name": "python3"
  },
  "language_info": {
   "codemirror_mode": {
    "name": "ipython",
    "version": 3
   },
   "file_extension": ".py",
   "mimetype": "text/x-python",
   "name": "python",
   "nbconvert_exporter": "python",
   "pygments_lexer": "ipython3",
   "version": "3.11.8"
  }
 },
 "nbformat": 4,
 "nbformat_minor": 2
}
